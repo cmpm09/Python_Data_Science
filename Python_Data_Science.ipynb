{
  "nbformat": 4,
  "nbformat_minor": 0,
  "metadata": {
    "colab": {
      "provenance": [],
      "toc_visible": true,
      "include_colab_link": true
    },
    "kernelspec": {
      "name": "python3",
      "display_name": "Python 3"
    },
    "language_info": {
      "name": "python"
    }
  },
  "cells": [
    {
      "cell_type": "markdown",
      "metadata": {
        "id": "view-in-github",
        "colab_type": "text"
      },
      "source": [
        "<a href=\"https://colab.research.google.com/github/cmpm09/Python_Data_Science/blob/main/Python_Data_Science.ipynb\" target=\"_parent\"><img src=\"https://colab.research.google.com/assets/colab-badge.svg\" alt=\"Open In Colab\"/></a>"
      ]
    },
    {
      "cell_type": "markdown",
      "source": [
        "# Python para Data Science\n",
        "\n",
        "Notebook para el curso de Python para Data Science publicado en la plataforma de [Alura Latam](https://www.aluracursos.com/)"
      ],
      "metadata": {
        "id": "lQx6Mmv0OJyT"
      }
    },
    {
      "cell_type": "markdown",
      "source": [
        "# Primer lección: Introducción a Python\n",
        "¡Vamos a conocer Python, nuestro ambiente de estudio, y también generaremos nuestro primer código en este lenguaje!"
      ],
      "metadata": {
        "id": "7SiB6JIpYKmY"
      }
    },
    {
      "cell_type": "markdown",
      "source": [
        "## Google Colaboratory\n",
        "\n",
        "Ya aprendimos qué es [Python](https://www.python.org/) y ahora aprenderemos a usar nuestra herramienta de ejecución [Google Colaboratory](https://colab.research.google.com/) para programar en un notebook interactivo.\n",
        "\n",
        "Vamos a probar algunas funciones de este ambiente."
      ],
      "metadata": {
        "id": "Yugfb3fCOYY9"
      }
    },
    {
      "cell_type": "markdown",
      "source": [
        " **`>>> Usa esta celda para mover <<<`**"
      ],
      "metadata": {
        "id": "2iUHQsJasJAk"
      }
    },
    {
      "cell_type": "code",
      "source": [],
      "metadata": {
        "id": "o7jrX_iKhdkU"
      },
      "execution_count": null,
      "outputs": []
    },
    {
      "cell_type": "markdown",
      "source": [
        "**Notas**\n",
        "\n",
        "###Abrir código\n",
        "\n",
        "---\n",
        "\n",
        "*   Esc + b = Agrega línea de código abajo\n",
        "*   Esc + a = Agrega línea de código arriba"
      ],
      "metadata": {
        "id": "wMwqoPtfpjsM"
      }
    },
    {
      "cell_type": "markdown",
      "source": [
        "### Ejecutar\n",
        "\n",
        "---\n",
        "\n",
        "*   Ctrol + Enter\n",
        "*   Shift + Enter"
      ],
      "metadata": {
        "id": "ubedFcJBOKuR"
      }
    },
    {
      "cell_type": "markdown",
      "source": [
        "### Función Imprimir\n",
        "---\n",
        "\n",
        "*   print() = Imprime objetos en la pantalla"
      ],
      "metadata": {
        "id": "ZFrK9z0AOP0j"
      }
    },
    {
      "cell_type": "markdown",
      "source": [
        "## ¡Hola mundo!\n",
        "\n",
        "Vamos a conocer un poco más de cerca nuestro notebook. Para ello ejecutaremos nuestro primer comando en Python: [`print()`](https://docs.python.org/3/library/functions.html#print)"
      ],
      "metadata": {
        "id": "aLSFP2V7XTfe"
      }
    },
    {
      "cell_type": "code",
      "source": [
        "print(\"¡Hola mundo!\")"
      ],
      "metadata": {
        "id": "0qZX8_ZQBYyk",
        "colab": {
          "base_uri": "https://localhost:8080/"
        },
        "outputId": "cdab7679-ce15-4fe0-a4e9-6a9a488d61c4"
      },
      "execution_count": null,
      "outputs": [
        {
          "output_type": "stream",
          "name": "stdout",
          "text": [
            "¡Hola mundo!\n"
          ]
        }
      ]
    },
    {
      "cell_type": "code",
      "source": [
        "15"
      ],
      "metadata": {
        "id": "GLMzF_AKBY7a",
        "colab": {
          "base_uri": "https://localhost:8080/"
        },
        "outputId": "4fdcea1d-7576-4d85-a248-48336965a5dd"
      },
      "execution_count": null,
      "outputs": [
        {
          "output_type": "execute_result",
          "data": {
            "text/plain": [
              "15"
            ]
          },
          "metadata": {},
          "execution_count": 3
        }
      ]
    },
    {
      "cell_type": "markdown",
      "source": [],
      "metadata": {
        "id": "SUl-JNetn4io"
      }
    },
    {
      "cell_type": "code",
      "source": [
        "print('Mi nombre es Cristina y tengo 21 años y estoy aprendiendo sobre la ciencia de datos')"
      ],
      "metadata": {
        "colab": {
          "base_uri": "https://localhost:8080/"
        },
        "id": "4pfA80FgnkJF",
        "outputId": "abaf325a-ae37-4d7b-f1aa-69ba2fd429fb"
      },
      "execution_count": null,
      "outputs": [
        {
          "output_type": "stream",
          "name": "stdout",
          "text": [
            "Mi nombre es Cristina y tengo 21 años y estoy aprendiendo sobre la ciencia de datos\n"
          ]
        }
      ]
    },
    {
      "cell_type": "markdown",
      "source": [
        "## Desafíos\n",
        "---\n",
        "\n"
      ],
      "metadata": {
        "id": "CA-7mY-UoRmf"
      }
    },
    {
      "cell_type": "markdown",
      "source": [
        "1 - Imprime la frase \"Escuela de Datos de Alura\"."
      ],
      "metadata": {
        "id": "ath0IuFIrEMQ"
      }
    },
    {
      "cell_type": "code",
      "source": [
        "print('Escuela de Datos de Alura')"
      ],
      "metadata": {
        "colab": {
          "base_uri": "https://localhost:8080/"
        },
        "id": "PL-NM5I7q8KE",
        "outputId": "0e50b9d4-546f-4131-9789-716331a2c6f3"
      },
      "execution_count": null,
      "outputs": [
        {
          "output_type": "stream",
          "name": "stdout",
          "text": [
            "Escuela de Datos de Alura\n"
          ]
        }
      ]
    },
    {
      "cell_type": "markdown",
      "source": [
        "2 - Imprime tu nombre y tu apellido siguiendo la estructura a continuación:"
      ],
      "metadata": {
        "id": "x3rPh7HYrQdm"
      }
    },
    {
      "cell_type": "code",
      "source": [
        "print('Nombre: Cristina')\n",
        "print('Apellido: Ponce')"
      ],
      "metadata": {
        "colab": {
          "base_uri": "https://localhost:8080/"
        },
        "id": "8kt02PqarUWa",
        "outputId": "9e6be530-965b-431a-c778-e2499a68ccee"
      },
      "execution_count": null,
      "outputs": [
        {
          "output_type": "stream",
          "name": "stdout",
          "text": [
            "Nombre: Cristina\n",
            "Apellido: Ponce\n"
          ]
        }
      ]
    },
    {
      "cell_type": "markdown",
      "source": [
        "3 - Imprime tu primer nombre letra por letra."
      ],
      "metadata": {
        "id": "CroThjYor4v6"
      }
    },
    {
      "cell_type": "code",
      "source": [
        "print('C')\n",
        "print('R')\n",
        "print('I')\n",
        "print('S')\n",
        "print('T')\n",
        "print('I')\n",
        "print('N')\n",
        "print('A')"
      ],
      "metadata": {
        "colab": {
          "base_uri": "https://localhost:8080/"
        },
        "id": "nA5lstscr8yd",
        "outputId": "5f412221-142f-47fd-f921-938fbf05b5c1"
      },
      "execution_count": null,
      "outputs": [
        {
          "output_type": "stream",
          "name": "stdout",
          "text": [
            "C\n",
            "R\n",
            "I\n",
            "S\n",
            "T\n",
            "I\n",
            "N\n",
            "A\n"
          ]
        }
      ]
    },
    {
      "cell_type": "markdown",
      "source": [
        "4 - Imprime tu fecha de nacimiento en formato día mes año. Recuerda que los valores de día y año no deben estar entre comillas."
      ],
      "metadata": {
        "id": "tqzXWRvasRwu"
      }
    },
    {
      "cell_type": "code",
      "source": [
        "print(31,\"octubre\",2003)"
      ],
      "metadata": {
        "colab": {
          "base_uri": "https://localhost:8080/"
        },
        "id": "gBOOxiAAsTxF",
        "outputId": "178f831b-be80-4e16-b099-1794f77d44e6"
      },
      "execution_count": null,
      "outputs": [
        {
          "output_type": "stream",
          "name": "stdout",
          "text": [
            "31 octubre 2003\n"
          ]
        }
      ]
    },
    {
      "cell_type": "markdown",
      "source": [
        "5 - Imprime, en una sola instrucción print, el año actual en el que estás realizando este curso. El valor del año debe ser un dato numérico"
      ],
      "metadata": {
        "id": "L64zFcIAscSE"
      }
    },
    {
      "cell_type": "code",
      "source": [
        "print('Año actual:',2025)"
      ],
      "metadata": {
        "colab": {
          "base_uri": "https://localhost:8080/"
        },
        "id": "K_b1rGtFsmxw",
        "outputId": "c85adfb8-a8de-4bf1-e797-55c8de350379"
      },
      "execution_count": null,
      "outputs": [
        {
          "output_type": "stream",
          "name": "stdout",
          "text": [
            "Año actual: 2025\n"
          ]
        }
      ]
    },
    {
      "cell_type": "markdown",
      "source": [
        "# Segunda lección: Manipulando los datos\n",
        "\n",
        "Vamos a aprender sobre las variables en Python, cómo declararlas y utilizarlas además de conocer otros comandos de este lenguaje. :D"
      ],
      "metadata": {
        "id": "iP8uWQmFYFRs"
      }
    },
    {
      "cell_type": "markdown",
      "source": [
        "## Variables\n",
        "\n",
        "En Data Science trabajamos con varios tipos de datos e informaciones, entonces es esencial saber cómo trabajar con las variables."
      ],
      "metadata": {
        "id": "sLNVmnTbag1Z"
      }
    },
    {
      "cell_type": "markdown",
      "source": [
        "Las variables en Python se crean cuando atribuimos un valor a ella.\n",
        "\n",
        "Para esto, colocamos el nombre de la variable, el signo de igual (`=`) y el valor que queremos atribuirle."
      ],
      "metadata": {
        "id": "lsCY0wahAbf6"
      }
    },
    {
      "cell_type": "code",
      "source": [
        "5"
      ],
      "metadata": {
        "id": "vsHh5buZADND",
        "colab": {
          "base_uri": "https://localhost:8080/"
        },
        "outputId": "805333e8-dcb9-42f8-8386-d508c63d3ec3"
      },
      "execution_count": null,
      "outputs": [
        {
          "output_type": "execute_result",
          "data": {
            "text/plain": [
              "5"
            ]
          },
          "metadata": {},
          "execution_count": 68
        }
      ]
    },
    {
      "cell_type": "code",
      "source": [
        "id(5)"
      ],
      "metadata": {
        "id": "sivPtqSjADQV",
        "colab": {
          "base_uri": "https://localhost:8080/"
        },
        "outputId": "76024571-39cb-4d47-e278-5d0945b3211e"
      },
      "execution_count": null,
      "outputs": [
        {
          "output_type": "execute_result",
          "data": {
            "text/plain": [
              "10750984"
            ]
          },
          "metadata": {},
          "execution_count": 69
        }
      ]
    },
    {
      "cell_type": "code",
      "source": [
        "id(5)"
      ],
      "metadata": {
        "id": "JC8jO47wADlm",
        "colab": {
          "base_uri": "https://localhost:8080/"
        },
        "outputId": "1a254377-442b-4365-de24-2cdd3d1f8e84"
      },
      "execution_count": null,
      "outputs": [
        {
          "output_type": "execute_result",
          "data": {
            "text/plain": [
              "10750984"
            ]
          },
          "metadata": {},
          "execution_count": 70
        }
      ]
    },
    {
      "cell_type": "code",
      "source": [
        "edad = 5"
      ],
      "metadata": {
        "id": "v6Gxed0w4yXd"
      },
      "execution_count": null,
      "outputs": []
    },
    {
      "cell_type": "code",
      "source": [
        "print(id(edad))\n",
        "print(id(5))"
      ],
      "metadata": {
        "id": "9DraCPkG44Q1",
        "outputId": "fcaa1103-f075-445a-861f-2046bf4797d7",
        "colab": {
          "base_uri": "https://localhost:8080/"
        }
      },
      "execution_count": null,
      "outputs": [
        {
          "output_type": "stream",
          "name": "stdout",
          "text": [
            "10750984\n",
            "10750984\n"
          ]
        }
      ]
    },
    {
      "cell_type": "code",
      "source": [
        "print(edad)"
      ],
      "metadata": {
        "id": "RMSiZ58D45-X",
        "outputId": "455c728a-523d-4e22-b1f9-2388259d74b3",
        "colab": {
          "base_uri": "https://localhost:8080/"
        }
      },
      "execution_count": null,
      "outputs": [
        {
          "output_type": "stream",
          "name": "stdout",
          "text": [
            "5\n"
          ]
        }
      ]
    },
    {
      "cell_type": "code",
      "source": [
        "numerocinco=5"
      ],
      "metadata": {
        "id": "ivu5tVj146dd"
      },
      "execution_count": null,
      "outputs": []
    },
    {
      "cell_type": "code",
      "source": [
        "print(id(numerocinco))"
      ],
      "metadata": {
        "id": "jFU7eFuz5bT5",
        "outputId": "ff2397ce-c496-49eb-b3bc-945431f95904",
        "colab": {
          "base_uri": "https://localhost:8080/"
        }
      },
      "execution_count": null,
      "outputs": [
        {
          "output_type": "stream",
          "name": "stdout",
          "text": [
            "10750984\n"
          ]
        }
      ]
    },
    {
      "cell_type": "code",
      "source": [
        "nombre='Cristina'"
      ],
      "metadata": {
        "id": "E6bYL-Dz5dQE"
      },
      "execution_count": null,
      "outputs": []
    },
    {
      "cell_type": "code",
      "source": [
        "id('Cristina')"
      ],
      "metadata": {
        "id": "7UEvO5UG5r9e",
        "outputId": "7a466257-6dea-4406-b207-a209f9dd898c",
        "colab": {
          "base_uri": "https://localhost:8080/"
        }
      },
      "execution_count": null,
      "outputs": [
        {
          "output_type": "execute_result",
          "data": {
            "text/plain": [
              "139450444265712"
            ]
          },
          "metadata": {},
          "execution_count": 77
        }
      ]
    },
    {
      "cell_type": "code",
      "source": [
        "id(nombre)"
      ],
      "metadata": {
        "id": "QitY0O4I5wvI",
        "outputId": "1278cb69-7120-4c3f-97ac-a3423186b549",
        "colab": {
          "base_uri": "https://localhost:8080/"
        }
      },
      "execution_count": null,
      "outputs": [
        {
          "output_type": "execute_result",
          "data": {
            "text/plain": [
              "139450444265712"
            ]
          },
          "metadata": {},
          "execution_count": 78
        }
      ]
    },
    {
      "cell_type": "markdown",
      "source": [
        "Existen algunos tipos de nomes que **no** podemos definir para las variables:\n",
        "\n",
        "- **Nombres que comiencen con números**\n",
        "  - Ejemplos: `10_notas`, `2_nombre_casa`, etc.\n",
        "- **Palabras separadas por espacio**\n",
        "  - Ejemplos: `Nombre escuela`, `notas estudiantes`, etc.\n",
        "- **Nombres de funciones de Python**\n",
        "  - Ejemplos: `print`, `type`, etc."
      ],
      "metadata": {
        "id": "om2N0jHKAzwL"
      }
    },
    {
      "cell_type": "markdown",
      "source": [
        "> Las letras mayúsculas y minúsculas generarán diferentes variables. La variable `edad` es diferente de `Edad` que a su vez es diferente de `EDAD`:\n",
        "``` Python\n",
        "edad = 1\n",
        "Edad = 2\n",
        "EDAD = 3\n",
        "_edad = 4\n",
        "_edad_ = 5\n",
        "print(edad, Edad, EDAD, _edad, _edad_)\n",
        "1 2 3 4 5\n",
        "```"
      ],
      "metadata": {
        "id": "A19vY2GVMujB"
      }
    },
    {
      "cell_type": "markdown",
      "source": [
        "Notas\n",
        "### Comentarios en Pythin\n",
        "\n",
        "\n",
        "---\n",
        "\n",
        "\n",
        "*   De una línea: se coloca # Antes de cada texto.\n",
        "\n",
        "*   De varias líneas: deben iniciar y terminar con comillas triples. Ejemplo: \"\"\" Hola \"\"\" o '''Hola'''\n",
        "\n"
      ],
      "metadata": {
        "id": "5AKaPsXL6sok"
      }
    },
    {
      "cell_type": "markdown",
      "source": [
        "###Otros operadores\n",
        "\n",
        "---\n",
        "\n",
        "\n",
        "*   Exponente (^) = **\n",
        "*   Módulo (Residuo completo de una división)= %\n",
        "*   División entera = //\n",
        "\n",
        "\n"
      ],
      "metadata": {
        "id": "7vj0rwWtOW7B"
      }
    },
    {
      "cell_type": "markdown",
      "source": [
        "## Tipos de variables\n",
        "\n",
        "Cada variable contiene una clase específica con respecto al tipo de objeto al cual esta hace referencia. Estas clases serán diferentes de acuerdo con el tipo de dato que le sea atribuido a una variable.\n",
        "\n",
        "Para conocer la clase de cada elemento usamos la función [`type()`](https://docs.python.org/3/library/functions.html#type)"
      ],
      "metadata": {
        "id": "UqhzuBhBHsps"
      }
    },
    {
      "cell_type": "markdown",
      "source": [
        "1. Entera (int)"
      ],
      "metadata": {
        "id": "Tn8NhMVF8mBa"
      }
    },
    {
      "cell_type": "code",
      "source": [
        "edad = 5"
      ],
      "metadata": {
        "id": "EI6ZFioO8czM"
      },
      "execution_count": null,
      "outputs": []
    },
    {
      "cell_type": "code",
      "source": [
        "type(edad)"
      ],
      "metadata": {
        "id": "J5a9t73A_-PX",
        "colab": {
          "base_uri": "https://localhost:8080/"
        },
        "outputId": "2024b3a2-34d8-4ef9-9fca-f03376a89330"
      },
      "execution_count": null,
      "outputs": [
        {
          "output_type": "execute_result",
          "data": {
            "text/plain": [
              "int"
            ]
          },
          "metadata": {},
          "execution_count": 30
        }
      ]
    },
    {
      "cell_type": "markdown",
      "source": [
        "2. Float: Almacena números con decimales"
      ],
      "metadata": {
        "id": "f3hs1mXT84hG"
      }
    },
    {
      "cell_type": "code",
      "source": [
        "promedio = 9.5"
      ],
      "metadata": {
        "id": "rqmO1ew-_-So"
      },
      "execution_count": null,
      "outputs": []
    },
    {
      "cell_type": "code",
      "source": [
        "type(promedio)"
      ],
      "metadata": {
        "id": "gxEvv7Vc82yZ",
        "outputId": "895398d7-ce6c-49e8-b574-2b9642b05fa1",
        "colab": {
          "base_uri": "https://localhost:8080/"
        }
      },
      "execution_count": null,
      "outputs": [
        {
          "output_type": "execute_result",
          "data": {
            "text/plain": [
              "float"
            ]
          },
          "metadata": {},
          "execution_count": 34
        }
      ]
    },
    {
      "cell_type": "markdown",
      "source": [
        "3. Cadena de caractéres (str)"
      ],
      "metadata": {
        "id": "HgfmP9gk9dpA"
      }
    },
    {
      "cell_type": "code",
      "source": [
        "nombre=\"Cristina\""
      ],
      "metadata": {
        "id": "1fjhfawj83NS"
      },
      "execution_count": null,
      "outputs": []
    },
    {
      "cell_type": "code",
      "source": [
        "type(nombre)"
      ],
      "metadata": {
        "id": "xkrPMkeY_-cP",
        "colab": {
          "base_uri": "https://localhost:8080/"
        },
        "outputId": "6575c795-3cdf-4848-9650-66860a7199b1"
      },
      "execution_count": null,
      "outputs": [
        {
          "output_type": "execute_result",
          "data": {
            "text/plain": [
              "str"
            ]
          },
          "metadata": {},
          "execution_count": 36
        }
      ]
    },
    {
      "cell_type": "markdown",
      "source": [
        "4. Booleana (bool): verdadero o falso"
      ],
      "metadata": {
        "id": "Xcd8hPyR9usv"
      }
    },
    {
      "cell_type": "code",
      "source": [
        "v = True"
      ],
      "metadata": {
        "id": "vf4wDcsy9s2U"
      },
      "execution_count": null,
      "outputs": []
    },
    {
      "cell_type": "code",
      "source": [
        "type(v)"
      ],
      "metadata": {
        "id": "UjcUzNxw9tEP",
        "outputId": "fa87b7e1-3b37-497b-d8b2-be17c8225c08",
        "colab": {
          "base_uri": "https://localhost:8080/"
        }
      },
      "execution_count": null,
      "outputs": [
        {
          "output_type": "execute_result",
          "data": {
            "text/plain": [
              "bool"
            ]
          },
          "metadata": {},
          "execution_count": 38
        }
      ]
    },
    {
      "cell_type": "markdown",
      "source": [
        "En un conjunto de datos escolares podemos tener varios tipos de informaciones. Supongamos que tenemos acceso a la ficha de datos del alumno *Penélope Camacho*, cómo transformamos este nombre en variables de Python?\n",
        "\n",
        " Ficha:\n",
        "\n",
        "- Nombre: Penélope Camacho\n",
        "- Edad: 11 años\n",
        "- Promedio del semestre: 9,75\n",
        "- Situación de aprobación: Verdadera (aprobado)"
      ],
      "metadata": {
        "id": "O-FxDumfWu0C"
      }
    },
    {
      "cell_type": "code",
      "source": [
        "nombre_estudiante = 'Penélope Camacho'\n",
        "edad_estudiante = 11\n",
        "promedio_estudiante = 9.75\n",
        "aprobado = True\n",
        "\n",
        "print(nombre_estudiante,edad_estudiante,promedio_estudiante,aprobado)\n",
        "print(type(nombre_estudiante),type(edad_estudiante),type(promedio_estudiante),type(aprobado))"
      ],
      "metadata": {
        "id": "FabQ7jQf_8Xt",
        "colab": {
          "base_uri": "https://localhost:8080/"
        },
        "outputId": "3e6571a2-909c-4df5-9cbe-35c20229f06b"
      },
      "execution_count": null,
      "outputs": [
        {
          "output_type": "stream",
          "name": "stdout",
          "text": [
            "Penélope Camacho 11 9.75 True\n",
            "<class 'str'> <class 'int'> <class 'float'> <class 'bool'>\n"
          ]
        }
      ]
    },
    {
      "cell_type": "markdown",
      "source": [
        "## Variables numéricas\n",
        "\n",
        "Entre los tipos de datos numéricos vamos a enfocarnos en los tipos `entero` y `float`."
      ],
      "metadata": {
        "id": "KFq_8Sxf-OG0"
      }
    },
    {
      "cell_type": "markdown",
      "source": [
        "Tenemos una tabla de información sobre los diversos cargos, cantidad de personas empleadas y el salario correspondiente:\n",
        "\n",
        "|Cargo | Cantidad | Salario|\n",
        "|---|---|---|\n",
        "|Vigilante | 5 | 300 |\n",
        "|Docente | 16| 500|\n",
        "|Coordinador| 2 |600|\n",
        "\n",
        "Necesitamos trabajar con estos datos para obtener:\n",
        "\n",
        "- La cantidad total de empleados;\n",
        "- La diferencia entre el salario más bajo y más alto; y\n",
        "- El promedio ponderado de los salarios de los empleados de la escuela."
      ],
      "metadata": {
        "id": "8_HYUbkVYdQY"
      }
    },
    {
      "cell_type": "code",
      "source": [
        "c_vigilante = 5\n",
        "s_vigilante = 300\n",
        "\n",
        "c_docentes = 16\n",
        "s_docentes = 500\n",
        "\n",
        "c_coordinador = 2\n",
        "s_coordinador = 600"
      ],
      "metadata": {
        "id": "F_X-wxdm_5Ys"
      },
      "execution_count": null,
      "outputs": []
    },
    {
      "cell_type": "code",
      "source": [
        "total_empleados= c_vigilante + c_coordinador + c_docentes\n",
        "total_empleados"
      ],
      "metadata": {
        "id": "gKmBbhII_5b9",
        "colab": {
          "base_uri": "https://localhost:8080/"
        },
        "outputId": "195e71d4-79b1-44c4-ff0b-b24d521e6842"
      },
      "execution_count": null,
      "outputs": [
        {
          "output_type": "execute_result",
          "data": {
            "text/plain": [
              "23"
            ]
          },
          "metadata": {},
          "execution_count": 44
        }
      ]
    },
    {
      "cell_type": "code",
      "source": [
        "diferencia_salario= s_coordinador- s_vigilante\n",
        "diferencia_salario"
      ],
      "metadata": {
        "id": "fIugsxNy_53j",
        "colab": {
          "base_uri": "https://localhost:8080/"
        },
        "outputId": "931cd4e0-c6b8-416d-a3f2-107662bc6af4"
      },
      "execution_count": null,
      "outputs": [
        {
          "output_type": "execute_result",
          "data": {
            "text/plain": [
              "300"
            ]
          },
          "metadata": {},
          "execution_count": 45
        }
      ]
    },
    {
      "cell_type": "code",
      "source": [
        "promedio_salarios = (c_vigilante * s_vigilante + c_docentes * s_docentes\n",
        "                     + c_coordinador * s_coordinador)/total_empleados\n",
        "promedio_salarios"
      ],
      "metadata": {
        "id": "J8FISa7HGKwS",
        "outputId": "315abeb5-988d-4afd-a05a-32e24955159c",
        "colab": {
          "base_uri": "https://localhost:8080/"
        }
      },
      "execution_count": null,
      "outputs": [
        {
          "output_type": "execute_result",
          "data": {
            "text/plain": [
              "465.2173913043478"
            ]
          },
          "metadata": {},
          "execution_count": 48
        }
      ]
    },
    {
      "cell_type": "code",
      "source": [
        "type(promedio_salarios)"
      ],
      "metadata": {
        "id": "-VbOceSKGtjG",
        "outputId": "53c74b1a-4d19-41d8-d661-38fb8d591e13",
        "colab": {
          "base_uri": "https://localhost:8080/"
        }
      },
      "execution_count": null,
      "outputs": [
        {
          "output_type": "execute_result",
          "data": {
            "text/plain": [
              "float"
            ]
          },
          "metadata": {},
          "execution_count": 49
        }
      ]
    },
    {
      "cell_type": "markdown",
      "source": [
        "## Strings (cadenas de texto)"
      ],
      "metadata": {
        "id": "yQy7b0ZWoD-P"
      }
    },
    {
      "cell_type": "markdown",
      "source": [
        "Strings hace referencia a un conjunto de caracteres formando un texto.\n",
        "\n",
        "Podemos crear Strings cuando atribuimos un dato a una variable entre comillas sencillas (`'`) o comillas dobles (`\"`)."
      ],
      "metadata": {
        "id": "vlo2-DXusv3s"
      }
    },
    {
      "cell_type": "code",
      "source": [
        "t='Alura'\n",
        "type(t)"
      ],
      "metadata": {
        "id": "ityEWqvh_2wK",
        "colab": {
          "base_uri": "https://localhost:8080/"
        },
        "outputId": "b46de5c4-363a-4b8e-acd8-c10643244186"
      },
      "execution_count": null,
      "outputs": [
        {
          "output_type": "execute_result",
          "data": {
            "text/plain": [
              "str"
            ]
          },
          "metadata": {},
          "execution_count": 51
        }
      ]
    },
    {
      "cell_type": "markdown",
      "source": [
        "Las variables textuales son objetos que poseen métodos que nos ayudan a formatear strings. Los métodos los podemos ejecutar al definir un objeto de acuerdo con la siguiente estructura:\n",
        "\n",
        "```\n",
        "objeto.metodo()\n",
        "```\n",
        "\n",
        "Existen métodos que no necesitan los `()`, siempre es una buena práctica verificar la documentación para cada caso."
      ],
      "metadata": {
        "id": "2e9UD_CCxqz_"
      }
    },
    {
      "cell_type": "markdown",
      "source": [
        "---\n",
        "**Situación:**\n",
        "\n",
        "Recibimos una variable con el nombre de una profesora de la escuela para añadirla a los registros. Sin embargo, necesitamos darle un tratamiento a este texto antes de insertarlo al sistema."
      ],
      "metadata": {
        "id": "p6aPmMGP4tf9"
      }
    },
    {
      "cell_type": "code",
      "source": [
        "texto = '  Micaela de los Sanyos '\n",
        "id(texto)"
      ],
      "metadata": {
        "id": "icDWtYTjBO0n",
        "colab": {
          "base_uri": "https://localhost:8080/"
        },
        "outputId": "cb8b2ee3-1087-4f3b-f064-56220cd7b9d5"
      },
      "execution_count": null,
      "outputs": [
        {
          "output_type": "execute_result",
          "data": {
            "text/plain": [
              "139450444900160"
            ]
          },
          "metadata": {},
          "execution_count": 59
        }
      ]
    },
    {
      "cell_type": "markdown",
      "source": [
        "El objetivo final es que el nombre aparezca de la siguiente forma:\n",
        "\n",
        "```\n",
        "'MICAELA DE LOS SANTOS'\n",
        "```"
      ],
      "metadata": {
        "id": "Dg2ZXSZOGzjC"
      }
    },
    {
      "cell_type": "markdown",
      "source": [
        "### [`str.upper()` ](https://docs.python.org/3/library/stdtypes.html#str.upper)\n",
        "Convierte una string a mayúsculas."
      ],
      "metadata": {
        "id": "iVTAD8q702eN"
      }
    },
    {
      "cell_type": "code",
      "source": [
        "texto.upper()"
      ],
      "metadata": {
        "id": "wMVshJrY_ZXh",
        "colab": {
          "base_uri": "https://localhost:8080/",
          "height": 35
        },
        "outputId": "b28341af-2f7a-4224-b731-ed3219405af9"
      },
      "execution_count": null,
      "outputs": [
        {
          "output_type": "execute_result",
          "data": {
            "text/plain": [
              "'  MICAELA DE LOS SANYOS '"
            ],
            "application/vnd.google.colaboratory.intrinsic+json": {
              "type": "string"
            }
          },
          "metadata": {},
          "execution_count": 54
        }
      ]
    },
    {
      "cell_type": "markdown",
      "source": [
        "### [`str.lower()`](https://docs.python.org/3/library/stdtypes.html#str.lower)\n",
        "Convierte una string a minúsculas."
      ],
      "metadata": {
        "id": "hbDSBtMV1TpG"
      }
    },
    {
      "cell_type": "code",
      "source": [
        "texto.lower()"
      ],
      "metadata": {
        "id": "px3yEeNH_YK4",
        "colab": {
          "base_uri": "https://localhost:8080/",
          "height": 35
        },
        "outputId": "e7b0e844-3657-40fb-8d3c-d2561ab301bc"
      },
      "execution_count": null,
      "outputs": [
        {
          "output_type": "execute_result",
          "data": {
            "text/plain": [
              "'  micaela de los sanyos '"
            ],
            "application/vnd.google.colaboratory.intrinsic+json": {
              "type": "string"
            }
          },
          "metadata": {},
          "execution_count": 55
        }
      ]
    },
    {
      "cell_type": "markdown",
      "source": [
        "### [`str.strip()`](https://docs.python.org/3/library/stdtypes.html#str.strip)\n",
        "Elimina los espacios en blanco al inicio y al final de una string."
      ],
      "metadata": {
        "id": "kz47eWM11gii"
      }
    },
    {
      "cell_type": "code",
      "source": [
        "texto.strip()"
      ],
      "metadata": {
        "id": "76dLgNa4_XAe",
        "colab": {
          "base_uri": "https://localhost:8080/",
          "height": 35
        },
        "outputId": "87e1d828-342b-47b8-c654-a7c5de4512f3"
      },
      "execution_count": null,
      "outputs": [
        {
          "output_type": "execute_result",
          "data": {
            "text/plain": [
              "'Micaela de los Sanyos'"
            ],
            "application/vnd.google.colaboratory.intrinsic+json": {
              "type": "string"
            }
          },
          "metadata": {},
          "execution_count": 56
        }
      ]
    },
    {
      "cell_type": "markdown",
      "source": [
        "### [`str.replace(antiguo, nuevo)`](https://docs.python.org/3/library/stdtypes.html#str.replace)\n",
        "\n",
        "Sustituye todas las ocurrencias del texto \"antiguo\" en la string por el  \"nuevo\"."
      ],
      "metadata": {
        "id": "m6notiyS1SCV"
      }
    },
    {
      "cell_type": "code",
      "source": [
        "texto.replace('y','t')"
      ],
      "metadata": {
        "id": "PNXAixtE_V6R",
        "colab": {
          "base_uri": "https://localhost:8080/",
          "height": 35
        },
        "outputId": "703745ae-dc21-4936-ebfd-bdcfd34c84d5"
      },
      "execution_count": null,
      "outputs": [
        {
          "output_type": "execute_result",
          "data": {
            "text/plain": [
              "'  Micaela de los Santos '"
            ],
            "application/vnd.google.colaboratory.intrinsic+json": {
              "type": "string"
            }
          },
          "metadata": {},
          "execution_count": 57
        }
      ]
    },
    {
      "cell_type": "code",
      "source": [
        "texto"
      ],
      "metadata": {
        "colab": {
          "base_uri": "https://localhost:8080/",
          "height": 35
        },
        "id": "6s22xBJ7LW3l",
        "outputId": "a8aada79-5a27-4316-8745-2aecf4719461"
      },
      "execution_count": null,
      "outputs": [
        {
          "output_type": "execute_result",
          "data": {
            "text/plain": [
              "'  Micaela de los Sanyos '"
            ],
            "application/vnd.google.colaboratory.intrinsic+json": {
              "type": "string"
            }
          },
          "metadata": {},
          "execution_count": 61
        }
      ]
    },
    {
      "cell_type": "code",
      "source": [
        "id(texto)"
      ],
      "metadata": {
        "colab": {
          "base_uri": "https://localhost:8080/"
        },
        "id": "VQY8d737LrE7",
        "outputId": "84869ee0-0945-4dd6-9c8f-2c74aac93496"
      },
      "execution_count": null,
      "outputs": [
        {
          "output_type": "execute_result",
          "data": {
            "text/plain": [
              "139450444900160"
            ]
          },
          "metadata": {},
          "execution_count": 62
        }
      ]
    },
    {
      "cell_type": "markdown",
      "source": [
        "### Observaciones\n",
        "\n",
        "1. Los métodos devuelven una **tranformación**, no son ejecutados directamente sobre la variable donde está almacenado el texto.\n",
        "\n",
        "2. Adicionalmente, podemos acumular la ejecución de los métodos."
      ],
      "metadata": {
        "id": "zukvEjhG2Rcn"
      }
    },
    {
      "cell_type": "code",
      "source": [
        "texto"
      ],
      "metadata": {
        "outputId": "a8aada79-5a27-4316-8745-2aecf4719461",
        "colab": {
          "base_uri": "https://localhost:8080/",
          "height": 35
        },
        "id": "ePJ6cJAxL1Vy"
      },
      "execution_count": null,
      "outputs": [
        {
          "output_type": "execute_result",
          "data": {
            "text/plain": [
              "'  Micaela de los Sanyos '"
            ],
            "application/vnd.google.colaboratory.intrinsic+json": {
              "type": "string"
            }
          },
          "metadata": {},
          "execution_count": 61
        }
      ]
    },
    {
      "cell_type": "code",
      "source": [
        "id(texto)"
      ],
      "metadata": {
        "colab": {
          "base_uri": "https://localhost:8080/"
        },
        "outputId": "84869ee0-0945-4dd6-9c8f-2c74aac93496",
        "id": "g3Z0cGnLL6B_"
      },
      "execution_count": null,
      "outputs": [
        {
          "output_type": "execute_result",
          "data": {
            "text/plain": [
              "139450444900160"
            ]
          },
          "metadata": {},
          "execution_count": 62
        }
      ]
    },
    {
      "cell_type": "markdown",
      "source": [
        "Para que la transformación se pueda ejecutar debemos atribuir la salida de las transformaciones a las variables"
      ],
      "metadata": {
        "id": "1KbwfVut2h6I"
      }
    },
    {
      "cell_type": "code",
      "source": [
        "nuevo_texto = texto.strip().replace('y','t').upper()\n",
        "print(nuevo_texto)\n",
        "print(id(texto), id(nuevo_texto))"
      ],
      "metadata": {
        "id": "m1RvLGZZ_SP3",
        "colab": {
          "base_uri": "https://localhost:8080/"
        },
        "outputId": "8dd8aa40-a481-47c1-8b70-2bdbeef83786"
      },
      "execution_count": null,
      "outputs": [
        {
          "output_type": "stream",
          "name": "stdout",
          "text": [
            "MICAELA DE LOS SANTOS\n",
            "139450444900160 139450429848944\n"
          ]
        }
      ]
    },
    {
      "cell_type": "code",
      "source": [
        "texto = texto.strip().replace('y','t').upper()\n",
        "print(texto)\n",
        "print(id(texto), id(nuevo_texto))"
      ],
      "metadata": {
        "id": "cgzP4fdbMu1y",
        "outputId": "978b3424-0041-4d4c-a30b-0bba9da239ed",
        "colab": {
          "base_uri": "https://localhost:8080/"
        }
      },
      "execution_count": null,
      "outputs": [
        {
          "output_type": "stream",
          "name": "stdout",
          "text": [
            "MICAELA DE LOS SANTOS\n",
            "139450430001504 139450429848944\n"
          ]
        }
      ]
    },
    {
      "cell_type": "markdown",
      "source": [
        "## Capturando datos\n",
        "\n",
        "En algunas aplicaciones necesitamos capturar los valores del usuario de nuestro proyecto. En python, logramos capturar los datos del usuario a través del comando [`input()`](https://docs.python.org/3/library/functions.html#input).\n",
        "\n",
        "Para ejecutar la captura debemos atribuir el resultado de esta función a una variable."
      ],
      "metadata": {
        "id": "0h9Fh5G9kHCa"
      }
    },
    {
      "cell_type": "code",
      "source": [
        "nombre = input(\"Escribe tu nombre: \")"
      ],
      "metadata": {
        "id": "zbH_9i3q_PdY",
        "colab": {
          "base_uri": "https://localhost:8080/"
        },
        "outputId": "5cf89b97-95fd-4eaf-d795-2d78ec6bb08e"
      },
      "execution_count": null,
      "outputs": [
        {
          "name": "stdout",
          "output_type": "stream",
          "text": [
            "Escribe tu nombre: Cristina\n"
          ]
        }
      ]
    },
    {
      "cell_type": "markdown",
      "source": [
        "###Conversión de valores\n",
        "Existen funciones para la conversión de valores:\n",
        "\n",
        "- Enteros: [`int(dato_para_conversion)`](https://docs.python.org/3/library/functions.html#int)\n",
        "- Coma flotante: [`float(dato_para_conversion)`](https://docs.python.org/3/library/functions.html#float)\n",
        "- String: [`str(dato_para_conversion)`](https://docs.python.org/3/library/functions.html#func-str)\n",
        "- Booleano: [`bool(dato_para_conversion)`](https://docs.python.org/3/library/functions.html#bool)"
      ],
      "metadata": {
        "id": "TOlegATj1Jfp"
      }
    },
    {
      "cell_type": "code",
      "source": [
        "ano_adminision = int(input('Digita el año de admisión: '))"
      ],
      "metadata": {
        "id": "M2ueeH6l_NMe",
        "colab": {
          "base_uri": "https://localhost:8080/"
        },
        "outputId": "b9dd2f4d-bd7a-40eb-b01c-19daee8d1561"
      },
      "execution_count": null,
      "outputs": [
        {
          "name": "stdout",
          "output_type": "stream",
          "text": [
            "Digita el año de admisión: 2025\n"
          ]
        }
      ]
    },
    {
      "cell_type": "code",
      "source": [
        "type(ano_adminision)"
      ],
      "metadata": {
        "id": "xfWwuViK_NUn",
        "colab": {
          "base_uri": "https://localhost:8080/"
        },
        "outputId": "7f8eaeec-4993-4f88-9d27-a733a0baf90e"
      },
      "execution_count": null,
      "outputs": [
        {
          "output_type": "execute_result",
          "data": {
            "text/plain": [
              "int"
            ]
          },
          "metadata": {},
          "execution_count": 110
        }
      ]
    },
    {
      "cell_type": "code",
      "source": [
        "nota_adminision = float(input('Digita la nota de adminisión;  '))"
      ],
      "metadata": {
        "id": "uFCHDyew_NZm",
        "colab": {
          "base_uri": "https://localhost:8080/"
        },
        "outputId": "f04aaed1-870a-4d20-aa0c-4c399bf78d5b"
      },
      "execution_count": null,
      "outputs": [
        {
          "name": "stdout",
          "output_type": "stream",
          "text": [
            "Digita la nota de adminisión;  98.5\n"
          ]
        }
      ]
    },
    {
      "cell_type": "code",
      "source": [
        "type(nota_adminision)"
      ],
      "metadata": {
        "id": "whHu8ZlZSaOQ",
        "outputId": "91d2cf52-0930-480e-fc37-653e115e2f35",
        "colab": {
          "base_uri": "https://localhost:8080/"
        }
      },
      "execution_count": null,
      "outputs": [
        {
          "output_type": "execute_result",
          "data": {
            "text/plain": [
              "float"
            ]
          },
          "metadata": {},
          "execution_count": 114
        }
      ]
    },
    {
      "cell_type": "code",
      "source": [
        "ano_adminision+nota_adminision"
      ],
      "metadata": {
        "id": "SkInasI3SsDH",
        "outputId": "7eabbe19-cd21-494e-869f-53ab9804f10a",
        "colab": {
          "base_uri": "https://localhost:8080/"
        }
      },
      "execution_count": null,
      "outputs": [
        {
          "output_type": "execute_result",
          "data": {
            "text/plain": [
              "2123.5"
            ]
          },
          "metadata": {},
          "execution_count": 115
        }
      ]
    },
    {
      "cell_type": "markdown",
      "source": [
        "### Imprimir texto con variables, sangría y renglón\n",
        "Trataremos de representar mejor ahora el resultado de la transformación que obtuvimos. Nosotros podemos formatear y presentar nuestro resultado mezclando strings con valores no textuales.\n",
        "\n",
        "Para ello utilizamos la estructura de formatación `f` con strings."
      ],
      "metadata": {
        "id": "yNI2-XTbB3aS"
      }
    },
    {
      "cell_type": "code",
      "source": [
        "print(f'\\tEl año de adminisión fue: {ano_adminision}\\n\\tLa nota de admisión fue: {nota_adminision}')"
      ],
      "metadata": {
        "id": "keJjA5N9_K5i",
        "colab": {
          "base_uri": "https://localhost:8080/"
        },
        "outputId": "f5fe93ed-572a-42c4-a65a-e55c887ae008"
      },
      "execution_count": null,
      "outputs": [
        {
          "output_type": "stream",
          "name": "stdout",
          "text": [
            "\tEl año de adminisión fue: 2025\n",
            "\tLa nota de admisión fue: 98.5\n"
          ]
        }
      ]
    },
    {
      "cell_type": "markdown",
      "source": [
        "## Unicode\n",
        "Es caso de que se quiera imprimir un caracter de un idioma no común se puede usar su número de carácter unicode, este incluye todo el abecedario en español y de muchos otros idiomas, y se escribe:\n",
        "\n",
        "chr(número)"
      ],
      "metadata": {
        "id": "kTMFPHCmUUgD"
      }
    },
    {
      "cell_type": "markdown",
      "source": [
        "## Diversos formatos de print()\n",
        "\n"
      ],
      "metadata": {
        "id": "elMzYcMDVtPs"
      }
    },
    {
      "cell_type": "markdown",
      "source": [
        "###Operador de Formateo\n",
        "Permite la inserción de variables en puntos específicos en la cadena de texto utilizando el operador %. Este operador funciona como un marcador, indicando dónde se expondrá el valor de la variable en la cadena.\n",
        "\n",
        "El % debe ir acompañado de una palabra clave para cada tipo de variable que se desee agregar. De acuerdo con el tipo de variable:\n",
        "\n",
        "\n",
        "*   Cadena de texto = **%s**\n",
        "*   Entero = **%d**\n",
        "*   Punto flotanto = **%f**  (agregando un punto y un número intermedio se definen la cantidad de decimales. Ejemplo %.2f = 2 decimales)\n",
        "*   Caractér = **%c**\n",
        "\n",
        "En caso de ser *boolean* se debe convertir a *cadena de texto*\n",
        "\n",
        "Ejemplo:\n",
        "\n"
      ],
      "metadata": {
        "id": "Cs0rOSVmYTM6"
      }
    },
    {
      "cell_type": "code",
      "source": [
        "nombre_alumno = 'Penélope Camacho'\n",
        "print('Nombre del alumno: %s' %(nombre_alumno))"
      ],
      "metadata": {
        "id": "59B6MyNHWjT5",
        "outputId": "55d425c4-16fc-4969-b61d-8efc712a5d15",
        "colab": {
          "base_uri": "https://localhost:8080/"
        }
      },
      "execution_count": null,
      "outputs": [
        {
          "output_type": "stream",
          "name": "stdout",
          "text": [
            "Nombre del alumno: Penélope Camacho\n"
          ]
        }
      ]
    },
    {
      "cell_type": "markdown",
      "source": [
        "Más de una variable se acomoda al final según como aparezcan en el texto"
      ],
      "metadata": {
        "id": "13PHS8yNWyj5"
      }
    },
    {
      "cell_type": "code",
      "source": [
        "nombre_alumno = 'Penélope Camacho'\n",
        "edad_alumno = 11\n",
        "media_alumno = 9.95\n",
        "print('Nombre del alumno es %s, tiene %d años y su media es %.2f.' %(nombre_alumno, edad_alumno, media_alumno))"
      ],
      "metadata": {
        "id": "ts-X_abLWz3M",
        "outputId": "f08b2e03-30d3-48ab-94f1-6fcd6a843a72",
        "colab": {
          "base_uri": "https://localhost:8080/"
        }
      },
      "execution_count": null,
      "outputs": [
        {
          "output_type": "stream",
          "name": "stdout",
          "text": [
            "Nombre del alumno es Penélope Camacho, tiene 11 años y su media es 9.95.\n"
          ]
        }
      ]
    },
    {
      "cell_type": "markdown",
      "source": [
        "### Método .format()\n",
        "Es más flexible y permite pasar las variables directamente dentro de la cadena, sin necesidad de operadores %. Los marcadores son simplemente {}. Por ejemplo:"
      ],
      "metadata": {
        "id": "UJ97RuU0YJKF"
      }
    },
    {
      "cell_type": "code",
      "source": [
        "nombre_alumno = 'Penélope Camacho'\n",
        "print('Nombre del alumno: {}'.format(nombre_alumno))"
      ],
      "metadata": {
        "id": "-kBh7cPWYf1o",
        "outputId": "5a76d658-e8e8-4243-c347-372123e7b91f",
        "colab": {
          "base_uri": "https://localhost:8080/"
        }
      },
      "execution_count": null,
      "outputs": [
        {
          "output_type": "stream",
          "name": "stdout",
          "text": [
            "Nombre del alumno: Penélope Camacho\n"
          ]
        }
      ]
    },
    {
      "cell_type": "markdown",
      "source": [
        "Más de una variable se acomoda al final según como aparezcan en el texto"
      ],
      "metadata": {
        "id": "pxjpQXAwYi1L"
      }
    },
    {
      "cell_type": "code",
      "source": [
        "nombre_alumno = 'Fabricio Daniel'\n",
        "edad_alumno = 15\n",
        "media_alumno = 9.95\n",
        "print('Nombre del alumno es {}, tiene {} años y su media es {}.' .format(nombre_alumno, edad_alumno, media_alumno))"
      ],
      "metadata": {
        "id": "MAv4JcpqYoyH",
        "outputId": "cd29a057-be4a-4e66-f2a9-162694d9819f",
        "colab": {
          "base_uri": "https://localhost:8080/"
        }
      },
      "execution_count": null,
      "outputs": [
        {
          "output_type": "stream",
          "name": "stdout",
          "text": [
            "Nombre del alumno es Fabricio Daniel, tiene 15 años y su media es 9.95.\n"
          ]
        }
      ]
    },
    {
      "cell_type": "markdown",
      "source": [
        "##Caracteres Especiales: para hacer textos y otro\n",
        "Se utilizan para representar acciones especiales o caracteres que no se pueden escribir directamente\n",
        "\n",
        "\n",
        "1.   **\\n** es el carácter de nueva línea y se usa para saltar una línea en el texto (similar a la función \"Enter\").\n",
        "2.   **\\t** es el carácter de tabulación y se utiliza para agregar un espacio de tabulación en el texto.\n",
        "3. **\\\\\\** se usa para imprimir una sola barra invertida.\n",
        "4. **\\\\\"** antes y al final se utiliza para imprimir comillas dobles cuando estamos trabajando con una cadena creada con comillas dobles \" en el interior.\n",
        "5. **\\\\'** antes y al final se utiliza para imprimir comillas simples cuando estamos trabajando con una cadena creada con comillas simples '\n",
        "\n",
        "Ejemplo por orden:\n",
        "\n"
      ],
      "metadata": {
        "id": "OPH5DtIGZu1F"
      }
    },
    {
      "cell_type": "code",
      "source": [
        "print(1)\n",
        "print(\"Estudiar es un esfuerzo constante,\\nEs como cultivar una planta,\\nNecesitamos dedicación y paciencia,\\nPara ver madurar el fruto.\")\n",
        "\n",
        "print()\n",
        "print(2)\n",
        "print('Cantidad\\tCalidad\\n5 muestras\\tAlta\\n3 muestras\\tBaja')\n",
        "\n",
        "print()\n",
        "print(3)\n",
        "print(\"Ruta del archivo: C:\\\\archivos\\\\documento.csv\")\n",
        "\n",
        "print()\n",
        "print(4)\n",
        "print(\"Una vez oí: \\\"Los frutos del conocimiento son los más dulces y duraderos de todos.\\\"\")\n",
        "\n",
        "print()\n",
        "print(5)\n",
        "print('Mi profesora una vez dijo: \\'Estudiar es la clave del éxito.\\'')"
      ],
      "metadata": {
        "id": "LprS-jGxah3K",
        "outputId": "58ef10dd-2121-4967-df80-521748884793",
        "colab": {
          "base_uri": "https://localhost:8080/"
        }
      },
      "execution_count": null,
      "outputs": [
        {
          "output_type": "stream",
          "name": "stdout",
          "text": [
            "1\n",
            "Estudiar es un esfuerzo constante,\n",
            "Es como cultivar una planta,\n",
            "Necesitamos dedicación y paciencia,\n",
            "Para ver madurar el fruto.\n",
            "\n",
            "2\n",
            "Cantidad\tCalidad\n",
            "5 muestras\tAlta\n",
            "3 muestras\tBaja\n",
            "\n",
            "3\n",
            "Ruta del archivo: C:\\archivos\\documento.csv\n",
            "\n",
            "4\n",
            "Una vez oí: \"Los frutos del conocimiento son los más dulces y duraderos de todos.\"\n",
            "\n",
            "5\n",
            "Mi profesora una vez dijo: 'Estudiar es la clave del éxito.'\n"
          ]
        }
      ]
    },
    {
      "cell_type": "markdown",
      "source": [
        "## Desafíos"
      ],
      "metadata": {
        "id": "vSzHoSvokHff"
      }
    },
    {
      "cell_type": "markdown",
      "source": [
        "### Recopilación y muestra de datos"
      ],
      "metadata": {
        "id": "9EVsSoi4kNbx"
      }
    },
    {
      "cell_type": "markdown",
      "source": [
        "1 - Crea un programa que solicite al usuario que escriba su nombre y luego imprima \"Hola, [nombre].\""
      ],
      "metadata": {
        "id": "taJDU2iTka6f"
      }
    },
    {
      "cell_type": "code",
      "source": [
        "nombre_usuario=input('Escribe tu nombre: ')\n",
        "print('Hola, {}'.format(nombre_usuario))"
      ],
      "metadata": {
        "id": "UyRX2txCkb4V",
        "outputId": "e7b746ec-3d96-45af-d788-348a6bd175d9",
        "colab": {
          "base_uri": "https://localhost:8080/"
        }
      },
      "execution_count": null,
      "outputs": [
        {
          "output_type": "stream",
          "name": "stdout",
          "text": [
            "Escribe tu nombre: Cris\n",
            "Hola, Cris\n"
          ]
        }
      ]
    },
    {
      "cell_type": "markdown",
      "source": [
        "2 - Crea un programa que solicite al usuario que escriba su nombre y edad, y luego imprima \"Hola, [nombre], tienes [edad] años.\""
      ],
      "metadata": {
        "id": "b469Z3Jykpt6"
      }
    },
    {
      "cell_type": "code",
      "source": [
        "nombre_usuario=input('Escribe tu nombre: ')\n",
        "edad_usuario=input('Escribe tu edad: ')\n",
        "print('Hola, {}, tienes {} años'.format(nombre_usuario, edad_usuario))"
      ],
      "metadata": {
        "id": "vCDb5_kXktHk",
        "outputId": "e76b4691-52c3-4a0f-ff07-882e538f6b2d",
        "colab": {
          "base_uri": "https://localhost:8080/"
        }
      },
      "execution_count": null,
      "outputs": [
        {
          "output_type": "stream",
          "name": "stdout",
          "text": [
            "Escribe tu nombre: Cris\n",
            "Escribe tu edad: 21\n",
            "Hola, Cris, tienes 21 años\n"
          ]
        }
      ]
    },
    {
      "cell_type": "markdown",
      "source": [
        "3 - Crea un programa que solicite al usuario que escriba su nombre, edad y altura en metros, y luego imprima \"Hola, [nombre], tienes [edad] años y mides [altura] metros.\""
      ],
      "metadata": {
        "id": "2DeZ0d2Vl0Xt"
      }
    },
    {
      "cell_type": "code",
      "source": [
        "nombre_usuario=input('Escribe tu nombre: ')\n",
        "edad_usuario=input('Escribe tu edad: ')\n",
        "altura_usuario=input('Escribe tu altura en metros: ')\n",
        "print('Hola, {}, tienes {} años y mides {} metros'.format(nombre_usuario, edad_usuario,altura_usuario))"
      ],
      "metadata": {
        "id": "r9AMBh5Sl50A",
        "outputId": "b8e17018-1532-431a-8207-e3f5d8bafecc",
        "colab": {
          "base_uri": "https://localhost:8080/"
        }
      },
      "execution_count": null,
      "outputs": [
        {
          "output_type": "stream",
          "name": "stdout",
          "text": [
            "Escribe tu nombre: Cris\n",
            "Escribe tu edad: 21\n",
            "Escribe tu altura en metros: 1.68\n",
            "Hola, Cris, tienes 21 años y mides 1.68 metros\n"
          ]
        }
      ]
    },
    {
      "cell_type": "markdown",
      "source": [
        "###Calculadora con operadores"
      ],
      "metadata": {
        "id": "H7z-Wt1ymTNP"
      }
    },
    {
      "cell_type": "markdown",
      "source": [
        "4 - Crea un programa que solicite dos valores numéricos al usuario y luego imprima la suma de ambos valores."
      ],
      "metadata": {
        "id": "1sVCIEq-mYCC"
      }
    },
    {
      "cell_type": "code",
      "source": [
        "valor1=int(input('Escribe un número: '))\n",
        "valor2=int(input('Escribe otro número: '))\n",
        "suma_valores=valor1+valor2\n",
        "print('La suma de los valores es: {}'.format(suma_valores))"
      ],
      "metadata": {
        "id": "6Rk0bNDlmZqu",
        "outputId": "e0782e94-fbcc-4acb-dba5-6fc538034f7d",
        "colab": {
          "base_uri": "https://localhost:8080/"
        }
      },
      "execution_count": null,
      "outputs": [
        {
          "output_type": "stream",
          "name": "stdout",
          "text": [
            "Escribe un número: 5\n",
            "Escribe otro número: 10\n",
            "La suma de los valores es: 15\n"
          ]
        }
      ]
    },
    {
      "cell_type": "markdown",
      "source": [
        "5 - Crea un programa que solicite tres valores numéricos al usuario y luego imprima la suma de los tres valores."
      ],
      "metadata": {
        "id": "QGS1Ld5km2Vl"
      }
    },
    {
      "cell_type": "code",
      "source": [
        "valor1=int(input('Escribe un número: '))\n",
        "valor2=int(input('Escribe otro número: '))\n",
        "valor3=int(input('Escribe otro número: '))\n",
        "suma_valores=valor1+valor2+valor3\n",
        "print('La suma de los valores es: {}'.format(suma_valores))"
      ],
      "metadata": {
        "id": "ImJ_D_qYm4tm",
        "outputId": "b2fe9ea4-f795-4078-e793-e981f9b4666b",
        "colab": {
          "base_uri": "https://localhost:8080/"
        }
      },
      "execution_count": null,
      "outputs": [
        {
          "output_type": "stream",
          "name": "stdout",
          "text": [
            "Escribe un número: 11\n",
            "Escribe otro número: 12\n",
            "Escribe otro número: 50\n",
            "La suma de los valores es: 73\n"
          ]
        }
      ]
    },
    {
      "cell_type": "markdown",
      "source": [
        "6 - Crea un programa que solicite dos valores numéricos al usuario y luego imprima la resta del primero menos el segundo valor."
      ],
      "metadata": {
        "id": "tjDP-lW6nBPd"
      }
    },
    {
      "cell_type": "code",
      "source": [
        "valor1=int(input('Escribe un número: '))\n",
        "valor2=int(input('Escribe otro número: '))\n",
        "resta_valores=valor1-valor2\n",
        "print('La resta de los valores es: {}'.format(resta_valores))"
      ],
      "metadata": {
        "id": "Ql1VqEecnCiW",
        "outputId": "1f73ba0d-89c8-4453-8c15-8bf96294a3c9",
        "colab": {
          "base_uri": "https://localhost:8080/"
        }
      },
      "execution_count": null,
      "outputs": [
        {
          "output_type": "stream",
          "name": "stdout",
          "text": [
            "Escribe un número: 10\n",
            "Escribe otro número: 5\n",
            "La resta de los valores es: 5\n"
          ]
        }
      ]
    },
    {
      "cell_type": "markdown",
      "source": [
        "7 - Crea un programa que solicite dos valores numéricos al usuario y luego imprima la multiplicación de los dos valores"
      ],
      "metadata": {
        "id": "bEY1kolPnNf6"
      }
    },
    {
      "cell_type": "code",
      "source": [
        "valor1=int(input('Escribe un número: '))\n",
        "valor2=int(input('Escribe otro número: '))\n",
        "multiplicacion_valores=valor1*valor2\n",
        "print('La multiplicación de los valores es: {}'.format(multiplicacion_valores))"
      ],
      "metadata": {
        "id": "VhS8nRSCnOLz",
        "outputId": "adde00b6-58b6-479d-8ece-7a7a075fde74",
        "colab": {
          "base_uri": "https://localhost:8080/"
        }
      },
      "execution_count": null,
      "outputs": [
        {
          "output_type": "stream",
          "name": "stdout",
          "text": [
            "Escribe un número: 5\n",
            "Escribe otro número: 10\n",
            "La multiplicación de los valores es: 50\n"
          ]
        }
      ]
    },
    {
      "cell_type": "markdown",
      "source": [
        "8 - Crea un programa que solicite dos valores numéricos, un numerador y un denominador, y realice la división entre los dos valores. Asegúrate de que el valor del denominador no sea igual a 0."
      ],
      "metadata": {
        "id": "ai3QtEZYnmci"
      }
    },
    {
      "cell_type": "code",
      "source": [
        "# prompt: Crea un programa que solicite dos valores numéricos, un numerador y un denominador, y realice la división entre los dos valores. Asegúrate de que el valor del denominador no sea igual a 0.\n",
        "\n",
        "numerador = float(input('Escribe el numerador: '))\n",
        "denominador = float(input('Escribe el denominador: '))\n",
        "\n",
        "if denominador == 0:\n",
        "  print('Error: El denominador no puede ser cero.')\n",
        "else:\n",
        "  resultado = numerador / denominador\n",
        "  print(f'El resultado de la división es: {resultado}')\n"
      ],
      "metadata": {
        "id": "JWDx0lqYnnGi"
      },
      "execution_count": null,
      "outputs": []
    },
    {
      "cell_type": "markdown",
      "source": [
        "9 - Crea un programa que solicite dos valores numéricos, un operador y una potencia, y realice la exponenciación entre estos dos valores."
      ],
      "metadata": {
        "id": "Giw1eiYfn4EX"
      }
    },
    {
      "cell_type": "code",
      "source": [
        "valor1=int(input('Escribe un número (operador): '))\n",
        "valor2=int(input('Escribe otro número (potencia): '))\n",
        "exponente_valores=valor1**valor2\n",
        "print('La exponenciación de los valores es: {}'.format(exponente_valores))"
      ],
      "metadata": {
        "id": "PmCAE-oLoE1N",
        "outputId": "d3ec282f-63f0-46e2-c03e-6e99eb1f2f39",
        "colab": {
          "base_uri": "https://localhost:8080/"
        }
      },
      "execution_count": null,
      "outputs": [
        {
          "output_type": "stream",
          "name": "stdout",
          "text": [
            "Escribe un número (operador): 2\n",
            "Escribe otro número (potencia): 3\n",
            "La exponenciación de los valores es: 8\n"
          ]
        }
      ]
    },
    {
      "cell_type": "markdown",
      "source": [
        "10 - Crea un programa que solicite dos valores numéricos, un numerador y un denominador, y realice la división entera entre los dos valores. Asegúrate de que el valor del denominador no sea igual a 0."
      ],
      "metadata": {
        "id": "K-PXkafTogZN"
      }
    },
    {
      "cell_type": "code",
      "source": [
        "numerador = float(input('Escribe el numerador: '))\n",
        "denominador = float(input('Escribe el denominador: '))\n",
        "\n",
        "if denominador == 0:\n",
        "  print('Error: El denominador no puede ser cero.')\n",
        "else:\n",
        "  resultado = numerador // denominador\n",
        "  print(f'El resultado de la división entera es: {resultado}')"
      ],
      "metadata": {
        "id": "fcxJ3H_eog6-",
        "outputId": "8c0058f7-3e84-4bee-eeae-8b01ee53d76b",
        "colab": {
          "base_uri": "https://localhost:8080/"
        }
      },
      "execution_count": null,
      "outputs": [
        {
          "output_type": "stream",
          "name": "stdout",
          "text": [
            "Escribe el numerador: 5\n",
            "Escribe el denominador: 2\n",
            "El resultado de la división entera es: 2.0\n"
          ]
        }
      ]
    },
    {
      "cell_type": "markdown",
      "source": [
        "11 - Crea un programa que solicite dos valores numéricos, un numerador y un denominador, y devuelva el resto de la división entre los dos valores. Asegúrate de que el valor del denominador no sea igual a 0."
      ],
      "metadata": {
        "id": "gki4RQ-9pU8E"
      }
    },
    {
      "cell_type": "code",
      "source": [
        "numerador = float(input('Escribe el numerador: '))\n",
        "denominador = float(input('Escribe el denominador: '))\n",
        "\n",
        "if denominador == 0:\n",
        "  print('Error: El denominador no puede ser cero.')\n",
        "else:\n",
        "  resultado = numerador % denominador\n",
        "  print(f'El resto de la división entera es: {resultado}')"
      ],
      "metadata": {
        "id": "FhI7kCMVpWE8",
        "outputId": "f43b6748-8939-4148-88fa-f48ad7b40667",
        "colab": {
          "base_uri": "https://localhost:8080/"
        }
      },
      "execution_count": null,
      "outputs": [
        {
          "output_type": "stream",
          "name": "stdout",
          "text": [
            "Escribe el numerador: 9\n",
            "Escribe el denominador: 5\n",
            "El resto de la división entera es: 4.0\n"
          ]
        }
      ]
    },
    {
      "cell_type": "markdown",
      "source": [
        "12 - Crea un código que solicite las 3 notas de un estudiante e imprima el promedio de las notas."
      ],
      "metadata": {
        "id": "hFQz17s4ppwU"
      }
    },
    {
      "cell_type": "code",
      "source": [
        "nota1=float(input('Escribe la primera nota: '))\n",
        "nota2=float(input('Escribe la segunda nota: '))\n",
        "nota3=float(input('Escribe la tercera nota: '))\n",
        "\n",
        "promedio_estudiante=(nota1+nota2+nota3)/3\n",
        "\n",
        "print('El promedio de las notas es: %.2f ' %(promedio_estudiante))"
      ],
      "metadata": {
        "id": "RMlYoO7vpqQD",
        "outputId": "49ee04a2-038f-48c6-ac66-8c730131f8f3",
        "colab": {
          "base_uri": "https://localhost:8080/"
        }
      },
      "execution_count": null,
      "outputs": [
        {
          "output_type": "stream",
          "name": "stdout",
          "text": [
            "Escribe la primera nota: 10\n",
            "Escribe la segunda nota: 5\n",
            "Escribe la tercera nota: 7\n",
            "El promedio de las notas es: 7.33 \n"
          ]
        }
      ]
    },
    {
      "cell_type": "markdown",
      "source": [
        "13 - Crea un código que calcule e imprima el promedio ponderado de los números 5, 12, 20 y 15 con pesos respectivamente iguales a 1, 2, 3 y 4."
      ],
      "metadata": {
        "id": "--oBwFcnqZuY"
      }
    },
    {
      "cell_type": "code",
      "source": [
        "# prompt: crea un código que calcule e imprima el promedio ponderado de los números 5, 12, 20 y 15 con pesos respectivamente iguales a 1, 2, 3 y 4.\n",
        "\n",
        "numeros = [5, 12, 20, 15]\n",
        "pesos = [1, 2, 3, 4]\n",
        "\n",
        "suma_productos = sum(num * peso for num, peso in zip(numeros, pesos))\n",
        "suma_pesos = sum(pesos)\n",
        "\n",
        "promedio_ponderado = suma_productos / suma_pesos\n",
        "\n",
        "print(f\"El promedio ponderado es: {promedio_ponderado}\")\n"
      ],
      "metadata": {
        "id": "n_1SQbT4qaQg",
        "outputId": "737a613d-2bbb-4c20-d6f3-910a19f22681",
        "colab": {
          "base_uri": "https://localhost:8080/"
        }
      },
      "execution_count": null,
      "outputs": [
        {
          "output_type": "stream",
          "name": "stdout",
          "text": [
            "El promedio ponderado es: 14.9\n"
          ]
        }
      ]
    },
    {
      "cell_type": "markdown",
      "source": [
        "### Editando textos"
      ],
      "metadata": {
        "id": "NS7_u5CLqiN4"
      }
    },
    {
      "cell_type": "markdown",
      "source": [
        "14 - Crea una variable llamada \"frase\" y asígnale una cadena de texto de tu elección. Luego, imprime la frase en pantalla."
      ],
      "metadata": {
        "id": "Q_eLmSXL3vS0"
      }
    },
    {
      "cell_type": "code",
      "source": [
        "frase=\"Ojos que no ven, necesitan lentes\"\n",
        "\n",
        "print(frase)"
      ],
      "metadata": {
        "id": "2IctOXa14Jo3",
        "outputId": "467475ee-c26d-4422-fd90-b1ea66c9d443",
        "colab": {
          "base_uri": "https://localhost:8080/"
        }
      },
      "execution_count": null,
      "outputs": [
        {
          "output_type": "stream",
          "name": "stdout",
          "text": [
            "Ojos que no ven, necesitan lentes\n"
          ]
        }
      ]
    },
    {
      "cell_type": "markdown",
      "source": [
        "15 - Crea un código que solicite una frase y luego imprima la frase en pantalla."
      ],
      "metadata": {
        "id": "k1WjPLVb4d8Z"
      }
    },
    {
      "cell_type": "code",
      "source": [
        "frase = input('Escribe una frase: ')\n",
        "\n",
        "print(frase)"
      ],
      "metadata": {
        "id": "oB0ILs8m4g_d",
        "outputId": "bbbcac6e-8ecd-4229-d8ed-0f676efee8d9",
        "colab": {
          "base_uri": "https://localhost:8080/"
        }
      },
      "execution_count": null,
      "outputs": [
        {
          "output_type": "stream",
          "name": "stdout",
          "text": [
            "Escribe una frase: Frase\n",
            "Frase\n"
          ]
        }
      ]
    },
    {
      "cell_type": "markdown",
      "source": [
        "16 - Crea un código que solicite una frase al usuario y luego imprima la misma frase ingresada pero en mayúsculas."
      ],
      "metadata": {
        "id": "iN_m44l34o4H"
      }
    },
    {
      "cell_type": "code",
      "source": [
        "frase = input('Escribe una frase: ')\n",
        "\n",
        "print(frase.upper())"
      ],
      "metadata": {
        "id": "kT6JVyse4scS",
        "outputId": "4e0366d8-bd45-4156-caee-a2375317709d",
        "colab": {
          "base_uri": "https://localhost:8080/"
        }
      },
      "execution_count": null,
      "outputs": [
        {
          "output_type": "stream",
          "name": "stdout",
          "text": [
            "Escribe una frase: hola\n",
            "HOLA\n"
          ]
        }
      ]
    },
    {
      "cell_type": "markdown",
      "source": [
        "17 - Crea un código que solicite una frase al usuario y luego imprima la misma frase ingresada pero en minúsculas."
      ],
      "metadata": {
        "id": "YbNT2-ed5Czo"
      }
    },
    {
      "cell_type": "code",
      "source": [
        "frase = input('Escribe una frase: ')\n",
        "\n",
        "print(frase.lower())"
      ],
      "metadata": {
        "id": "ZP9UFdzx5DWO",
        "outputId": "a819c430-295b-4ea1-c75c-7dc15ec7ecda",
        "colab": {
          "base_uri": "https://localhost:8080/"
        }
      },
      "execution_count": null,
      "outputs": [
        {
          "output_type": "stream",
          "name": "stdout",
          "text": [
            "Escribe una frase: HOLA\n",
            "hola\n"
          ]
        }
      ]
    },
    {
      "cell_type": "markdown",
      "source": [
        "18 - Crea una variable llamada \"frase\" y asígnale una cadena de texto de tu elección. Luego, imprime la frase sin espacios en blanco al principio y al final."
      ],
      "metadata": {
        "id": "mvdUSY075TGX"
      }
    },
    {
      "cell_type": "code",
      "source": [
        "frase=\"   Ojos que no ven, necesitan lentes   \"\n",
        "\n",
        "print(frase.strip())"
      ],
      "metadata": {
        "id": "90bsIe9y5SnS",
        "outputId": "8ccea58a-8940-40c3-f412-53af8bec83be",
        "colab": {
          "base_uri": "https://localhost:8080/"
        }
      },
      "execution_count": null,
      "outputs": [
        {
          "output_type": "stream",
          "name": "stdout",
          "text": [
            "Ojos que no ven, necesitan lentes\n"
          ]
        }
      ]
    },
    {
      "cell_type": "markdown",
      "source": [
        "19 - Crea un código que solicite una frase al usuario y luego imprima la misma frase sin espacios en blanco al principio y al final."
      ],
      "metadata": {
        "id": "4m3cAOT25b9O"
      }
    },
    {
      "cell_type": "code",
      "source": [
        "frase = input('Escribe una frase: ')\n",
        "print(frase.strip())"
      ],
      "metadata": {
        "id": "ha3Bi0J-5eL6",
        "outputId": "ed5ed9be-ca81-4071-cc29-d5fb18016f5b",
        "colab": {
          "base_uri": "https://localhost:8080/"
        }
      },
      "execution_count": null,
      "outputs": [
        {
          "output_type": "stream",
          "name": "stdout",
          "text": [
            "Escribe una frase:         Arbol que nace feo, feo se queda     \n",
            "Arbol que nace feo, feo se queda\n"
          ]
        }
      ]
    },
    {
      "cell_type": "markdown",
      "source": [
        "20 - Crea un código que solicite una frase al usuario y luego imprima la misma frase sin espacios en blanco al principio y al final, además de convertirla a minúsculas."
      ],
      "metadata": {
        "id": "N3hjj65s5oh-"
      }
    },
    {
      "cell_type": "code",
      "source": [
        "frase = input('Escribe una frase: ')\n",
        "print(frase.strip().lower())"
      ],
      "metadata": {
        "id": "norO8jj-5pax",
        "outputId": "a8d9b39e-68ee-4df5-fedd-c1edc16d2d46",
        "colab": {
          "base_uri": "https://localhost:8080/"
        }
      },
      "execution_count": null,
      "outputs": [
        {
          "output_type": "stream",
          "name": "stdout",
          "text": [
            "Escribe una frase:       Cristina Montserrat Ponce Martínez               \n",
            "cristina montserrat ponce martínez\n"
          ]
        }
      ]
    },
    {
      "cell_type": "markdown",
      "source": [
        "21 - Crea un código que solicite una frase al usuario y luego imprima la misma frase con todas las vocales \"e\" reemplazadas por la letra \"f\"."
      ],
      "metadata": {
        "id": "Yk67S_-m53nY"
      }
    },
    {
      "cell_type": "code",
      "source": [
        "frase = input('Escribe una frase: ')\n",
        "print(frase.replace(\"e\",\"f\"))"
      ],
      "metadata": {
        "id": "H9_jPwrY54GH",
        "outputId": "d54131a6-ced8-40ea-9204-096475dd69bb",
        "colab": {
          "base_uri": "https://localhost:8080/"
        }
      },
      "execution_count": null,
      "outputs": [
        {
          "output_type": "stream",
          "name": "stdout",
          "text": [
            "Escribe una frase: Eres una hermosa persona\n",
            "Erfs una hfrmosa pfrsona\n"
          ]
        }
      ]
    },
    {
      "cell_type": "markdown",
      "source": [
        "22 - Crea un código que solicite una frase al usuario y luego imprima la misma frase con todas las vocales \"a\" reemplazadas por el carácter \"@\"."
      ],
      "metadata": {
        "id": "CeO0Y7DW6Fo9"
      }
    },
    {
      "cell_type": "code",
      "source": [
        "frase = input('Escribe una frase: ')\n",
        "print(frase.replace(\"a\",\"@\"))"
      ],
      "metadata": {
        "id": "VtVG1VdB6Hvg",
        "outputId": "a1c8cd3f-c97c-426b-c901-e231ff20b884",
        "colab": {
          "base_uri": "https://localhost:8080/"
        }
      },
      "execution_count": null,
      "outputs": [
        {
          "output_type": "stream",
          "name": "stdout",
          "text": [
            "Escribe una frase: Caras vemos, amargadas ya sabemos\n",
            "C@r@s vemos, @m@rg@d@s y@ s@bemos\n"
          ]
        }
      ]
    },
    {
      "cell_type": "markdown",
      "source": [
        "23 - Crea un código que solicite una frase al usuario y luego imprima la misma frase con todas las consonantes \"s\" reemplazadas por el carácter \"$\"."
      ],
      "metadata": {
        "id": "LGUtaxE56SWp"
      }
    },
    {
      "cell_type": "code",
      "source": [
        "frase = input('Escribe una frase: ')\n",
        "print(frase.replace(\"s\",\"$\"))"
      ],
      "metadata": {
        "id": "yN-Jv7-16S5E",
        "outputId": "d044d0a5-b2c2-491a-fe1b-1efcce4a74c0",
        "colab": {
          "base_uri": "https://localhost:8080/"
        }
      },
      "execution_count": null,
      "outputs": [
        {
          "output_type": "stream",
          "name": "stdout",
          "text": [
            "Escribe una frase: Estamos sordos\n",
            "E$tamo$ $ordo$\n"
          ]
        }
      ]
    },
    {
      "cell_type": "markdown",
      "source": [
        "# Tercera lección: Estructuras condicionales"
      ],
      "metadata": {
        "id": "eq_zaXy3akA3"
      }
    },
    {
      "cell_type": "code",
      "source": [
        "# Nota de aprobación entre 7 y 10 == nota de aprobación >= 7\n",
        "# Nota de reprobación es menor a 7 == nota de reprobación < 7\n",
        "\n",
        "\"\"\"\n",
        "Si la nota es mayor o igual a 7 entonces el estudiante aprueba\n",
        "Si no, entonces el estudiante reprueba\n",
        "\"\"\"\n"
      ],
      "metadata": {
        "id": "NwRaiHHHhhyl",
        "colab": {
          "base_uri": "https://localhost:8080/",
          "height": 35
        },
        "outputId": "c91c45ba-38b5-45e6-b5ff-3c6929774892"
      },
      "execution_count": 1,
      "outputs": [
        {
          "output_type": "execute_result",
          "data": {
            "text/plain": [
              "'\\nSi la nota es mayor o igual a 7 entonces el estudiante aprueba\\nSi no, entonces el estudiante reprueba\\n'"
            ],
            "application/vnd.google.colaboratory.intrinsic+json": {
              "type": "string"
            }
          },
          "metadata": {},
          "execution_count": 1
        }
      ]
    },
    {
      "cell_type": "markdown",
      "source": [
        "## `IF` y `ELSE`\n",
        "\n",
        "Los comandos `if` y `else` son dos estructuras condicionales. El comando `if` ejecutará el bloque de comandos en caso de que la condición citada sea  **verdadera**. El comando `else` ejecutará el bloque de comandos en el caso de que la condicional de `if` sea **falsa**."
      ],
      "metadata": {
        "id": "qXZqg9aYEhAh"
      }
    },
    {
      "cell_type": "markdown",
      "source": [
        "El comando `if` es una palabra clave en Python que significa \"si\". Este se emplea para conformar la estructura condicional, que te permite verificar si una determinada condición es verdadera o falsa e, inmediatamente después, ejecute un bloque de código específico dependiendo del resultado de la verificación. La sintaxis para usar el comando `if` es:\n",
        "\n",
        "\n",
        "\n",
        "```\n",
        "if condicion:\n",
        "    # Realiza algo\n",
        "```\n",
        "\n"
      ],
      "metadata": {
        "id": "EIhlqHXd2Gil"
      }
    },
    {
      "cell_type": "code",
      "source": [
        "if 2 > 7:\n",
        "  print('La condición es verdadera.')\n",
        "else:\n",
        "  print('La condición es falsa.')\n",
        "print('Fin de la consulta.')"
      ],
      "metadata": {
        "id": "S2S6XAFz-czM",
        "colab": {
          "base_uri": "https://localhost:8080/"
        },
        "outputId": "b39b12e9-83b8-4c23-f89e-a9c0f069ec50"
      },
      "execution_count": 2,
      "outputs": [
        {
          "output_type": "stream",
          "name": "stdout",
          "text": [
            "La condición es falsa.\n",
            "Fin de la consulta.\n"
          ]
        }
      ]
    },
    {
      "cell_type": "markdown",
      "source": [
        "Ya el comando `else` en Python se usa en junción con la palabra clave `if` para formar una estructura condicional. la sintaxis para usar el `else` es:\n",
        "\n",
        "```\n",
        "if condicion:\n",
        "  # codigo en caso de que sea verdad\n",
        "else:\n",
        "  # codigo en caso de que sea falso\n",
        "```\n",
        "\n",
        "el comando `else` se ejecuta cuando la condición verificada por el `if` es evaluada como `False`."
      ],
      "metadata": {
        "id": "27RW2v_sIKct"
      }
    },
    {
      "cell_type": "markdown",
      "source": [
        "---\n",
        "**Situación:**\n",
        "\n",
        "Recibiremos el promedio de la nota de los estudiantes y necesitamos de un algoritmo que ejecute el análisis y determine si el estudiante fue **Aprobado** o **Reprobado**, mostrando un mensaje del resultado. Para ser aprobado, el promedio necesita ser igual o superior a 7.0."
      ],
      "metadata": {
        "id": "BqORg85XX-Nl"
      }
    },
    {
      "cell_type": "code",
      "source": [
        "nota = float(input('Digita la nota: '))\n",
        "\n",
        "if nota >= 7:\n",
        "  print('Aprobó.')\n",
        "else:\n",
        "  print('Reprobó.')"
      ],
      "metadata": {
        "id": "UukCN4AQ-YYW",
        "colab": {
          "base_uri": "https://localhost:8080/"
        },
        "outputId": "f2795e59-cfd3-4737-cfa0-34433f4dab46"
      },
      "execution_count": 3,
      "outputs": [
        {
          "output_type": "stream",
          "name": "stdout",
          "text": [
            "Digita la nota: 10\n",
            "Aprobó.\n"
          ]
        }
      ]
    },
    {
      "cell_type": "markdown",
      "source": [
        "Ahora, nuestra institución educativa estableció que las personas que tengan el promedio entre 5.0 y 7.0 pueden participar del curso de **Recuperación** durante las vacaciones para lograr aprobar.\n",
        "\n",
        "Entonces podemos apoyarnos en un conjunto de `if`s para poder estructurar esta nueva condición."
      ],
      "metadata": {
        "id": "bD9O17HB6LUo"
      }
    },
    {
      "cell_type": "code",
      "source": [
        "nota = float(input('Digita la nota: '))\n",
        "\n",
        "if nota >= 7:\n",
        "  print('Aprobó.')\n",
        "if 7 > nota >= 5:\n",
        "  print('Recuperación.')\n",
        "if nota < 5:\n",
        "  print('Reprobó.')"
      ],
      "metadata": {
        "id": "G9cJ5O9--W52",
        "colab": {
          "base_uri": "https://localhost:8080/"
        },
        "outputId": "63e180b2-9a3f-4e7e-ee5d-0838d33e1543"
      },
      "execution_count": 4,
      "outputs": [
        {
          "output_type": "stream",
          "name": "stdout",
          "text": [
            "Digita la nota: 8\n",
            "Aprobó.\n"
          ]
        }
      ]
    },
    {
      "cell_type": "markdown",
      "source": [
        "Observa que en casos con 3 situaciones como este necesitamos definir bien nuestras condiciones. Pues, si realizamos una condición con `else` al final, este irá a considerar solamente la condición `if` inmediatamente anterior para generar la salida en caso de que el resultado de su operación lógica sea **falso** dando como resultado, dos o más ejecuciones.\n",
        "\n",
        "Por ejemplo:"
      ],
      "metadata": {
        "id": "D5e2mByjvycO"
      }
    },
    {
      "cell_type": "code",
      "source": [
        "nota = float(input('Digita la nota: '))\n",
        "\n",
        "if nota >= 7:\n",
        "  print('Aprobó.')\n",
        "if 7 > nota >= 5:\n",
        "  print('Recuperación.')\n",
        "else:\n",
        "  print('Reprobó.')"
      ],
      "metadata": {
        "id": "C21JmOuK-VU8",
        "colab": {
          "base_uri": "https://localhost:8080/"
        },
        "outputId": "606f6d19-cf38-40ad-a55a-0139ab2274d2"
      },
      "execution_count": 5,
      "outputs": [
        {
          "output_type": "stream",
          "name": "stdout",
          "text": [
            "Digita la nota: 8\n",
            "Aprobó.\n",
            "Reprobó.\n"
          ]
        }
      ]
    },
    {
      "cell_type": "markdown",
      "source": [
        "## `ELIF`\n",
        "\n",
        "El comando `elif` es una palabra clave en Python que significa \"si no, si\" y lo podemos considerar una *contracción* entre `else` e `if`. Se utiliza en conjunto con la palabra clave `if` para formar una estructura condicional en cadena."
      ],
      "metadata": {
        "id": "04T5g-7h4zWx"
      }
    },
    {
      "cell_type": "markdown",
      "source": [
        "la sintaxis para utilizar el comando `elif` es:\n",
        "\n",
        "```\n",
        "if condicion1:\n",
        "    # Realiza algo\n",
        "elif condicion2:\n",
        "    # Realiza otra cosa\n",
        "elif condicion3:\n",
        "    # Realiza otra cosa\n",
        "else:\n",
        "    # Realiza algo diferente\n",
        "```\n",
        "\n",
        "El comando `elif` permite que puedas verificar varias condiciones en cadena, economizando espacio en tu código. Si la primera condición se evalúa como `False`, el interpretador de Python evaluará la próxima condición con el `elif`. Ello continuará hasta que una condición sea evaluada como `True` o hasta que el `else` sea alcazado. Si ninguna de las condiciones es evaluada como `True`, la ejecución del código del comando `else` será iniciada."
      ],
      "metadata": {
        "id": "rNBHr5mm1Lm6"
      }
    },
    {
      "cell_type": "markdown",
      "source": [
        "Vamos a emplear el mismo caso anterior:"
      ],
      "metadata": {
        "id": "MVoykFbB4bd4"
      }
    },
    {
      "cell_type": "code",
      "source": [
        "nota = float(input('Digita la nota: '))\n",
        "\n",
        "if nota >= 7:\n",
        "  print('Aprobó.')\n",
        "elif 7 > nota >= 5:\n",
        "  print('Recuperación.')\n",
        "else:\n",
        "  print('Reprobó.')"
      ],
      "metadata": {
        "id": "QFamB78s-TW_",
        "colab": {
          "base_uri": "https://localhost:8080/"
        },
        "outputId": "31dff876-d096-45f3-c725-cd178107eb75"
      },
      "execution_count": 6,
      "outputs": [
        {
          "output_type": "stream",
          "name": "stdout",
          "text": [
            "Digita la nota: 9\n",
            "Aprobó.\n"
          ]
        }
      ]
    },
    {
      "cell_type": "markdown",
      "source": [
        "## Operadores\n",
        "\n",
        "Durante la construcción de comandos a veces necesitamos de una elaboración mayor de la expresión condicional, necesitando que algunos operadores lógicos se encuentren integrados."
      ],
      "metadata": {
        "id": "Tf1wSOem6iwZ"
      }
    },
    {
      "cell_type": "markdown",
      "source": [
        "### `AND`, `OR`, `NOT`\n",
        "\n",
        "Los operadores lógicos `and`, `or` y `not` son usados para combinar expresiones lógicas en Python. Ellos son usados frecuentemente en conjunto con el comando `if` para crear estructuras condicionales más complejas.\n"
      ],
      "metadata": {
        "id": "GFIZnRWXGPWO"
      }
    },
    {
      "cell_type": "markdown",
      "source": [
        "- `AND` es usado para verificar si dos condiciones son verdaderas. La expresión lógica¹ `x and y` se evalúa como `True` tan solo si **ambas condiciones `x` y `y` son verdaderas**, y como `False` en caso contrario.\n",
        "\n",
        "- `OR` es usado para verificar si al menos una de las condiciones es verdadera. La expresión lógica `x or y` se evalúa como `True` **si al menos una de las condiciones `x` o `y` es verdadera**, y como `False` si ambas condiciones son falsas.\n",
        "\n",
        "- `NOT` es usado para **negar una condición**. La expresión lógica `not x` es evaluada como `True` si la condición x es falsa, y como `False` si la condición x es verdadera.\n",
        "\n",
        "¹ Una expresión lógica es una declaración que puede ser evaluada como verdadera o falsa. Ella se compone por operandos lógicos² y por operadores lógicos³, que son usados ​​para combinar varias expresiones lógicas en una única expresión.\n",
        "\n",
        "² Los operandos lógicos son los elementos que son comparados o evaluados en una expresión lógica. Ellos son generalmente valores verdaderos o falsos, pero también pueden ser expresiones lógicas más complejas. En Python, los operandos lógicos son los valores `True` y `False`.\n",
        "\n",
        "³ Los operadores lógicos son ls símbolos o palabras clave que son usados ​​para combinar varias expresiones lógicas en una única expresión. En Python, los operadores lógicos son `and`, `or` y `not`, bien como las palabras clave `if`, `elif` e `else`."
      ],
      "metadata": {
        "id": "Z_dgAoHXJbzB"
      }
    },
    {
      "cell_type": "markdown",
      "source": [
        "> Operadores lógicos más comunes\n",
        "\n",
        "|a|b|AND|OR|NOT|\n",
        "|-|-|-|-|-|\n",
        "|0|0|0|0|1\n",
        "|0|1|0|1|-\n",
        "|1|0|0|1|-\n",
        "|1|1|1|1|0\n"
      ],
      "metadata": {
        "id": "2E5aUogf-49u"
      }
    },
    {
      "cell_type": "code",
      "source": [
        "v = True\n",
        "f = False\n",
        "\n",
        "\n",
        "if f and f:\n",
        "  print('La condición es verdadera.')\n",
        "else:\n",
        "  print('La condición es falsa.')"
      ],
      "metadata": {
        "id": "DFKmpvmS-Pa6",
        "colab": {
          "base_uri": "https://localhost:8080/"
        },
        "outputId": "9e305660-b59e-4c97-8369-1cc2e0ec14d2"
      },
      "execution_count": 7,
      "outputs": [
        {
          "output_type": "stream",
          "name": "stdout",
          "text": [
            "La condición es falsa.\n"
          ]
        }
      ]
    },
    {
      "cell_type": "code",
      "source": [
        "if v or v:\n",
        "  print('La condición es verdadera.')\n",
        "else:\n",
        "  print('La condición es falsa.')"
      ],
      "metadata": {
        "id": "W5BIrpOD-PeI",
        "colab": {
          "base_uri": "https://localhost:8080/"
        },
        "outputId": "76240e6d-15b7-4ac5-9950-53c76b1e21f1"
      },
      "execution_count": 8,
      "outputs": [
        {
          "output_type": "stream",
          "name": "stdout",
          "text": [
            "La condición es verdadera.\n"
          ]
        }
      ]
    },
    {
      "cell_type": "code",
      "source": [
        "if not f:\n",
        "  print('La condición es verdadera.')\n",
        "else:\n",
        "  print('La condición es falsa.')"
      ],
      "metadata": {
        "id": "fpDhYxq4-PiM",
        "colab": {
          "base_uri": "https://localhost:8080/"
        },
        "outputId": "d79b374d-244e-40d5-a53e-852684169da2"
      },
      "execution_count": 9,
      "outputs": [
        {
          "output_type": "stream",
          "name": "stdout",
          "text": [
            "La condición es verdadera.\n"
          ]
        }
      ]
    },
    {
      "cell_type": "markdown",
      "source": [
        "### `IN`\n",
        "\n",
        "Es usado para verificar si un elemento está presente en una lista, tupla u otra colección de conjunto. La expresión `x in y` se evalúa como `True` si el elemento `x` esta presente na variávelen la variable de conjunto `y`, y como `False` en caso contrario."
      ],
      "metadata": {
        "id": "w7EXG1dhWtja"
      }
    },
    {
      "cell_type": "markdown",
      "source": [
        "Podemos verificarlo con variables de texto.\n",
        "\n",
        "---\n",
        "\n",
        "**Situación:**\n",
        "\n",
        "En la escuela nos entregaron una lista con nombres de estudiantes que fueron aprobados según el promedio del semestre, pero es necesario verificar si algunos nombres están en esa lista para confirmar que los datos estén correctos.\n",
        "\n",
        "La lista distribuida puede ser observada a continuación:\n",
        "\n",
        "```\n",
        "lista = 'Juan Pérez, María González, Pedro Rodríguez, Ana López, Carlos Martínez,\n",
        "    Laura Sánchez, José García, Elena Fernández, Luis Morales, Carmen Torres,\n",
        "    David Ruiz, Isabel Ramírez, Javier Díaz, Sara Herrera, Miguel Castro,\n",
        "    Patricia Ortega, Francisco Vargas, Marta Jiménez, Manuel Medina, Rosa Molina,\n",
        "    Alejandro Silva, Silvia Ruiz, Andrés Torres, Natalia Soto, Diego Guerrero,\n",
        "    Paula Ríos, Ricardo Navarro, Alicia Cordero, Carlos Vidal, Lorena Gómez'\n",
        "```\n",
        "\n",
        "Los nombres que necesitas verificar son los siguientes:\n",
        "\n",
        "```\n",
        "nombre_1 = 'Miguel Castro'\n",
        "nombre_2 = 'Marcelo Noguera'\n",
        "```"
      ],
      "metadata": {
        "id": "enJNp6JenQbq"
      }
    },
    {
      "cell_type": "code",
      "source": [
        "lista = 'Juan Pérez, María González, Pedro Rodríguez,Ana López, Carlos Martínez,Laura Sánchez, José García, Elena Fernández, Luis Morales, Carmen Torres,David Ruiz, Isabel Ramírez, Javier Díaz, Sara Herrera, Miguel Castro,Patricia Ortega, Francisco Vargas, Marta Jiménez, Manuel Medina, Rosa Molina,Alejandro Silva, Silvia Ruiz, Andrés Torres, Natalia Soto, Diego Guerrero,Paula Ríos, Ricardo Navarro, Alicia Cordero, Carlos Vidal, Lorena Gómez'"
      ],
      "metadata": {
        "id": "gPPN9BCT-Mki"
      },
      "execution_count": 14,
      "outputs": []
    },
    {
      "cell_type": "code",
      "source": [
        "nombre_1 = 'Miguel Castro'\n",
        "nombre_2 = 'Marcelo Noguera'"
      ],
      "metadata": {
        "id": "GINbG3Fa-Mnb"
      },
      "execution_count": 15,
      "outputs": []
    },
    {
      "cell_type": "code",
      "source": [
        "if nombre_2 in lista:\n",
        "  print('El estudiante aprobó.')\n",
        "else:\n",
        "  print('El estudiante reprobó.')"
      ],
      "metadata": {
        "id": "hk-RhNRT-Mp7",
        "colab": {
          "base_uri": "https://localhost:8080/"
        },
        "outputId": "d9911735-5c03-4964-ef0f-3aba9f890107"
      },
      "execution_count": 16,
      "outputs": [
        {
          "output_type": "stream",
          "name": "stdout",
          "text": [
            "El estudiante reprobó.\n"
          ]
        }
      ]
    },
    {
      "cell_type": "markdown",
      "source": [
        "### Operadores relacionales\n",
        "*  Mayor que (>)\n",
        "*  Menor que (<)\n",
        "* Mayor o igual a (>=)\n",
        "* Menor o igual a (<=)\n",
        "* Igual a (==)\n",
        "* Diferente de (!=)\n"
      ],
      "metadata": {
        "id": "5CuLw1b4Sf3Y"
      }
    },
    {
      "cell_type": "markdown",
      "source": [
        "# Cuarta lección: Estructuras de repetición"
      ],
      "metadata": {
        "id": "aL1vJPewvwvz"
      }
    },
    {
      "cell_type": "markdown",
      "source": [
        "Cuando tenemos que ejecutar un mismo bloque de comandos durante varias ocasiones no es nada práctico hacerlo a mano.\n",
        "\n",
        "**Situación**: Nos fue solicitado obtener e imprimir el promedio de 2 notas de **3 estudantes**:"
      ],
      "metadata": {
        "id": "VcPfCa8d-84t"
      }
    },
    {
      "cell_type": "code",
      "source": [
        "nota_1 = float(input('Digita la primera nota: '))\n",
        "nota_2 = float(input('Digita la segunda nota: '))\n",
        "promedio = (nota_1 + nota_2) / 2\n",
        "\n",
        "print('El promedio del estudiante 1 es: {}'.format(promedio))\n",
        "\n",
        "nota_1 = float(input('Digita la primera nota: '))\n",
        "nota_2 = float(input('Digita la segunda nota: '))\n",
        "promedio = (nota_1 + nota_2) / 2\n",
        "\n",
        "print('El promedio del estudiante 2 es: {}'.format(promedio))\n",
        "\n",
        "nota_1 = float(input('Digita la primera nota: '))\n",
        "nota_2 = float(input('Digita la segunda nota: '))\n",
        "promedio = (nota_1 + nota_2) / 2\n",
        "\n",
        "print('El promedio del estudiante 3 es: {}'.format(promedio))"
      ],
      "metadata": {
        "id": "xcx21IGT9qA0",
        "colab": {
          "base_uri": "https://localhost:8080/"
        },
        "outputId": "3b7762fe-2a2f-4cb4-b5a7-bf7e90212b48"
      },
      "execution_count": 17,
      "outputs": [
        {
          "output_type": "stream",
          "name": "stdout",
          "text": [
            "Digita la primera nota: 10\n",
            "Digita la segunda nota: 9\n",
            "El promedio del estudiante 1 es: 9.5\n",
            "Digita la primera nota: 8\n",
            "Digita la segunda nota: 7\n",
            "El promedio del estudiante 2 es: 7.5\n",
            "Digita la primera nota: 10\n",
            "Digita la segunda nota: 8\n",
            "El promedio del estudiante 3 es: 9.0\n"
          ]
        }
      ]
    },
    {
      "cell_type": "markdown",
      "source": [
        "Ahora imaginemos una situación en que no son tan solo 3 estudiantes, sino 100 estudiantes. No sería nada interesante repetir el mismo código 100 veces, sino **ejecutar el mismo código 100 veces**.\n",
        "\n",
        "¡Esta estructura la logramos construir con lazos de repetición!"
      ],
      "metadata": {
        "id": "9puIuvUbFSFX"
      }
    },
    {
      "cell_type": "markdown",
      "source": [
        "### Operadores de atribución\n",
        "\n",
        "* **-=** : Resta un valor de la variable precio\n",
        "* ***=** : Multiplica un valor por la variable precio\n",
        "* **/=** : Divide la variable por un valor precio\n",
        "* **//=** : Realiza una división entera de la variable por un valor precio\n",
        "* **%=** : Calcula el resto de la división del valor en la variable y asigna el resultado a la variable precio\n",
        "\n"
      ],
      "metadata": {
        "id": "J9yI8bNxXNPc"
      }
    },
    {
      "cell_type": "markdown",
      "source": [
        "## `WHILE`"
      ],
      "metadata": {
        "id": "uLO9-aE4-wx8"
      }
    },
    {
      "cell_type": "markdown",
      "source": [
        "El lazo `while` es una estructura de control de repetición en Python que permite ejecutar un bloque de código repetidamente mientras que una determinada condición sea verdadera. Su estructura es:\n",
        "\n",
        "\n",
        "\n",
        "```\n",
        "while condicion:\n",
        "    # bloque de codigo\n",
        "```\n",
        "\n",
        "Vamos a construir un ejemplo con un contador de 1 hasta 10.\n"
      ],
      "metadata": {
        "id": "rXZxDMiqHxm9"
      }
    },
    {
      "cell_type": "code",
      "source": [
        "contador = 1\n",
        "while contador <=10:\n",
        "  print(contador)\n",
        "  ##contador = contador + 1\n",
        "  contador += 1"
      ],
      "metadata": {
        "id": "Hd0ZSWxD9wCD",
        "colab": {
          "base_uri": "https://localhost:8080/"
        },
        "outputId": "4856e11d-d2ee-40ee-f5d9-48ecadfed2d6"
      },
      "execution_count": 19,
      "outputs": [
        {
          "output_type": "stream",
          "name": "stdout",
          "text": [
            "1\n",
            "2\n",
            "3\n",
            "4\n",
            "5\n",
            "6\n",
            "7\n",
            "8\n",
            "9\n",
            "10\n"
          ]
        }
      ]
    },
    {
      "cell_type": "markdown",
      "source": [
        "Ahora vamos a colectar las notas y promedios de cada alumno dentro del lazo `while`. Haremos un ejemplo con 3 promedios."
      ],
      "metadata": {
        "id": "W4KZPBJuIrut"
      }
    },
    {
      "cell_type": "code",
      "source": [
        "contador = 1\n",
        "while contador <= 3:\n",
        "  nota_1 = float(input('Digita la primera nota: '))\n",
        "  nota_2 = float(input('Digita la segunda nota: '))\n",
        "  promedio = (nota_1 + nota_2) / 2\n",
        "\n",
        "  print('El promedio del estudiante {} es: {}'.format(contador, promedio))\n",
        "  contador +=1\n"
      ],
      "metadata": {
        "id": "9T5eCLFx9wk6",
        "colab": {
          "base_uri": "https://localhost:8080/"
        },
        "outputId": "2de412a0-2bf6-4eb3-95a1-892a61a704c1"
      },
      "execution_count": 21,
      "outputs": [
        {
          "output_type": "stream",
          "name": "stdout",
          "text": [
            "Digita la primera nota: 10\n",
            "Digita la segunda nota: 8\n",
            "El promedio del estudiante 1 es: 9.0\n",
            "Digita la primera nota: 5\n",
            "Digita la segunda nota: 99\n",
            "El promedio del estudiante 2 es: 52.0\n",
            "Digita la primera nota: 10\n",
            "Digita la segunda nota: 7\n",
            "El promedio del estudiante 3 es: 8.5\n"
          ]
        }
      ]
    },
    {
      "cell_type": "code",
      "source": [],
      "metadata": {
        "id": "P6E0_dW-9lZ9"
      },
      "execution_count": null,
      "outputs": []
    },
    {
      "cell_type": "markdown",
      "source": [
        "## `FOR`"
      ],
      "metadata": {
        "id": "WgAIaENMMfCP"
      }
    },
    {
      "cell_type": "markdown",
      "source": [
        "El lazo `for` es un tipo de estructura de control de flujo en Python que permite iterar sobre un conjunto de elementos. Su estructura es:\n",
        "\n",
        "\n",
        "\n",
        "```\n",
        "for elemento in conjunto:\n",
        "    # codigo a ser ejecutado para cada elemento\n",
        "```\n",
        "\n",
        "El lazo `for` itera sobre cada elemento del conjunto especificado y ejecuta el bloque de código dentro del lazo para cada elemento. Cuando el lazo llega al final del conjunto, este se interrumpe y el programa continúa la ejecución después del lazo.\n",
        "\n"
      ],
      "metadata": {
        "id": "HxrSZoRAMh-x"
      }
    },
    {
      "cell_type": "markdown",
      "source": [
        "El conjunto lo podemos generar con la función incorporada [`range()`](https://docs.python.org/3/library/functions.html#func-range). Se trata de una función capaz de generar una secuencia de números enteros. La estructura de esta función es:\n",
        "\n",
        "```\n",
        "range(inicio, fin, paso)\n",
        "```\n",
        "\n",
        "Según la documentación, `range()` genera una secuencia de números enteros a partir del valor del parámetro `inicio` hasta el valor del parámetro `fin`, de acuerdo con el valor del parámetro `paso`. Si `inicio` no es especificado, el valor por defecto es `0`. Si `paso` no es especificado, el valor por defecto es `1`.\n",
        "\n",
        "\n"
      ],
      "metadata": {
        "id": "6VgjyoQtPHBM"
      }
    },
    {
      "cell_type": "markdown",
      "source": [
        "Vamos a recrear el mismo contador `while` con el lazo `for`."
      ],
      "metadata": {
        "id": "ryn0hfdlUwC8"
      }
    },
    {
      "cell_type": "code",
      "source": [
        "for n in range(1,11,1):\n",
        "  print(n)"
      ],
      "metadata": {
        "id": "KkL1wUIj9jL4",
        "colab": {
          "base_uri": "https://localhost:8080/"
        },
        "outputId": "d93cdc46-8605-40fb-fbdd-5ef709dbf9d4"
      },
      "execution_count": 26,
      "outputs": [
        {
          "output_type": "stream",
          "name": "stdout",
          "text": [
            "1\n",
            "2\n",
            "3\n",
            "4\n",
            "5\n",
            "6\n",
            "7\n",
            "8\n",
            "9\n",
            "10\n"
          ]
        }
      ]
    },
    {
      "cell_type": "code",
      "source": [
        "for n in range(1,4,2):\n",
        "  print(n)"
      ],
      "metadata": {
        "id": "uXIZnLSr9jOu",
        "colab": {
          "base_uri": "https://localhost:8080/"
        },
        "outputId": "b8632d9d-2c10-4fa5-fee2-a64bdca762fc"
      },
      "execution_count": 27,
      "outputs": [
        {
          "output_type": "stream",
          "name": "stdout",
          "text": [
            "1\n",
            "3\n"
          ]
        }
      ]
    },
    {
      "cell_type": "code",
      "source": [
        "for e in range(1,4,1):\n",
        "  nota_1 = float(input('Digita la primera nota: '))\n",
        "  nota_2 = float(input('Digita la segunda nota: '))\n",
        "  promedio = (nota_1 + nota_2) / 2\n",
        "  print('El promedio del estudiante {} es: {}'.format(e, promedio))\n"
      ],
      "metadata": {
        "colab": {
          "base_uri": "https://localhost:8080/"
        },
        "id": "pccWhVljZRWU",
        "outputId": "22e2569d-e264-403e-9650-6a1f04eba9fd"
      },
      "execution_count": 30,
      "outputs": [
        {
          "output_type": "stream",
          "name": "stdout",
          "text": [
            "Digita la primera nota: 10\n",
            "Digita la segunda nota: 4\n",
            "El promedio del estudiante 1 es: 7.0\n",
            "Digita la primera nota: 5\n",
            "Digita la segunda nota: 6\n",
            "El promedio del estudiante 2 es: 5.5\n",
            "Digita la primera nota: 10\n",
            "Digita la segunda nota: 8\n",
            "El promedio del estudiante 3 es: 9.0\n"
          ]
        }
      ]
    },
    {
      "cell_type": "markdown",
      "source": [
        "##Comandos de control: continue y break\n",
        "\n",
        "* **continue:** Interrumpe la iteración actual del bucle y salta a la siguiente, es decir, regresa al inicio del código.\n",
        "* **break:** ddetiene por completo la ejecución del bucle, saliendo del bloque de código.\n",
        "\n"
      ],
      "metadata": {
        "id": "G0fOH68XbJaI"
      }
    },
    {
      "cell_type": "markdown",
      "source": [
        "##Desafíos"
      ],
      "metadata": {
        "id": "ucEiPKIxcH7U"
      }
    },
    {
      "cell_type": "markdown",
      "source": [
        "###Entrenando la programación\n",
        "1 - Escribe un programa que solicite dos números enteros e imprima todos los números enteros entre ellos."
      ],
      "metadata": {
        "id": "37DESvhhcGYz"
      }
    },
    {
      "cell_type": "code",
      "source": [
        "numero1= int(input('Ingrese el primer número: '))\n",
        "numero2= int(input('Ingrese el segundo número: '))\n",
        "\n",
        "for n in range(numero1,numero2+1):\n",
        "  print(n)"
      ],
      "metadata": {
        "colab": {
          "base_uri": "https://localhost:8080/"
        },
        "id": "NumOmmpucS6I",
        "outputId": "9f878039-6bdc-4c28-c925-3e16b05f78e8"
      },
      "execution_count": 33,
      "outputs": [
        {
          "output_type": "stream",
          "name": "stdout",
          "text": [
            "Ingrese el primer número: 63\n",
            "Ingrese el segundo número: 67\n",
            "63\n",
            "64\n",
            "65\n",
            "66\n",
            "67\n"
          ]
        }
      ]
    },
    {
      "cell_type": "markdown",
      "source": [
        "2 - Escribe un programa para calcular cuántos días tomará que la colonia de una bacteria A supere o iguale a la colonia de una bacteria B, basado en tasas de crecimiento del 3% y 1.5%, respectivamente. Supón que la colonia A comienza con 4 elementos y B con 10."
      ],
      "metadata": {
        "id": "G63rbeAJc75h"
      }
    },
    {
      "cell_type": "code",
      "source": [
        "coloniaA = 4\n",
        "coloniaB = 10\n",
        "dias = 0\n",
        "\n",
        "while coloniaA <= coloniaB:\n",
        "  coloniaA = coloniaA + coloniaA * 1.03\n",
        "  coloniaB = coloniaB + coloniaB * 1.015\n",
        "  dias += 1\n",
        "\n",
        "print('Tomo {} días' .format(dias))"
      ],
      "metadata": {
        "colab": {
          "base_uri": "https://localhost:8080/"
        },
        "id": "sjvtMmtic-kf",
        "outputId": "235c8cc2-9730-4ae6-d0d9-b5e7cc162e61"
      },
      "execution_count": 35,
      "outputs": [
        {
          "output_type": "stream",
          "name": "stdout",
          "text": [
            "Tomo 124 días\n"
          ]
        }
      ]
    },
    {
      "cell_type": "markdown",
      "source": [
        "3 - Para procesar una cantidad de 15 datos de evaluaciones de usuarios de un servicio de la empresa, necesitamos verificar si las calificaciones son válidas. Por lo tanto, escribe un programa que recibirá calificaciones del 0 al 5 y verificará si son valores válidos. Si se ingresa una calificación superior a 5 o inferior a 0, se repetirá hasta que el usuario ingrese un valor válido."
      ],
      "metadata": {
        "id": "-FsaNHxpd6hY"
      }
    },
    {
      "cell_type": "code",
      "source": [
        "for n in range(1, 16):\n",
        "  while True:\n",
        "    evaluacion = int(input('Introduce la evaluación: '))\n",
        "    if 0 <= evaluacion <= 5:\n",
        "      print('La evaluación {} es válida'.format(evaluacion))\n",
        "      break\n",
        "    else:\n",
        "      print('La evaluación {} es inválida'.format(evaluacion))\n",
        "\n"
      ],
      "metadata": {
        "colab": {
          "base_uri": "https://localhost:8080/"
        },
        "id": "KhI-DBLqd9lx",
        "outputId": "83620713-8731-4881-d04d-cf9a230c7066"
      },
      "execution_count": 16,
      "outputs": [
        {
          "output_type": "stream",
          "name": "stdout",
          "text": [
            "Introduce la evaluación: 10\n",
            "La evaluación 10 es inválida\n",
            "Introduce la evaluación: 5\n",
            "La evaluación 5 es válida\n",
            "Introduce la evaluación: 2\n",
            "La evaluación 2 es válida\n",
            "Introduce la evaluación: 3\n",
            "La evaluación 3 es válida\n",
            "Introduce la evaluación: 4\n",
            "La evaluación 4 es válida\n",
            "Introduce la evaluación: 8\n",
            "La evaluación 8 es inválida\n",
            "Introduce la evaluación: 2\n",
            "La evaluación 2 es válida\n",
            "Introduce la evaluación: 6\n",
            "La evaluación 6 es inválida\n",
            "Introduce la evaluación: 4\n",
            "La evaluación 4 es válida\n",
            "Introduce la evaluación: 2\n",
            "La evaluación 2 es válida\n",
            "Introduce la evaluación: 5\n",
            "La evaluación 5 es válida\n",
            "Introduce la evaluación: 5\n",
            "La evaluación 5 es válida\n",
            "Introduce la evaluación: 5\n",
            "La evaluación 5 es válida\n",
            "Introduce la evaluación: 5\n",
            "La evaluación 5 es válida\n",
            "Introduce la evaluación: 5\n",
            "La evaluación 5 es válida\n",
            "Introduce la evaluación: 5\n",
            "La evaluación 5 es válida\n",
            "Introduce la evaluación: 2\n",
            "La evaluación 2 es válida\n",
            "Introduce la evaluación: 1\n",
            "La evaluación 1 es válida\n"
          ]
        }
      ]
    },
    {
      "cell_type": "markdown",
      "source": [
        "4 - Desarrolla un programa que lea un conjunto indefinido de temperaturas en grados Celsius y calcule su promedio. La lectura debe detenerse al ingresar el valor -273°C."
      ],
      "metadata": {
        "id": "dSxwzWHQji6x"
      }
    },
    {
      "cell_type": "code",
      "source": [
        "# prompt: Desarrolla un programa que lea un conjunto indefinido de temperaturas en grados Celsius y calcule su promedio. La lectura debe detenerse al ingresar el valor -273°C.\n",
        "\n",
        "temperaturas = []\n",
        "temperatura = 0\n",
        "\n",
        "while temperatura != -273:\n",
        "  temperatura = float(input(\"Ingrese una temperatura en grados Celsius (-273 para finalizar): \"))\n",
        "  if temperatura != -273:\n",
        "    temperaturas.append(temperatura)\n",
        "\n",
        "if temperaturas:\n",
        "  promedio = sum(temperaturas) / len(temperaturas)\n",
        "  print(f\"El promedio de las temperaturas ingresadas es: {promedio:.2f} °C\")\n",
        "else:\n",
        "  print(\"No se ingresaron temperaturas válidas.\")\n"
      ],
      "metadata": {
        "id": "OsqZNSxyjuWh"
      },
      "execution_count": null,
      "outputs": []
    },
    {
      "cell_type": "markdown",
      "source": [
        "5 - Escribe un programa que calcule el factorial de un número entero proporcionado por el usuario. Recuerda que el factorial de un número entero es el producto de ese número por todos sus antecesores hasta llegar al número 1. Por ejemplo, el factorial de 5 es 5 x 4 x 3 x 2 x 1 = 120.\n",
        "\n"
      ],
      "metadata": {
        "id": "oWF8nOM3kAww"
      }
    },
    {
      "cell_type": "code",
      "source": [
        "numero = int(input(\"Ingrese un número entero: \"))\n",
        "numero_original = numero\n",
        "factorial = 1\n",
        "\n",
        "while numero > 0:\n",
        "  factorial = factorial * numero\n",
        "  numero = numero-1\n",
        "\n",
        "print('El factorial de {} es: {}' .format(numero_original, factorial))"
      ],
      "metadata": {
        "colab": {
          "base_uri": "https://localhost:8080/"
        },
        "id": "cIyfcIFwkIJN",
        "outputId": "cfd0d172-a719-4a7b-9845-e8476c26f597"
      },
      "execution_count": 25,
      "outputs": [
        {
          "output_type": "stream",
          "name": "stdout",
          "text": [
            "Ingrese un número entero: 5\n",
            "El factorial de 5 es: 120\n"
          ]
        }
      ]
    },
    {
      "cell_type": "markdown",
      "source": [
        "\n",
        "###Momento de los proyectos\n",
        "\n",
        "6 - Escribe un programa que genere la tabla de multiplicar de un número entero del 1 al 10, según la elección del usuario."
      ],
      "metadata": {
        "id": "nQzht0JckElS"
      }
    },
    {
      "cell_type": "code",
      "source": [
        " tabla = int(input('Número de la tabla'))\n",
        "\n",
        " for i in range(1,11):\n",
        "   print(tabla, 'x', i, '=', tabla*i)"
      ],
      "metadata": {
        "colab": {
          "base_uri": "https://localhost:8080/"
        },
        "id": "VJGc_vItnBUt",
        "outputId": "d289b827-8f65-4e3f-8a78-287b30232585"
      },
      "execution_count": 27,
      "outputs": [
        {
          "output_type": "stream",
          "name": "stdout",
          "text": [
            "Número de la tabla5\n",
            "5 x 1 = 5\n",
            "5 x 2 = 10\n",
            "5 x 3 = 15\n",
            "5 x 4 = 20\n",
            "5 x 5 = 25\n",
            "5 x 6 = 30\n",
            "5 x 7 = 35\n",
            "5 x 8 = 40\n",
            "5 x 9 = 45\n",
            "5 x 10 = 50\n"
          ]
        }
      ]
    },
    {
      "cell_type": "markdown",
      "source": [
        "7 - Los números primos tienen diversas aplicaciones en Ciencia de Datos, como en criptografía y seguridad. Un número primo es aquel que es divisible solo por sí mismo y por 1. Por lo tanto, crea un programa que solicite un número entero y determine si es un número primo o no."
      ],
      "metadata": {
        "id": "VLw2S6a1nmoq"
      }
    },
    {
      "cell_type": "code",
      "source": [
        "# prompt: Los números primos tienen diversas aplicaciones en Ciencia de Datos, como en criptografía y seguridad. Un número primo es aquel que es divisible solo por sí mismo y por 1. Por lo tanto, crea un programa que solicite un número entero y determine si es un número primo o no.\n",
        "\n",
        "def es_primo(numero):\n",
        "  \"\"\"\n",
        "  Verifica si un número es primo.\n",
        "\n",
        "  Args:\n",
        "    numero: El número entero a verificar.\n",
        "\n",
        "  Returns:\n",
        "    True si el número es primo, False en caso contrario.\n",
        "  \"\"\"\n",
        "  if numero <= 1:\n",
        "    return False\n",
        "  for i in range(2, int(numero**0.5) + 1):\n",
        "    if numero % i == 0:\n",
        "      return False\n",
        "  return True\n",
        "\n",
        "numero = int(input(\"Ingrese un número entero: \"))\n",
        "\n",
        "if es_primo(numero):\n",
        "  print(f\"{numero} es un número primo.\")\n",
        "else:\n",
        "  print(f\"{numero} no es un número primo.\")\n"
      ],
      "metadata": {
        "id": "z-fs0u7aoNqw"
      },
      "execution_count": null,
      "outputs": []
    },
    {
      "cell_type": "markdown",
      "source": [
        "8 - Vamos a comprender la distribución de edades de los pensionistas de una empresa de seguros. Escribe un programa que lea las edades de una cantidad no informada de clientes y muestre la distribución en los intervalos [0-25], [26-50], [51-75] y [76-100]. La entrada de datos se detendrá al ingresar un número negativo."
      ],
      "metadata": {
        "id": "x-o87aRcos9t"
      }
    },
    {
      "cell_type": "code",
      "source": [
        "\n",
        "intervalo1 = 0\n",
        "intervalo2 = 0\n",
        "intervalo3 = 0\n",
        "intervalo4 = 0\n",
        "\n",
        "edad = 0\n",
        "\n",
        "while edad >= 0:\n",
        "  edad = int(input(\"Ingrese la edad del cliente (-1 para finalizar): \"))\n",
        "\n",
        "  if edad >= 0:\n",
        "    if edad >= 0 and edad <= 25:\n",
        "      intervalo1 += 1\n",
        "    elif edad >= 26 and edad <= 50:\n",
        "      intervalo2 += 1\n",
        "    elif edad >= 51 and edad <= 75:\n",
        "      intervalo3 += 1\n",
        "    elif edad >= 76 and edad <= 100:\n",
        "      intervalo4 += 1\n",
        "\n",
        "print(\"Distribución de edades:\")\n",
        "print(\"[0-25]:\", intervalo1)\n",
        "print(\"[26-50]:\", intervalo2)\n",
        "print(\"[51-75]:\", intervalo3)\n",
        "print(\"[76-100]:\", intervalo4)\n",
        "\n"
      ],
      "metadata": {
        "colab": {
          "base_uri": "https://localhost:8080/"
        },
        "id": "07Cxws1ho4w1",
        "outputId": "79fd78c7-2e8c-4167-d1c0-81c31d64df53"
      },
      "execution_count": 46,
      "outputs": [
        {
          "output_type": "stream",
          "name": "stdout",
          "text": [
            "Ingrese la edad del cliente (-1 para finalizar): 5\n",
            "Ingrese la edad del cliente (-1 para finalizar): 10\n",
            "Ingrese la edad del cliente (-1 para finalizar): 80\n",
            "Ingrese la edad del cliente (-1 para finalizar): 50\n",
            "Ingrese la edad del cliente (-1 para finalizar): -1\n",
            "Distribución de edades:\n",
            "[0-25]: 2\n",
            "[26-50]: 1\n",
            "[51-75]: 0\n",
            "[76-100]: 1\n"
          ]
        }
      ]
    },
    {
      "cell_type": "markdown",
      "source": [
        "9 - En una elección para la gerencia de una empresa con 20 empleados, hay cuatro candidatos. Escribe un programa que calcule al ganador de la elección. La votación se realizó de la siguiente manera:\n",
        "\n",
        "Cada empleado votó por uno de los cuatro candidatos (representados por los números 1, 2, 3 y 4).\n",
        "\n",
        "También se contaron los votos nulos (representados por el número 5) y los votos en blanco (representados por el número 6).\n",
        "\n",
        "Al final de la votación, el programa debe mostrar el número total de votos para cada candidato, los votos nulos y los votos en blanco. Además, debe calcular y mostrar el porcentaje de votos nulos con respecto al total de votos y el porcentaje de votos en blanco con respecto al total de votos."
      ],
      "metadata": {
        "id": "dytD15jYszPh"
      }
    },
    {
      "cell_type": "code",
      "source": [
        "# prompt: En una elección para la gerencia de una empresa con 20 empleados, hay cuatro candidatos. Escribe un programa que calcule al ganador de la elección. La votación se realizó de la siguiente manera:\n",
        "# Cada empleado votó por uno de los cuatro candidatos (representados por los números 1, 2, 3 y 4).\n",
        "# También se contaron los votos nulos (representados por el número 5) y los votos en blanco (representados por el número 6).\n",
        "# Al final de la votación, el programa debe mostrar el número total de votos para cada candidato, los votos nulos y los votos en blanco. Además, debe calcular y mostrar el porcentaje de votos nulos con respecto al total de votos y el porcentaje de votos en blanco con respecto al total de votos.\n",
        "\n",
        "votos_candidato = [0] * 4  # Inicializa una lista para almacenar los votos de cada candidato\n",
        "votos_nulos = 0\n",
        "votos_blancos = 0\n",
        "\n",
        "for i in range(20):\n",
        "    while True:\n",
        "        try:\n",
        "            voto = int(input(f\"Voto del empleado {i+1} (1-4 para candidato, 5 para nulo, 6 para blanco): \"))\n",
        "            if 1 <= voto <= 6:\n",
        "                break\n",
        "            else:\n",
        "                print(\"Voto inválido. Ingrese un número del 1 al 6.\")\n",
        "        except ValueError:\n",
        "            print(\"Entrada inválida. Ingrese un número entero.\")\n",
        "\n",
        "    if 1 <= voto <= 4:\n",
        "        votos_candidato[voto - 1] += 1\n",
        "    elif voto == 5:\n",
        "        votos_nulos += 1\n",
        "    else:\n",
        "        votos_blancos += 1\n",
        "\n",
        "# Mostrar resultados\n",
        "print(\"\\nResultados de la elección:\")\n",
        "for i in range(4):\n",
        "    print(f\"Candidato {i+1}: {votos_candidato[i]} votos\")\n",
        "\n",
        "print(f\"Votos nulos: {votos_nulos}\")\n",
        "print(f\"Votos en blanco: {votos_blancos}\")\n",
        "\n",
        "total_votos = sum(votos_candidato) + votos_nulos + votos_blancos\n",
        "porcentaje_nulos = (votos_nulos / total_votos) * 100\n",
        "porcentaje_blancos = (votos_blancos / total_votos) * 100\n",
        "\n",
        "print(f\"Porcentaje de votos nulos: {porcentaje_nulos:.2f}%\")\n",
        "print(f\"Porcentaje de votos en blanco: {porcentaje_blancos:.2f}%\")\n",
        "\n",
        "# Determinar al ganador\n",
        "ganador = votos_candidato.index(max(votos_candidato)) + 1\n",
        "print(f\"\\nEl candidato ganador es el candidato {ganador} con {max(votos_candidato)} votos.\")\n"
      ],
      "metadata": {
        "id": "Q5CVRwzss2kE"
      },
      "execution_count": null,
      "outputs": []
    },
    {
      "cell_type": "markdown",
      "source": [
        "# Quinta lección: Listas"
      ],
      "metadata": {
        "id": "THSg4KYLwxIb"
      }
    },
    {
      "cell_type": "markdown",
      "source": [
        "Un conjunto de elementos es una colección de items, que son almacenados juntos de manera organizada. Algunos ejemplos de conjuntos de elementos en Python son las listas, los strings y los diccionarios."
      ],
      "metadata": {
        "id": "xpEUkefTu8fY"
      }
    },
    {
      "cell_type": "markdown",
      "source": [
        "Las listas pueden almacenar una colección de items en orden. Ellas son delimitadas por corchetes `[]` y sus elementos son separados por comas.\n",
        "\n",
        "Estas pueden almacenar cualquier tipo de items, incluyendo números, strings, objetos, otras listas, entre otros. También nos permiten almacenar items de tipos de datos diferentes juntos en una única lista."
      ],
      "metadata": {
        "id": "dzpsiqrOyJcK"
      }
    },
    {
      "cell_type": "code",
      "source": [
        "lista = ['Penélope Camacho',9.5,9.0,9.7,True]\n",
        "lista"
      ],
      "metadata": {
        "id": "DO3TBj7nAYeG",
        "colab": {
          "base_uri": "https://localhost:8080/"
        },
        "outputId": "739bb18b-6383-4a36-cd2e-bcaede600d02"
      },
      "execution_count": 4,
      "outputs": [
        {
          "output_type": "execute_result",
          "data": {
            "text/plain": [
              "['Penélope Camacho', 9.5, 9.0, 9.7, True]"
            ]
          },
          "metadata": {},
          "execution_count": 4
        }
      ]
    },
    {
      "cell_type": "code",
      "source": [
        "type(lista)"
      ],
      "metadata": {
        "id": "DO2ubP9N9D_2",
        "colab": {
          "base_uri": "https://localhost:8080/"
        },
        "outputId": "318198f5-bcec-4e86-8320-3e7afaaa9c6d"
      },
      "execution_count": 5,
      "outputs": [
        {
          "output_type": "execute_result",
          "data": {
            "text/plain": [
              "list"
            ]
          },
          "metadata": {},
          "execution_count": 5
        }
      ]
    },
    {
      "cell_type": "markdown",
      "source": [
        "Las listas son organizadas en Python porque **cada elemento de la lista tiene un índice que indica su posición al interior de la lista**. Los índices comienzan en 0 van hasta el tamaño de la lista menos 1."
      ],
      "metadata": {
        "id": "qUz3sJNl6LgK"
      }
    },
    {
      "cell_type": "markdown",
      "source": [
        "Tenemos entonces 5 elementos con índices que varían de 0 a 4, ordenadamente:\n",
        "\n",
        "```\n",
        "#             [0]           [1]   [2]   [3]    [4]\n",
        "lista = ['Penélope Camacho', 9.5 , 9.0 , 9.7 , True]\n",
        "```\n",
        "\n",
        "En Python tenemos también los índices **negativos** que se inician en el último elemento con el valor de `-1` y avanzan en el universo de los negativos hasta llegar al 1° elemento:\n",
        "\n",
        "```\n",
        "#             [-5]         [-4]  [-3]  [-2]   [-1]\n",
        "lista = ['Penélope Camacho', 9.5 , 9.0 , 9.7 , True]\n",
        "```\n",
        "\n",
        "Logramos seleccionar separadamente cada elemento a través de sus respectivos índices. Colocando el nombre de la lista y en seguida el índice que será seleccionado."
      ],
      "metadata": {
        "id": "rLf-Qg526hFD"
      }
    },
    {
      "cell_type": "code",
      "source": [
        "lista[0]"
      ],
      "metadata": {
        "id": "4hco1Zqy88Kw",
        "colab": {
          "base_uri": "https://localhost:8080/",
          "height": 35
        },
        "outputId": "0072e9e6-a0de-4938-cd5d-47bf00520e06"
      },
      "execution_count": 6,
      "outputs": [
        {
          "output_type": "execute_result",
          "data": {
            "text/plain": [
              "'Penélope Camacho'"
            ],
            "application/vnd.google.colaboratory.intrinsic+json": {
              "type": "string"
            }
          },
          "metadata": {},
          "execution_count": 6
        }
      ]
    },
    {
      "cell_type": "code",
      "source": [
        "type(lista[0])"
      ],
      "metadata": {
        "id": "M8lH0I2288Ph",
        "colab": {
          "base_uri": "https://localhost:8080/"
        },
        "outputId": "e3479a08-d170-4274-89b7-6e56765ccce9"
      },
      "execution_count": 7,
      "outputs": [
        {
          "output_type": "execute_result",
          "data": {
            "text/plain": [
              "str"
            ]
          },
          "metadata": {},
          "execution_count": 7
        }
      ]
    },
    {
      "cell_type": "code",
      "source": [
        "type(lista[1])"
      ],
      "metadata": {
        "id": "juPelKidKzFR",
        "outputId": "74e746e1-bd5f-448a-e533-ad7691c32dcc",
        "colab": {
          "base_uri": "https://localhost:8080/"
        }
      },
      "execution_count": 8,
      "outputs": [
        {
          "output_type": "execute_result",
          "data": {
            "text/plain": [
              "float"
            ]
          },
          "metadata": {},
          "execution_count": 8
        }
      ]
    },
    {
      "cell_type": "code",
      "source": [
        "type(lista[-5])"
      ],
      "metadata": {
        "id": "Q7Tv4tfoK1bs",
        "outputId": "d653708b-97c5-4971-b249-18fa88da5c36",
        "colab": {
          "base_uri": "https://localhost:8080/"
        }
      },
      "execution_count": 9,
      "outputs": [
        {
          "output_type": "execute_result",
          "data": {
            "text/plain": [
              "str"
            ]
          },
          "metadata": {},
          "execution_count": 9
        }
      ]
    },
    {
      "cell_type": "markdown",
      "source": [
        "Una forma más dinámica de trabajar item a item en una lista es utilizando un lazo `for` para leer un elemento a la vez."
      ],
      "metadata": {
        "id": "6TaE1ijmBTCd"
      }
    },
    {
      "cell_type": "code",
      "source": [
        "for elemento in lista:\n",
        "  print(elemento)"
      ],
      "metadata": {
        "id": "rBx4Yu1786Sy",
        "colab": {
          "base_uri": "https://localhost:8080/"
        },
        "outputId": "767758d7-3963-44c9-a411-ea7083d3ff71"
      },
      "execution_count": 10,
      "outputs": [
        {
          "output_type": "stream",
          "name": "stdout",
          "text": [
            "Penélope Camacho\n",
            "9.5\n",
            "9.0\n",
            "9.7\n",
            "True\n"
          ]
        }
      ]
    },
    {
      "cell_type": "markdown",
      "source": [
        "**Situación**: La nota `9.0` de Penélope necesita ser ajustada pues ganó 1 punto en su última nota por participación en clase. Entonces es necesario realizar un cambio en el índice `2` de `9.0` a `10.0`."
      ],
      "metadata": {
        "id": "Dh1_HnIVvucY"
      }
    },
    {
      "cell_type": "code",
      "source": [
        "lista[2]=10"
      ],
      "metadata": {
        "id": "bVPoZg668z3T"
      },
      "execution_count": 11,
      "outputs": []
    },
    {
      "cell_type": "code",
      "source": [
        "lista"
      ],
      "metadata": {
        "id": "Jo_PBQ0g8z7D",
        "colab": {
          "base_uri": "https://localhost:8080/"
        },
        "outputId": "f79f134a-0dab-46ed-ff21-486238a67cab"
      },
      "execution_count": 12,
      "outputs": [
        {
          "output_type": "execute_result",
          "data": {
            "text/plain": [
              "['Penélope Camacho', 9.5, 10, 9.7, True]"
            ]
          },
          "metadata": {},
          "execution_count": 12
        }
      ]
    },
    {
      "cell_type": "markdown",
      "source": [
        "También podemos calcular el promedio del estudiante a partir de los datos que tenemos."
      ],
      "metadata": {
        "id": "53XduzXkycAf"
      }
    },
    {
      "cell_type": "code",
      "source": [
        "promedio = (lista[1]+lista[2]+lista[3])/3\n",
        "promedio"
      ],
      "metadata": {
        "id": "sD9GeTuGLHZv",
        "outputId": "8ad500c5-068c-4801-e92d-cc44a9f06be5",
        "colab": {
          "base_uri": "https://localhost:8080/"
        }
      },
      "execution_count": 13,
      "outputs": [
        {
          "output_type": "execute_result",
          "data": {
            "text/plain": [
              "9.733333333333333"
            ]
          },
          "metadata": {},
          "execution_count": 13
        }
      ]
    },
    {
      "cell_type": "markdown",
      "source": [
        "###Cadena a lista\n",
        "\n",
        "Mediante el método split(). Este método divide la cadena en una lista de cadenas, utilizando un delimitador especificado entre paréntesis. Este delimitador debe ser una cadena.\n",
        "\n",
        "Como ejemplo, convirtamos la cadena en una lista dividiéndola cada vez que aparezca el signo de interrogación \"?\":"
      ],
      "metadata": {
        "id": "aSM0BiszL0HP"
      }
    },
    {
      "cell_type": "code",
      "source": [
        "pregunta = '¿Quién vino primero? ¿El huevo? ¿O fue la serpiente?'\n",
        "lista_palabras = pregunta.split()\n",
        "print(lista_palabras)"
      ],
      "metadata": {
        "id": "UenvVfYfMB3u",
        "outputId": "de44034d-c368-4aa5-ce69-258ac88b9c9f",
        "colab": {
          "base_uri": "https://localhost:8080/"
        }
      },
      "execution_count": 14,
      "outputs": [
        {
          "output_type": "stream",
          "name": "stdout",
          "text": [
            "['¿Quién', 'vino', 'primero?', '¿El', 'huevo?', '¿O', 'fue', 'la', 'serpiente?']\n"
          ]
        }
      ]
    },
    {
      "cell_type": "markdown",
      "source": [
        "El delimitador no aparece en la separación. Si no se define un delimitador, la cadena se separará por todos los espacios en blanco en el texto."
      ],
      "metadata": {
        "id": "Fjn4fjK-MIHB"
      }
    },
    {
      "cell_type": "markdown",
      "source": [
        "### Lista a cadena\n",
        "Mediante el método join(). Para usar esta función, debemos definir el carácter que se utilizará para unir los elementos de la lista y formar la cadena. Luego, usamos el método { join() pasando la lista como argumento.\n",
        "\n",
        "Veamos un ejemplo con una lista que contiene el resultado de algunas mezclas de colores primarios en pintura:"
      ],
      "metadata": {
        "id": "AFLPLeLvMUhT"
      }
    },
    {
      "cell_type": "code",
      "source": [
        "mezclas = ['Pinturas: rojo, azul y amarillo',\n",
        "            'Verde: mezcla de azul y amarillo',\n",
        "            'Naranja: mezcla de rojo y amarillo',\n",
        "            'Morado: mezcla de rojo y azul']\n",
        "unificador = '. '\n",
        "cadena_mezclas = unificador.join(mezclas)\n",
        "print(cadena_mezclas)"
      ],
      "metadata": {
        "id": "NHVLJgsSMu9p",
        "outputId": "a76db60d-e8fc-43ee-e6a0-1983cb398c27",
        "colab": {
          "base_uri": "https://localhost:8080/"
        }
      },
      "execution_count": 15,
      "outputs": [
        {
          "output_type": "stream",
          "name": "stdout",
          "text": [
            "Pinturas: rojo, azul y amarillo. Verde: mezcla de azul y amarillo. Naranja: mezcla de rojo y amarillo. Morado: mezcla de rojo y azul\n"
          ]
        }
      ]
    },
    {
      "cell_type": "markdown",
      "source": [
        "## Manipulación de listas\n",
        "\n",
        "Las listas son muy útiles en Python porque nos permiten almacenar y acceder a una colección de items de manera organizada y rápida. Estas también ofrecen muchos métodos útiles para manipular los itens almacenados, como adicionar, remover, clasificar y buscar elementos."
      ],
      "metadata": {
        "id": "d-iYr10-y4qw"
      }
    },
    {
      "cell_type": "markdown",
      "source": [
        "#### Cantidad de elementos\n",
        "\n",
        "Usamos la función [`len()`](https://docs.python.org/3/library/functions.html#len) para descubrir la cantidad de elementos de un conjunto."
      ],
      "metadata": {
        "id": "ZLqx9A97XVB_"
      }
    },
    {
      "cell_type": "code",
      "source": [
        "len(lista)"
      ],
      "metadata": {
        "id": "6q1Tmm7P8wQf",
        "colab": {
          "base_uri": "https://localhost:8080/"
        },
        "outputId": "c7fd171b-2355-4ecf-f0df-f385b14f2895"
      },
      "execution_count": 16,
      "outputs": [
        {
          "output_type": "execute_result",
          "data": {
            "text/plain": [
              "5"
            ]
          },
          "metadata": {},
          "execution_count": 16
        }
      ]
    },
    {
      "cell_type": "markdown",
      "source": [
        "#### Partición: agarrar un conjunto de la lista\n",
        "\n",
        "La partición de listas por indexación en Python es una técnica muy útil para seleccionar un subconjunto de elementos de una lista. Esta se realiza usando la sintaxis `lista[inicio:fin]`, donde `inicio` es el índice del primer elemento que será incluído en la partición `fin` es el índice del primer elemento que será excluído de la partición."
      ],
      "metadata": {
        "id": "Z5tpstlHJss3"
      }
    },
    {
      "cell_type": "code",
      "source": [
        "lista[0:2]"
      ],
      "metadata": {
        "id": "NctvJTTU8uV9",
        "colab": {
          "base_uri": "https://localhost:8080/"
        },
        "outputId": "ff8efdb2-b0f3-46e0-ef6d-a4ca3794de43"
      },
      "execution_count": 21,
      "outputs": [
        {
          "output_type": "execute_result",
          "data": {
            "text/plain": [
              "['Penélope Camacho', 9.5]"
            ]
          },
          "metadata": {},
          "execution_count": 21
        }
      ]
    },
    {
      "cell_type": "code",
      "source": [
        "lista[:3]"
      ],
      "metadata": {
        "id": "bQZUwldj8uY2",
        "colab": {
          "base_uri": "https://localhost:8080/"
        },
        "outputId": "cbab2874-1aa1-49ae-819e-fc7580e554ce"
      },
      "execution_count": 23,
      "outputs": [
        {
          "output_type": "execute_result",
          "data": {
            "text/plain": [
              "['Penélope Camacho', 9.5, 10]"
            ]
          },
          "metadata": {},
          "execution_count": 23
        }
      ]
    },
    {
      "cell_type": "code",
      "source": [
        "lista[3:]"
      ],
      "metadata": {
        "id": "uTUxa17auB8D",
        "outputId": "31ee1ac8-314d-45d2-f297-196e67d7ce8f",
        "colab": {
          "base_uri": "https://localhost:8080/"
        }
      },
      "execution_count": 24,
      "outputs": [
        {
          "output_type": "execute_result",
          "data": {
            "text/plain": [
              "[9.7, True]"
            ]
          },
          "metadata": {},
          "execution_count": 24
        }
      ]
    },
    {
      "cell_type": "code",
      "source": [
        "lista[:]"
      ],
      "metadata": {
        "id": "TrSJL7r6uHZ7",
        "outputId": "90048c5e-2d68-4655-8919-c7e3e474f17b",
        "colab": {
          "base_uri": "https://localhost:8080/"
        }
      },
      "execution_count": 25,
      "outputs": [
        {
          "output_type": "execute_result",
          "data": {
            "text/plain": [
              "['Penélope Camacho', 9.5, 10, 9.7, True]"
            ]
          },
          "metadata": {},
          "execution_count": 25
        }
      ]
    },
    {
      "cell_type": "markdown",
      "source": [
        "#### [`append()`](https://docs.python.org/3/tutorial/datastructures.html#:~:text=of%20list%20objects%3A-,list.append(x),-Add%20an%20item) Añade elementos\n",
        "\n",
        "Añade un elemento al final de la lista."
      ],
      "metadata": {
        "id": "O0RRyabkRzZC"
      }
    },
    {
      "cell_type": "code",
      "source": [
        "lista.append(promedio)"
      ],
      "metadata": {
        "id": "_Q0oODwa8spC"
      },
      "execution_count": 26,
      "outputs": []
    },
    {
      "cell_type": "code",
      "source": [
        "lista"
      ],
      "metadata": {
        "id": "RM894r2M8sse",
        "colab": {
          "base_uri": "https://localhost:8080/"
        },
        "outputId": "9ddc4ef3-2a81-471a-9afd-74dd6783d68b"
      },
      "execution_count": 27,
      "outputs": [
        {
          "output_type": "execute_result",
          "data": {
            "text/plain": [
              "['Penélope Camacho', 9.5, 10, 9.7, True, 9.733333333333333]"
            ]
          },
          "metadata": {},
          "execution_count": 27
        }
      ]
    },
    {
      "cell_type": "markdown",
      "source": [
        "#### [`extend()`](https://docs.python.org/3/tutorial/datastructures.html#:~:text=list.extend(iterable)) Añade varios elementos\n",
        "\n",
        "Añade varios elementos al final de la lista.\n",
        "\n",
        "Añadiremos las notas `[10.0,8.0,9.0]` En la lista de Penélope Camacho."
      ],
      "metadata": {
        "id": "uQV91XMsUOJD"
      }
    },
    {
      "cell_type": "code",
      "source": [
        "lista.extend([10.0,8.0,9.0])"
      ],
      "metadata": {
        "id": "6Zk2MpMw8rQc"
      },
      "execution_count": 28,
      "outputs": []
    },
    {
      "cell_type": "code",
      "source": [
        "lista"
      ],
      "metadata": {
        "id": "NnoKkoWb8rTQ",
        "colab": {
          "base_uri": "https://localhost:8080/"
        },
        "outputId": "5c360184-3d81-4e5b-d5d7-172eb66d99ce"
      },
      "execution_count": 29,
      "outputs": [
        {
          "output_type": "execute_result",
          "data": {
            "text/plain": [
              "['Penélope Camacho', 9.5, 10, 9.7, True, 9.733333333333333, 10.0, 8.0, 9.0]"
            ]
          },
          "metadata": {},
          "execution_count": 29
        }
      ]
    },
    {
      "cell_type": "markdown",
      "source": [
        "*A continuación te mostraremos lo que no puede realizarse con* `append`."
      ],
      "metadata": {
        "id": "IVJvkTwNUk6M"
      }
    },
    {
      "cell_type": "code",
      "source": [
        "lista.append([10.0,8.0,9.0])"
      ],
      "metadata": {
        "id": "u3Eub2ZL8pp3"
      },
      "execution_count": 30,
      "outputs": []
    },
    {
      "cell_type": "code",
      "source": [
        "lista"
      ],
      "metadata": {
        "id": "tsKK5Ne58pvN",
        "colab": {
          "base_uri": "https://localhost:8080/"
        },
        "outputId": "9a4281ff-3f66-4108-fa43-a3721e2ba9a6"
      },
      "execution_count": 31,
      "outputs": [
        {
          "output_type": "execute_result",
          "data": {
            "text/plain": [
              "['Penélope Camacho',\n",
              " 9.5,\n",
              " 10,\n",
              " 9.7,\n",
              " True,\n",
              " 9.733333333333333,\n",
              " 10.0,\n",
              " 8.0,\n",
              " 9.0,\n",
              " [10.0, 8.0, 9.0]]"
            ]
          },
          "metadata": {},
          "execution_count": 31
        }
      ]
    },
    {
      "cell_type": "markdown",
      "source": [
        "#### [`remove()`](https://docs.python.org/3/tutorial/datastructures.html#:~:text=append(x).-,list.remove(x),-Remove%20the%20first) Remueve un elemento\n",
        "\n",
        "Remueve un elemento específico de la lista."
      ],
      "metadata": {
        "id": "dPGM5gpyUX1z"
      }
    },
    {
      "cell_type": "code",
      "source": [
        "lista.remove([10.0, 8.0, 9.0])"
      ],
      "metadata": {
        "id": "mmboODPc8nd5"
      },
      "execution_count": 32,
      "outputs": []
    },
    {
      "cell_type": "code",
      "source": [
        "lista"
      ],
      "metadata": {
        "id": "T_w6vVgV8nh_",
        "colab": {
          "base_uri": "https://localhost:8080/"
        },
        "outputId": "73020994-66b0-47a7-a7c5-0170d2f5c33d"
      },
      "execution_count": 33,
      "outputs": [
        {
          "output_type": "execute_result",
          "data": {
            "text/plain": [
              "['Penélope Camacho', 9.5, 10, 9.7, True, 9.733333333333333, 10.0, 8.0, 9.0]"
            ]
          },
          "metadata": {},
          "execution_count": 33
        }
      ]
    },
    {
      "cell_type": "markdown",
      "source": [
        "####insert() Insertar un elemento en una posición específica\n",
        "\n",
        "La sintaxis es lista.insert(indice, elemento), donde \"lista\" es la lista que recibirá el nuevo elemento, \"indice\" es la posición donde se insertará el nuevo elemento y \"elemento\" es el nuevo elemento que se insertará."
      ],
      "metadata": {
        "id": "1K-nGGD6vJ_P"
      }
    },
    {
      "cell_type": "code",
      "source": [
        "razas_de_perros = ['Labrador Retriever',\n",
        "                   'Bulldog Francés',\n",
        "                   'Pastor Alemán',\n",
        "                   'Poodle']"
      ],
      "metadata": {
        "id": "4CmLb4ZNvWo4"
      },
      "execution_count": 35,
      "outputs": []
    },
    {
      "cell_type": "code",
      "source": [
        "razas_de_perros.insert(1, 'Golden Retriever')\n",
        "razas_de_perros"
      ],
      "metadata": {
        "id": "AchCMDPqvVP0",
        "outputId": "397bfae4-65c1-4e08-a948-e2fd9afff5f6",
        "colab": {
          "base_uri": "https://localhost:8080/"
        }
      },
      "execution_count": 36,
      "outputs": [
        {
          "output_type": "execute_result",
          "data": {
            "text/plain": [
              "['Labrador Retriever',\n",
              " 'Golden Retriever',\n",
              " 'Bulldog Francés',\n",
              " 'Pastor Alemán',\n",
              " 'Poodle']"
            ]
          },
          "metadata": {},
          "execution_count": 36
        }
      ]
    },
    {
      "cell_type": "markdown",
      "source": [
        "Siguiendo este enfoque, la estructura lista.insert(len(lista), elemento) es equivalente al uso del método append()"
      ],
      "metadata": {
        "id": "OyaZW2u3vc0w"
      }
    },
    {
      "cell_type": "markdown",
      "source": [
        "#### index() devuelve el índice de un elemento específico en la lista\n",
        "\n",
        "Para hacerlo, especificamos el elemento entre paréntesis. Para encontrar el índice de la raza \"Pastor Alemán\" en la lista, hacemos lo siguiente:"
      ],
      "metadata": {
        "id": "Ri0M_sKEvy2N"
      }
    },
    {
      "cell_type": "code",
      "source": [
        "razas_de_perros.index('Pastor Alemán')"
      ],
      "metadata": {
        "id": "-8a7lFSGv3xD",
        "outputId": "99eb6134-8cb8-442b-b6ea-8758a920ee36",
        "colab": {
          "base_uri": "https://localhost:8080/"
        }
      },
      "execution_count": 38,
      "outputs": [
        {
          "output_type": "execute_result",
          "data": {
            "text/plain": [
              "2"
            ]
          },
          "metadata": {},
          "execution_count": 38
        }
      ]
    },
    {
      "cell_type": "markdown",
      "source": [
        "####pop() elimina el elemento en una posición específica\n",
        "\n",
        "Solo necesitamos especificar, entre paréntesis, el índice del elemento que deseamos eliminar, y se eliminará de la lista. Por lo tanto, eliminemos la raza \"Golden Retriever\" que agregamos en el método anterior."
      ],
      "metadata": {
        "id": "1YsT5U85ve2w"
      }
    },
    {
      "cell_type": "code",
      "source": [
        "razas_de_perros.pop(1)"
      ],
      "metadata": {
        "id": "2-hUu5PevtBP",
        "outputId": "04373212-10c6-41ca-98d0-ac642d6cc7bc",
        "colab": {
          "base_uri": "https://localhost:8080/",
          "height": 35
        }
      },
      "execution_count": 37,
      "outputs": [
        {
          "output_type": "execute_result",
          "data": {
            "text/plain": [
              "'Golden Retriever'"
            ],
            "application/vnd.google.colaboratory.intrinsic+json": {
              "type": "string"
            }
          },
          "metadata": {},
          "execution_count": 37
        }
      ]
    },
    {
      "cell_type": "markdown",
      "source": [
        "#### sort() ordena los elementos de la lista en orden ascendente o descendente\n",
        "\n",
        "Si son palabras, el orden se basa en el orden alfabético o en el orden inverso. Para ordenar los valores, simplemente llamamos al método sort(), y la lista se organizará en orden. Para ordenar alfabéticamente la lista de razas de perros, podemos usar el siguiente código:"
      ],
      "metadata": {
        "id": "nlmUvNhsv8I9"
      }
    },
    {
      "cell_type": "code",
      "source": [
        "razas_de_perros.sort()\n",
        "razas_de_perros"
      ],
      "metadata": {
        "id": "oAuVfCuUwI5g",
        "outputId": "7e077755-22ca-4648-ba82-4e42583c5c07",
        "colab": {
          "base_uri": "https://localhost:8080/"
        }
      },
      "execution_count": 39,
      "outputs": [
        {
          "output_type": "execute_result",
          "data": {
            "text/plain": [
              "['Bulldog Francés', 'Labrador Retriever', 'Pastor Alemán', 'Poodle']"
            ]
          },
          "metadata": {},
          "execution_count": 39
        }
      ]
    },
    {
      "cell_type": "markdown",
      "source": [
        "## Diccionario"
      ],
      "metadata": {
        "id": "Rc22Vc08YDZ2"
      }
    },
    {
      "cell_type": "markdown",
      "source": [
        "Los diccionarios son un tipo de estructura de datos que almacenan pares de *llave-valor*. Estos son delimitados por llaves `{}` y los pares *llave-valor* son separados por comas.\n",
        "\n",
        "```\n",
        "diccionario = {llave: valor}\n",
        "```\n",
        "\n",
        "La **llave** es un elemento único que identifica a un valor en el diccionario, mientras que el **valor** es el item que será almacenado para la llave. Las llaves y sus respectivos valores se pueden emplear para **cualquier tipo de dato**.\n",
        "\n",
        "Los diccionarios son útiles para almacenar y acceder a los datos de manera organizada y rápida. Se trata de un tipo de conjunto de elementos en Python, pues almacenan una colección de items."
      ],
      "metadata": {
        "id": "PJ-cCKPjeWxL"
      }
    },
    {
      "cell_type": "code",
      "source": [
        "diccionario = {'llave_1':1,\n",
        "               'llave_2':2}\n",
        "\n",
        "diccionario"
      ],
      "metadata": {
        "id": "NDHhzooE8ld5",
        "colab": {
          "base_uri": "https://localhost:8080/"
        },
        "outputId": "f1b4b2a7-dd06-4d44-a6b6-a7b8d31b3109"
      },
      "execution_count": 40,
      "outputs": [
        {
          "output_type": "execute_result",
          "data": {
            "text/plain": [
              "{'llave_1': 1, 'llave_2': 2}"
            ]
          },
          "metadata": {},
          "execution_count": 40
        }
      ]
    },
    {
      "cell_type": "code",
      "source": [
        "type(diccionario)"
      ],
      "metadata": {
        "id": "AVOzqzy-8lhh",
        "colab": {
          "base_uri": "https://localhost:8080/"
        },
        "outputId": "644a028b-2a8b-4137-b2bc-2062e02fadbf"
      },
      "execution_count": 41,
      "outputs": [
        {
          "output_type": "execute_result",
          "data": {
            "text/plain": [
              "dict"
            ]
          },
          "metadata": {},
          "execution_count": 41
        }
      ]
    },
    {
      "cell_type": "markdown",
      "source": [
        "---\n",
        "**Situación:**\n",
        "\n",
        "Vamos a crear un conjunto de datos con las informaciones de matrícula de un estudiante. Los datos son los siguientes:\n",
        "\n",
        "- matrícula: 2000168933\n",
        "- día de registro: 25\n",
        "- mes de registro: 10\n",
        "- grupo: 2E"
      ],
      "metadata": {
        "id": "_JbQ3KMKfkXU"
      }
    },
    {
      "cell_type": "code",
      "source": [
        "estudiante = {\n",
        "              'matrícula': 2000168933,\n",
        "              'día de registro': 25,\n",
        "              'mes de registro': 10,\n",
        "              'grupo': '2E'\n",
        "              }\n",
        "estudiante"
      ],
      "metadata": {
        "id": "0lfOu_c38jED",
        "colab": {
          "base_uri": "https://localhost:8080/"
        },
        "outputId": "c6485ead-843b-46e8-d9f2-ff643ff3cd6d"
      },
      "execution_count": 45,
      "outputs": [
        {
          "output_type": "execute_result",
          "data": {
            "text/plain": [
              "{'matrícula': 2000168933,\n",
              " 'día de registro': 25,\n",
              " 'mes de registro': 10,\n",
              " 'grupo': '2E'}"
            ]
          },
          "metadata": {},
          "execution_count": 45
        }
      ]
    },
    {
      "cell_type": "code",
      "source": [
        "estudiante['matrícula']"
      ],
      "metadata": {
        "id": "XIuqpTTy8jHV",
        "colab": {
          "base_uri": "https://localhost:8080/"
        },
        "outputId": "b82af33d-8c18-438d-944c-0acf1a6ee14b"
      },
      "execution_count": 47,
      "outputs": [
        {
          "output_type": "execute_result",
          "data": {
            "text/plain": [
              "2000168933"
            ]
          },
          "metadata": {},
          "execution_count": 47
        }
      ]
    },
    {
      "cell_type": "code",
      "source": [
        "estudiante['grupo']"
      ],
      "metadata": {
        "id": "zgnEsiU4xUX0",
        "outputId": "f228362c-8511-4234-94c1-de8dd586c813",
        "colab": {
          "base_uri": "https://localhost:8080/",
          "height": 35
        }
      },
      "execution_count": 48,
      "outputs": [
        {
          "output_type": "execute_result",
          "data": {
            "text/plain": [
              "'2E'"
            ],
            "application/vnd.google.colaboratory.intrinsic+json": {
              "type": "string"
            }
          },
          "metadata": {},
          "execution_count": 48
        }
      ]
    },
    {
      "cell_type": "markdown",
      "source": [
        "Es posible sustituir los valores dentro de una llave. Por ejemplo, recibimos la información de que el grupo del estudiante que registramos cambio a `'2G'` y ahora necesitamos cambiar el valor de la llave `'grupo'`."
      ],
      "metadata": {
        "id": "8ex5pt2ykDd2"
      }
    },
    {
      "cell_type": "code",
      "source": [
        "estudiante['matrícula']= '2G'"
      ],
      "metadata": {
        "id": "kQGlp36b8fyP"
      },
      "execution_count": 49,
      "outputs": []
    },
    {
      "cell_type": "code",
      "source": [
        "estudiante['matrícula']"
      ],
      "metadata": {
        "id": "DnfH_qHi8f17",
        "colab": {
          "base_uri": "https://localhost:8080/",
          "height": 35
        },
        "outputId": "1c925655-208f-4f9b-b6cf-5f94aa927f9b"
      },
      "execution_count": 50,
      "outputs": [
        {
          "output_type": "execute_result",
          "data": {
            "text/plain": [
              "'2G'"
            ],
            "application/vnd.google.colaboratory.intrinsic+json": {
              "type": "string"
            }
          },
          "metadata": {},
          "execution_count": 50
        }
      ]
    },
    {
      "cell_type": "markdown",
      "source": [
        "También podemos añadir otros datos al diccionario. Vamos a añadir la información sobre la modalidad de estudio, nuestro estudiante estudiará inicialemente en la modalidad EAD.\n",
        "\n",
        "Definiremos una llave llamada `'modalidad'` con el valor `'EAD'`."
      ],
      "metadata": {
        "id": "wB0qRb56mQvv"
      }
    },
    {
      "cell_type": "code",
      "source": [
        "estudiante['modalidad']='EAD'"
      ],
      "metadata": {
        "id": "EeLYdlIm8d8a"
      },
      "execution_count": 51,
      "outputs": []
    },
    {
      "cell_type": "code",
      "source": [
        "estudiante"
      ],
      "metadata": {
        "id": "olDIavsm8d_o",
        "colab": {
          "base_uri": "https://localhost:8080/"
        },
        "outputId": "73f77852-3fa7-4cb5-c478-19d7270993cb"
      },
      "execution_count": 52,
      "outputs": [
        {
          "output_type": "execute_result",
          "data": {
            "text/plain": [
              "{'matrícula': '2G',\n",
              " 'día de registro': 25,\n",
              " 'mes de registro': 10,\n",
              " 'grupo': '2E',\n",
              " 'modalidad': 'EAD'}"
            ]
          },
          "metadata": {},
          "execution_count": 52
        }
      ]
    },
    {
      "cell_type": "code",
      "source": [
        "len(estudiante)"
      ],
      "metadata": {
        "id": "XT26rU4hxubR",
        "outputId": "847e1d87-084c-4aad-d007-9a9468f4c153",
        "colab": {
          "base_uri": "https://localhost:8080/"
        }
      },
      "execution_count": 53,
      "outputs": [
        {
          "output_type": "execute_result",
          "data": {
            "text/plain": [
              "5"
            ]
          },
          "metadata": {},
          "execution_count": 53
        }
      ]
    },
    {
      "cell_type": "markdown",
      "source": [
        "## Profundizando en diccionarios"
      ],
      "metadata": {
        "id": "LJ3o_inroxg_"
      }
    },
    {
      "cell_type": "markdown",
      "source": [
        "#### [`pop()`](https://python-reference.readthedocs.io/en/latest/docs/dict/pop.html) Remueve un item\n",
        "Remueve un item de un diccionario y lo representa en la salida."
      ],
      "metadata": {
        "id": "2N3GLlkSpBiu"
      }
    },
    {
      "cell_type": "code",
      "source": [
        "estudiante.pop('grupo')"
      ],
      "metadata": {
        "id": "ZsSCZx6G8b-T",
        "colab": {
          "base_uri": "https://localhost:8080/",
          "height": 35
        },
        "outputId": "dfc5c6ef-c255-44cf-d11c-f78aab0d82f4"
      },
      "execution_count": 54,
      "outputs": [
        {
          "output_type": "execute_result",
          "data": {
            "text/plain": [
              "'2E'"
            ],
            "application/vnd.google.colaboratory.intrinsic+json": {
              "type": "string"
            }
          },
          "metadata": {},
          "execution_count": 54
        }
      ]
    },
    {
      "cell_type": "code",
      "source": [
        "estudiante"
      ],
      "metadata": {
        "id": "pDNQBNJoySzU",
        "outputId": "60f8b6d1-d3b6-4cc8-ea6f-ecb45a6156e6",
        "colab": {
          "base_uri": "https://localhost:8080/"
        }
      },
      "execution_count": 55,
      "outputs": [
        {
          "output_type": "execute_result",
          "data": {
            "text/plain": [
              "{'matrícula': '2G',\n",
              " 'día de registro': 25,\n",
              " 'mes de registro': 10,\n",
              " 'modalidad': 'EAD'}"
            ]
          },
          "metadata": {},
          "execution_count": 55
        }
      ]
    },
    {
      "cell_type": "markdown",
      "source": [
        "#### [`items()`](https://python-reference.readthedocs.io/en/latest/docs/dict/items.html) retorna un lista de pares\n",
        "Retorna una lista de pares `llave-valor` del diccionario."
      ],
      "metadata": {
        "id": "sYZGvJJYrW_y"
      }
    },
    {
      "cell_type": "code",
      "source": [
        "estudiante.items()"
      ],
      "metadata": {
        "id": "ncdycLV08an7",
        "colab": {
          "base_uri": "https://localhost:8080/"
        },
        "outputId": "c72f45d1-2599-4773-fde9-8fdc496bc798"
      },
      "execution_count": 56,
      "outputs": [
        {
          "output_type": "execute_result",
          "data": {
            "text/plain": [
              "dict_items([('matrícula', '2G'), ('día de registro', 25), ('mes de registro', 10), ('modalidad', 'EAD')])"
            ]
          },
          "metadata": {},
          "execution_count": 56
        }
      ]
    },
    {
      "cell_type": "markdown",
      "source": [
        "#### [`keys()`](https://python-reference.readthedocs.io/en/latest/docs/dict/keys.html) da las llaves\n",
        "Retorna una lista de las llaves del diccionario."
      ],
      "metadata": {
        "id": "Lb0utNFGrZBY"
      }
    },
    {
      "cell_type": "code",
      "source": [
        "estudiante.keys()"
      ],
      "metadata": {
        "id": "eZo0biaM8ZVs",
        "colab": {
          "base_uri": "https://localhost:8080/"
        },
        "outputId": "ffaa34af-c4b2-480d-88e9-b29e2ebc2b84"
      },
      "execution_count": 57,
      "outputs": [
        {
          "output_type": "execute_result",
          "data": {
            "text/plain": [
              "dict_keys(['matrícula', 'día de registro', 'mes de registro', 'modalidad'])"
            ]
          },
          "metadata": {},
          "execution_count": 57
        }
      ]
    },
    {
      "cell_type": "markdown",
      "source": [
        "#### [`values()`](https://python-reference.readthedocs.io/en/latest/docs/dict/values.html) da los valores\n",
        "Retorna una lista de los valores del diccionario."
      ],
      "metadata": {
        "id": "qKyu3bf9rbtX"
      }
    },
    {
      "cell_type": "code",
      "source": [
        "estudiante.values()"
      ],
      "metadata": {
        "id": "-NxRT9C18Yvo",
        "colab": {
          "base_uri": "https://localhost:8080/"
        },
        "outputId": "83bf3367-9b7a-4847-b518-e7a02508dacd"
      },
      "execution_count": 58,
      "outputs": [
        {
          "output_type": "execute_result",
          "data": {
            "text/plain": [
              "dict_values(['2G', 25, 10, 'EAD'])"
            ]
          },
          "metadata": {},
          "execution_count": 58
        }
      ]
    },
    {
      "cell_type": "markdown",
      "source": [
        "### Lectura de valores con el lazo `for`"
      ],
      "metadata": {
        "id": "e3XVjR8Frp75"
      }
    },
    {
      "cell_type": "code",
      "source": [
        "for llave in estudiante.keys():\n",
        "  print(llave)"
      ],
      "metadata": {
        "id": "NYcjU-Ip8Xan",
        "colab": {
          "base_uri": "https://localhost:8080/"
        },
        "outputId": "1822e665-0709-4849-c7b6-351a8ac005aa"
      },
      "execution_count": 59,
      "outputs": [
        {
          "output_type": "stream",
          "name": "stdout",
          "text": [
            "matrícula\n",
            "día de registro\n",
            "mes de registro\n",
            "modalidad\n"
          ]
        }
      ]
    },
    {
      "cell_type": "code",
      "source": [
        "for llave,valor in estudiante.items():\n",
        "  print(llave, '-->', valor)"
      ],
      "metadata": {
        "id": "aAnpP1Wv8XfJ",
        "colab": {
          "base_uri": "https://localhost:8080/"
        },
        "outputId": "d67665b6-e8e4-464a-cf91-8c57a747ae1a"
      },
      "execution_count": 60,
      "outputs": [
        {
          "output_type": "stream",
          "name": "stdout",
          "text": [
            "matrícula --> 2G\n",
            "día de registro --> 25\n",
            "mes de registro --> 10\n",
            "modalidad --> EAD\n"
          ]
        }
      ]
    },
    {
      "cell_type": "markdown",
      "source": [
        "##Listas en diccionarios\n",
        "\n",
        "Podemos asociar estructuras de datos a otras estructuras de datos, como ocurre cuando tenemos listas dentro de diccionarios. En este caso, las listas pueden ser almacenadas en los valores de un diccionario de tal manera que cada clave puede tener una lista asociada a ella. Esto es útil cuando necesitamos almacenar varios valores relacionados con una sola clave. Por ejemplo, podemos construir un conjunto de datos de una tienda que contenga una clave con los nombres de cada producto y otra clave con los precios correspondientes, como se muestra en el código a continuación:"
      ],
      "metadata": {
        "id": "8IKZTfrnzPNf"
      }
    },
    {
      "cell_type": "code",
      "source": [
        "tienda = {'nombres': ['televisión', 'celular', 'notebook', 'geladeira', 'estufa'],\n",
        "          'precios': [2000, 1500, 3500, 4000, 1500]}"
      ],
      "metadata": {
        "id": "E4xBcTo0zWXR"
      },
      "execution_count": 61,
      "outputs": []
    },
    {
      "cell_type": "markdown",
      "source": [
        "Para acceder a los valores, podemos utilizar una estructura de bucles for:"
      ],
      "metadata": {
        "id": "D3ux9Nn4zZYO"
      }
    },
    {
      "cell_type": "code",
      "source": [
        "for clave, elementos in tienda.items():\n",
        "  print(f'Clave: {clave}\\nElementos:')\n",
        "  for dato in elementos:\n",
        "    print(dato)"
      ],
      "metadata": {
        "id": "I3k9LHlHzZ2i",
        "outputId": "6d381829-b3ba-4bc6-f907-4f9dfce2133f",
        "colab": {
          "base_uri": "https://localhost:8080/"
        }
      },
      "execution_count": 62,
      "outputs": [
        {
          "output_type": "stream",
          "name": "stdout",
          "text": [
            "Clave: nombres\n",
            "Elementos:\n",
            "televisión\n",
            "celular\n",
            "notebook\n",
            "geladeira\n",
            "estufa\n",
            "Clave: precios\n",
            "Elementos:\n",
            "2000\n",
            "1500\n",
            "3500\n",
            "4000\n",
            "1500\n"
          ]
        }
      ]
    },
    {
      "cell_type": "markdown",
      "source": [
        "El primer bucle, el más externo, recorre los elementos dentro del diccionario (claves y elementos). Sabiendo que los elementos son listas, podemos acceder a los datos de las listas con otro bucle anidado que se encuentra dentro del primer bucle. El bucle más interno recorre los elementos de cada lista uno a uno e imprime los valores dentro de ellas.\n",
        "\n",
        "Además, podemos realizar operaciones comunes en las listas, como agregar, eliminar o contar elementos en la lista asociada a una clave del diccionario. Puedes copiar los códigos anteriores y ejecutarlos en Colab para verificar la salida."
      ],
      "metadata": {
        "id": "vp0C3VmwzoE7"
      }
    },
    {
      "cell_type": "markdown",
      "source": [
        "# Funciones incorporadas en Python\n"
      ],
      "metadata": {
        "id": "9bLEgQhHzyLX"
      }
    },
    {
      "cell_type": "markdown",
      "source": [
        "##sum()\n",
        "\n",
        "La función sum() permite sumar los elementos de una secuencia o estructura de datos. En el siguiente ejemplo, vamos a sumar los precios de productos:"
      ],
      "metadata": {
        "id": "v3FXbvxSz4Se"
      }
    },
    {
      "cell_type": "code",
      "source": [
        "precios = [100.0, 400.0, 200.0]\n",
        "suma = sum(precios)\n",
        "suma"
      ],
      "metadata": {
        "id": "33GtJLWcz7h6",
        "outputId": "24a18a85-22d7-40ff-ca7d-39b752ffbd91",
        "colab": {
          "base_uri": "https://localhost:8080/"
        }
      },
      "execution_count": 63,
      "outputs": [
        {
          "output_type": "execute_result",
          "data": {
            "text/plain": [
              "700.0"
            ]
          },
          "metadata": {},
          "execution_count": 63
        }
      ]
    },
    {
      "cell_type": "markdown",
      "source": [
        "##help() documentación de funciones\n",
        "Se utiliza para acceder a la documentación de funciones, métodos y otros elementos de Python. Muestra información en inglés sobre la funcionalidad, sintaxis y uso de un objeto específico. Para usar esta función, simplemente pasa el elemento deseado entre paréntesis. Por ejemplo, vamos a verificar la documentación de la función print():"
      ],
      "metadata": {
        "id": "XyLri0f5z88A"
      }
    },
    {
      "cell_type": "code",
      "source": [
        "help(print)"
      ],
      "metadata": {
        "id": "_pHN5tc20HAl",
        "outputId": "a5f4297d-372f-40c3-f8dd-c3371d6fe456",
        "colab": {
          "base_uri": "https://localhost:8080/"
        }
      },
      "execution_count": 64,
      "outputs": [
        {
          "output_type": "stream",
          "name": "stdout",
          "text": [
            "Help on built-in function print in module builtins:\n",
            "\n",
            "print(*args, sep=' ', end='\\n', file=None, flush=False)\n",
            "    Prints the values to a stream, or to sys.stdout by default.\n",
            "    \n",
            "    sep\n",
            "      string inserted between values, default a space.\n",
            "    end\n",
            "      string appended after the last value, default a newline.\n",
            "    file\n",
            "      a file-like object (stream); defaults to the current sys.stdout.\n",
            "    flush\n",
            "      whether to forcibly flush the stream.\n",
            "\n"
          ]
        }
      ]
    },
    {
      "cell_type": "markdown",
      "source": [
        "##dir()  mostrar una lista de atributos y métodos asociados a un elemento\n"
      ],
      "metadata": {
        "id": "6DoLTO4y0Lxc"
      }
    },
    {
      "cell_type": "code",
      "source": [
        "lista = [1,2,3]\n",
        "dir(lista)"
      ],
      "metadata": {
        "id": "9d9EKSUX0ToJ",
        "outputId": "7e2fb8b4-10bb-4cd6-ee7d-6bc97c950ee7",
        "colab": {
          "base_uri": "https://localhost:8080/"
        }
      },
      "execution_count": 65,
      "outputs": [
        {
          "output_type": "execute_result",
          "data": {
            "text/plain": [
              "['__add__',\n",
              " '__class__',\n",
              " '__class_getitem__',\n",
              " '__contains__',\n",
              " '__delattr__',\n",
              " '__delitem__',\n",
              " '__dir__',\n",
              " '__doc__',\n",
              " '__eq__',\n",
              " '__format__',\n",
              " '__ge__',\n",
              " '__getattribute__',\n",
              " '__getitem__',\n",
              " '__getstate__',\n",
              " '__gt__',\n",
              " '__hash__',\n",
              " '__iadd__',\n",
              " '__imul__',\n",
              " '__init__',\n",
              " '__init_subclass__',\n",
              " '__iter__',\n",
              " '__le__',\n",
              " '__len__',\n",
              " '__lt__',\n",
              " '__mul__',\n",
              " '__ne__',\n",
              " '__new__',\n",
              " '__reduce__',\n",
              " '__reduce_ex__',\n",
              " '__repr__',\n",
              " '__reversed__',\n",
              " '__rmul__',\n",
              " '__setattr__',\n",
              " '__setitem__',\n",
              " '__sizeof__',\n",
              " '__str__',\n",
              " '__subclasshook__',\n",
              " 'append',\n",
              " 'clear',\n",
              " 'copy',\n",
              " 'count',\n",
              " 'extend',\n",
              " 'index',\n",
              " 'insert',\n",
              " 'pop',\n",
              " 'remove',\n",
              " 'reverse',\n",
              " 'sort']"
            ]
          },
          "metadata": {},
          "execution_count": 65
        }
      ]
    },
    {
      "cell_type": "markdown",
      "source": [
        "Es útil conocer varias funciones incorporadas y cómo funcionan, ya que ayudan mucho en la creación de código. Para obtener más información sobre las funciones, puedes consultar la documentación de Python."
      ],
      "metadata": {
        "id": "nKxqBIxA0XnR"
      }
    },
    {
      "cell_type": "markdown",
      "source": [
        "## Desafios"
      ],
      "metadata": {
        "id": "8GyTpBOu0dJU"
      }
    },
    {
      "cell_type": "markdown",
      "source": [
        "###Entrenando la programación\n",
        "\n",
        "1 - Crea un programa que tenga la siguiente lista con los gastos de una empresa de papel [2172.54, 3701.35, 3518.09, 3456.61, 3249.38, 2840.82, 3891.45, 3075.26, 2317.64, 3219.08]. Con estos valores, crea un programa que calcule el promedio de gastos. Sugerencia: usa las funciones integradas sum() y len().\n",
        "\n"
      ],
      "metadata": {
        "id": "mcBi3xTT0hg3"
      }
    },
    {
      "cell_type": "code",
      "source": [
        "list_gastos = [2172.54, 3701.35, 3518.09, 3456.61, 3249.38, 2840.82, 3891.45, 3075.26, 2317.64, 3219.08]"
      ],
      "metadata": {
        "id": "8h1X0RUt0mKU"
      },
      "execution_count": 1,
      "outputs": []
    },
    {
      "cell_type": "code",
      "source": [
        "suma_gastos = sum(list_gastos)\n",
        "suma_gastos\n",
        "\n",
        "cantidad_gastos = len(list_gastos)\n",
        "cantidad_gastos\n",
        "\n",
        "promedio_gastos = suma_gastos / cantidad_gastos\n",
        "promedio_gastos\n",
        "\n",
        "print('La suma de los gastos es {}, entre la cantidad de gastos ({}), da un promedio de {}'.format(suma_gastos, cantidad_gastos, promedio_gastos))"
      ],
      "metadata": {
        "id": "nxRbpIaJZWVT",
        "outputId": "d5985466-5bcc-4097-f774-19b47905ff72",
        "colab": {
          "base_uri": "https://localhost:8080/"
        }
      },
      "execution_count": 4,
      "outputs": [
        {
          "output_type": "stream",
          "name": "stdout",
          "text": [
            "La suma de los gastos es 31442.22, entre la cantidad de gastos (10), da un promedio de 3144.222\n"
          ]
        }
      ]
    },
    {
      "cell_type": "markdown",
      "source": [
        "2 - Con los mismos datos de la pregunta anterior, determina cuántas compras se realizaron por encima de 3000 reales y calcula el porcentaje con respecto al total de compras."
      ],
      "metadata": {
        "id": "ofSaoOld0nd7"
      }
    },
    {
      "cell_type": "code",
      "source": [
        "contador = 0\n",
        "for i in list_gastos:\n",
        "  if i > 3000:\n",
        "    contador += 1\n",
        "\n",
        "print(contador)"
      ],
      "metadata": {
        "id": "7ic31Rk50o09",
        "outputId": "c01e44ef-c835-4fbd-b1fb-ce158e18282f",
        "colab": {
          "base_uri": "https://localhost:8080/"
        }
      },
      "execution_count": 9,
      "outputs": [
        {
          "output_type": "stream",
          "name": "stdout",
          "text": [
            "7\n"
          ]
        }
      ]
    },
    {
      "cell_type": "markdown",
      "source": [
        "3 - Crea un código que recoja en una lista 5 números enteros aleatorios e imprima la lista. Ejemplo: [1, 4, 7, 2, 4]."
      ],
      "metadata": {
        "id": "7JJbCsDP0pJr"
      }
    },
    {
      "cell_type": "code",
      "source": [
        "numeros = [1,2,3,4,5,6,7,8,9,10]\n",
        "import random\n",
        "lista_aleatoria = random.sample(numeros, 5)\n",
        "print(lista_aleatoria)"
      ],
      "metadata": {
        "id": "YPFGC0gk0q13",
        "outputId": "2a61b995-d4b7-452b-c5b9-d55f3fe44184",
        "colab": {
          "base_uri": "https://localhost:8080/"
        }
      },
      "execution_count": 15,
      "outputs": [
        {
          "output_type": "stream",
          "name": "stdout",
          "text": [
            "[7, 6, 1, 8, 9]\n"
          ]
        }
      ]
    },
    {
      "cell_type": "markdown",
      "source": [
        "4 - Recoge nuevamente 5 números enteros e imprime la lista en orden inverso al enviado."
      ],
      "metadata": {
        "id": "lS_RCupp0qay"
      }
    },
    {
      "cell_type": "code",
      "source": [
        "numeros = [1,2,3,4,5,6,7,8,9,10]\n",
        "import random\n",
        "lista_aleatoria = random.sample(numeros, 5)\n",
        "print(lista_aleatoria)\n",
        "\n",
        "lista_aleatoria.reverse()\n",
        "print(lista_aleatoria)"
      ],
      "metadata": {
        "id": "9WU51EI30sq4",
        "outputId": "8078ad4e-a0f5-4819-a75c-d8489182a73f",
        "colab": {
          "base_uri": "https://localhost:8080/"
        }
      },
      "execution_count": 17,
      "outputs": [
        {
          "output_type": "stream",
          "name": "stdout",
          "text": [
            "[6, 10, 1, 4, 7]\n",
            "[7, 4, 1, 10, 6]\n"
          ]
        }
      ]
    },
    {
      "cell_type": "markdown",
      "source": [
        "5 - Crea un programa que, al ingresar un número cualquiera, genere una lista que contenga todos los números primos entre 1 y el número ingresado."
      ],
      "metadata": {
        "id": "ViV9d4Vm0tDf"
      }
    },
    {
      "cell_type": "code",
      "source": [
        "# prompt: Crea un programa que, al ingresar un número cualquiera, genere una lista que contenga todos los números primos entre 1 y el número ingresado.\n",
        "\n",
        "def es_primo(numero):\n",
        "  \"\"\"\n",
        "  Verifica si un número es primo.\n",
        "\n",
        "  Args:\n",
        "    numero: El número entero a verificar.\n",
        "\n",
        "  Returns:\n",
        "    True si el número es primo, False en caso contrario.\n",
        "  \"\"\"\n",
        "  if numero <= 1:\n",
        "    return False\n",
        "  for i in range(2, int(numero**0.5) + 1):\n",
        "    if numero % i == 0:\n",
        "      return False\n",
        "  return True\n",
        "\n",
        "def primos_hasta_n(n):\n",
        "  \"\"\"\n",
        "  Genera una lista de números primos hasta n.\n",
        "\n",
        "  Args:\n",
        "    n: El límite superior del rango.\n",
        "\n",
        "  Returns:\n",
        "    Una lista de números primos.\n",
        "  \"\"\"\n",
        "  primos = []\n",
        "  for i in range(2, n + 1):\n",
        "    if es_primo(i):\n",
        "      primos.append(i)\n",
        "  return primos\n",
        "\n",
        "numero = int(input(\"Ingrese un número entero: \"))\n",
        "lista_primos = primos_hasta_n(numero)\n",
        "print(f\"Los números primos entre 1 y {numero} son: {lista_primos}\")\n"
      ],
      "metadata": {
        "id": "rv5Q_deM0u19"
      },
      "execution_count": null,
      "outputs": []
    },
    {
      "cell_type": "markdown",
      "source": [
        "6 - Escribe un programa que pida una fecha, especificando el día, mes y año, y determine si es válida para su análisis."
      ],
      "metadata": {
        "id": "_7_MlEyj0vQ2"
      }
    },
    {
      "cell_type": "code",
      "source": [
        "# prompt: Escribe un programa que pida una fecha, especificando el día, mes y año, y determine si es válida para su análisis.\n",
        "\n",
        "def es_fecha_valida(dia, mes, año):\n",
        "    \"\"\"\n",
        "    Verifica si una fecha es válida.\n",
        "\n",
        "    Args:\n",
        "        dia: El día de la fecha.\n",
        "        mes: El mes de la fecha.\n",
        "        año: El año de la fecha.\n",
        "\n",
        "    Returns:\n",
        "        True si la fecha es válida, False en caso contrario.\n",
        "    \"\"\"\n",
        "\n",
        "    if not isinstance(dia, int) or not isinstance(mes, int) or not isinstance(año, int):\n",
        "      return False\n",
        "\n",
        "    if año < 0:\n",
        "        return False  # Año no puede ser negativo\n",
        "\n",
        "    if mes < 1 or mes > 12:\n",
        "        return False  # Mes inválido\n",
        "\n",
        "    dias_por_mes = [0, 31, 28, 31, 30, 31, 30, 31, 31, 30, 31, 30, 31]\n",
        "    if año % 4 == 0 and (año % 100 != 0 or año % 400 == 0):\n",
        "        dias_por_mes[2] = 29  # Año bisiesto\n",
        "\n",
        "    if dia < 1 or dia > dias_por_mes[mes]:\n",
        "        return False  # Día inválido para el mes y año\n",
        "\n",
        "    return True\n",
        "\n",
        "# Obtener la fecha del usuario\n",
        "dia = int(input(\"Ingrese el día: \"))\n",
        "mes = int(input(\"Ingrese el mes: \"))\n",
        "año = int(input(\"Ingrese el año: \"))\n",
        "\n",
        "# Verificar si la fecha es válida\n",
        "if es_fecha_valida(dia, mes, año):\n",
        "    print(\"La fecha es válida.\")\n",
        "else:\n",
        "    print(\"La fecha no es válida.\")\n"
      ],
      "metadata": {
        "id": "Cbk0G3uy0wnj"
      },
      "execution_count": null,
      "outputs": []
    },
    {
      "cell_type": "markdown",
      "source": [
        "###Momento para los proyectos\n",
        "\n",
        "7 - Para un estudio sobre la multiplicación de bacterias en una colonia, se recopiló el número de bacterias multiplicadas por día y se puede observar a continuación: [1.2, 2.1, 3.3, 5.0, 7.8, 11.3, 16.6, 25.1, 37.8, 56.9]. Con estos valores, crea un código que genere una lista que contenga el porcentaje de crecimiento de bacterias por día, comparando el número de bacterias en cada día con el número de bacterias del día anterior. Sugerencia: para calcular el porcentaje de crecimiento, utiliza la siguiente ecuación: 100 * (muestra_actual - muestra_anterior) / muestra_anterior."
      ],
      "metadata": {
        "id": "YQMYfWTs0w7D"
      }
    },
    {
      "cell_type": "code",
      "source": [
        "multipli_bacterias = [1.2, 2.1, 3.3, 5.0, 7.8, 11.3, 16.6, 25.1, 37.8, 56.9]\n",
        "\n",
        "for indice, valor in enumerate(multipli_bacterias):\n",
        "  if indice == 0:\n",
        "    continue\n",
        "  else:\n",
        "    porcentaje_crecimiento = 100 * (valor - multipli_bacterias[indice - 1]) / multipli_bacterias[indice - 1]\n",
        "    print(porcentaje_crecimiento)"
      ],
      "metadata": {
        "id": "txoujJ3200xg",
        "outputId": "f7fe9a98-219e-465a-89a1-466c10ef0b68",
        "colab": {
          "base_uri": "https://localhost:8080/"
        }
      },
      "execution_count": 32,
      "outputs": [
        {
          "output_type": "stream",
          "name": "stdout",
          "text": [
            "75.00000000000001\n",
            "57.142857142857125\n",
            "51.51515151515153\n",
            "56.0\n",
            "44.87179487179489\n",
            "46.90265486725664\n",
            "51.20481927710843\n",
            "50.59760956175297\n",
            "50.52910052910054\n"
          ]
        }
      ]
    },
    {
      "cell_type": "markdown",
      "source": [
        "8 - Para una selección de productos alimenticios, debemos separar el conjunto de IDs proporcionados por números enteros, sabiendo que los productos con ID par son dulces y los que tienen ID impar son amargos. Crea un código que recoja 10 IDs. Luego, calcula y muestra la cantidad de productos dulces y amargos."
      ],
      "metadata": {
        "id": "jSoal6qK00UQ"
      }
    },
    {
      "cell_type": "code",
      "source": [
        "# prompt: Para una selección de productos alimenticios, debemos separar el conjunto de IDs proporcionados por números enteros, sabiendo que los productos con ID par son dulces y los que tienen ID impar son amargos. Crea un código que recoja 10 IDs. Luego, calcula y muestra la cantidad de productos dulces y amargos.\n",
        "\n",
        "import random\n",
        "\n",
        "def clasificar_productos(ids):\n",
        "  \"\"\"Clasifica productos por ID par (dulces) o impar (amargos).\n",
        "\n",
        "  Args:\n",
        "    ids: Una lista de IDs de productos.\n",
        "\n",
        "  Returns:\n",
        "    Un diccionario con la cantidad de productos dulces y amargos.\n",
        "  \"\"\"\n",
        "  dulces = 0\n",
        "  amargos = 0\n",
        "  for id_producto in ids:\n",
        "    if id_producto % 2 == 0:\n",
        "      dulces += 1\n",
        "    else:\n",
        "      amargos += 1\n",
        "  return {\"dulces\": dulces, \"amargos\": amargos}\n",
        "\n",
        "# Generar 10 IDs aleatorios\n",
        "ids_productos = random.sample(range(1, 101), 10)  # IDs entre 1 y 100\n",
        "\n",
        "# Clasificar los productos\n",
        "clasificacion = clasificar_productos(ids_productos)\n",
        "\n",
        "# Mostrar los resultados\n",
        "print(\"IDs de productos:\", ids_productos)\n",
        "print(\"Cantidad de productos dulces:\", clasificacion[\"dulces\"])\n",
        "print(\"Cantidad de productos amargos:\", clasificacion[\"amargos\"])\n"
      ],
      "metadata": {
        "id": "aCg03MDIl26K",
        "outputId": "66fed0d3-5256-4535-ae39-a6473245cc8c",
        "colab": {
          "base_uri": "https://localhost:8080/"
        }
      },
      "execution_count": 35,
      "outputs": [
        {
          "output_type": "stream",
          "name": "stdout",
          "text": [
            "IDs de productos: [23, 31, 1, 30, 20, 18, 79, 68, 41, 81]\n",
            "Cantidad de productos dulces: 4\n",
            "Cantidad de productos amargos: 6\n"
          ]
        }
      ]
    },
    {
      "cell_type": "markdown",
      "source": [
        "9 - Desarrolla un programa que informe la puntuación de un estudiante de acuerdo con sus respuestas. Debe pedir la respuesta del estudiante para cada pregunta y verificar si la respuesta coincide con el resultado. Cada pregunta vale un punto y hay opciones A, B, C o D."
      ],
      "metadata": {
        "id": "FY1HxG6O04hr"
      }
    },
    {
      "cell_type": "code",
      "source": [
        "Resultado del examen:\n",
        "01 - D\n",
        "02 - A\n",
        "03 - C\n",
        "04 - B\n",
        "05 - A\n",
        "06 - D\n",
        "07 - C\n",
        "08 - C\n",
        "09 - A\n",
        "10 - B"
      ],
      "metadata": {
        "id": "v1fv2Eo6091A"
      },
      "execution_count": null,
      "outputs": []
    },
    {
      "cell_type": "code",
      "source": [
        "respuestas_correctas = {1:\"D\", 2:\"A\", 3:\"C\", 4:\"B\", 5:\"A\", 6:\"D\", 7:\"C\", 8:\"C\", 9:\"A\", 10:\"B\"}\n",
        "\n",
        "resultado = 0\n",
        "\n",
        "for pregunta, respuesta_correcta in respuestas_correctas.items():\n",
        "  respuesta_estudiante = input(\"Pregunta {}: Ingresa tu respuesta (A, B, C o D): \".format(pregunta)).upper()\n",
        "  if respuesta_estudiante == respuesta_correcta:\n",
        "    resultado += 1\n",
        "\n",
        "print(\"Puntuación final: {}/10\".format(resultado))"
      ],
      "metadata": {
        "id": "ewlNXUzampfr",
        "outputId": "b50ec0a8-9b38-4615-89d0-6bb9a95b6a9f",
        "colab": {
          "base_uri": "https://localhost:8080/"
        }
      },
      "execution_count": 39,
      "outputs": [
        {
          "output_type": "stream",
          "name": "stdout",
          "text": [
            "Pregunta 1: Ingresa tu respuesta (A, B, C o D): A\n",
            "Pregunta 2: Ingresa tu respuesta (A, B, C o D): B\n",
            "Pregunta 3: Ingresa tu respuesta (A, B, C o D): C\n",
            "Pregunta 4: Ingresa tu respuesta (A, B, C o D): D\n",
            "Pregunta 5: Ingresa tu respuesta (A, B, C o D): A\n",
            "Pregunta 6: Ingresa tu respuesta (A, B, C o D): B\n",
            "Pregunta 7: Ingresa tu respuesta (A, B, C o D): C\n",
            "Pregunta 8: Ingresa tu respuesta (A, B, C o D): D\n",
            "Pregunta 9: Ingresa tu respuesta (A, B, C o D): A\n",
            "Pregunta 10: Ingresa tu respuesta (A, B, C o D): B\n",
            "Puntuación final: 5/10\n"
          ]
        }
      ]
    },
    {
      "cell_type": "markdown",
      "source": [
        "10 - Un instituto de meteorología desea realizar un estudio de la temperatura media de cada mes del año. Para ello, debes crear un código que recoja y almacene esas temperaturas medias en una lista. Luego, calcula el promedio anual de las temperaturas y muestra todas las temperaturas por encima del promedio anual y en qué mes ocurrieron, mostrando los meses por su nombre (Enero, Febrero, etc.)."
      ],
      "metadata": {
        "id": "SnueX83c07sZ"
      }
    },
    {
      "cell_type": "code",
      "source": [
        "Meses = ['Enero', 'Febrero', 'Marzo', 'Abril', 'Mayo', 'Junio', 'Julio', 'Agosto', 'Septiembre', 'Octubre', 'Noviembre', 'Diciembre']\n",
        "suma_tempe = 0\n",
        "Tempera_medias = {}\n",
        "\n",
        "for numero, mes in enumerate(Meses):\n",
        "  temperatura = float(input(\"Ingrese la temperatura media de {}: \".format(mes)))\n",
        "  suma_tempe =+ temperatura\n",
        "  Tempera_medias[mes]=temperatura\n",
        "\n",
        "\n",
        "for numero,mes in Tempera_medias.items():\n",
        "  print(numero, '-->', mes)\n",
        "\n",
        "print('La temperatura media anual fue {}'.format(suma_tempe/len(Meses)))\n"
      ],
      "metadata": {
        "id": "xM0mvQ8m0_KX",
        "outputId": "9769378a-089c-4260-beec-04f776da9fd9",
        "colab": {
          "base_uri": "https://localhost:8080/"
        }
      },
      "execution_count": 44,
      "outputs": [
        {
          "output_type": "stream",
          "name": "stdout",
          "text": [
            "Ingrese la temperatura media de Enero: 1\n",
            "Ingrese la temperatura media de Febrero: 2\n",
            "Ingrese la temperatura media de Marzo: 3\n",
            "Ingrese la temperatura media de Abril: 4\n",
            "Ingrese la temperatura media de Mayo: 5\n",
            "Ingrese la temperatura media de Junio: 6\n",
            "Ingrese la temperatura media de Julio: 7\n",
            "Ingrese la temperatura media de Agosto: 8\n",
            "Ingrese la temperatura media de Septiembre: 9\n",
            "Ingrese la temperatura media de Octubre: 10\n",
            "Ingrese la temperatura media de Noviembre: 11\n",
            "Ingrese la temperatura media de Diciembre: 12\n",
            "Enero --> 1.0\n",
            "Febrero --> 2.0\n",
            "Marzo --> 3.0\n",
            "Abril --> 4.0\n",
            "Mayo --> 5.0\n",
            "Junio --> 6.0\n",
            "Julio --> 7.0\n",
            "Agosto --> 8.0\n",
            "Septiembre --> 9.0\n",
            "Octubre --> 10.0\n",
            "Noviembre --> 11.0\n",
            "Diciembre --> 12.0\n",
            "La temperatura media anual es 1.0\n"
          ]
        }
      ]
    },
    {
      "cell_type": "markdown",
      "source": [
        "11 - Una empresa de comercio electrónico está interesada en analizar las ventas de sus productos. Los datos de ventas se han almacenado en un diccionario:"
      ],
      "metadata": {
        "id": "OSeri61N1BLq"
      }
    },
    {
      "cell_type": "code",
      "source": [
        "ventas = {'Producto A': 300, 'Producto B': 80, 'Producto C': 60, 'Producto D': 200, 'Producto E': 250, 'Producto F': 30}"
      ],
      "metadata": {
        "id": "TRirp38V1DJl"
      },
      "execution_count": 46,
      "outputs": []
    },
    {
      "cell_type": "markdown",
      "source": [
        "Escribe un código que calcule el total de ventas y el producto más vendido."
      ],
      "metadata": {
        "id": "BR_Ged1q1HrF"
      }
    },
    {
      "cell_type": "code",
      "source": [
        "total_ventas = sum(ventas.values())\n",
        "\n",
        "producto_mas_vendido = max(ventas, key=ventas.get)\n",
        "\n",
        "print(\"Total de ventas: {}\". format(total_ventas))\n",
        "print(\"Producto más vendido:{}\".format(producto_mas_vendido))"
      ],
      "metadata": {
        "id": "XPOO6ef31BdW",
        "outputId": "14beab08-b15d-4d56-83d8-4a25c91968fa",
        "colab": {
          "base_uri": "https://localhost:8080/"
        }
      },
      "execution_count": 56,
      "outputs": [
        {
          "output_type": "stream",
          "name": "stdout",
          "text": [
            "Total de ventas: 920\n",
            "Producto más vendido:Producto A\n"
          ]
        }
      ]
    },
    {
      "cell_type": "markdown",
      "source": [
        "12 - Se realizó una encuesta de mercado para decidir cuál diseño de marca infantil es más atractivo para los niños. Los votos de la encuesta se pueden ver a continuación:"
      ],
      "metadata": {
        "id": "JD_9_-Rn1Ful"
      }
    },
    {
      "cell_type": "code",
      "source": [
        "Tabla de votos de la marca\n",
        "Diseño 1 - 1334 votos\n",
        "Diseño 2 - 982 votos\n",
        "Diseño 3 - 1751 votos\n",
        "Diseño 4 - 210 votos\n",
        "Diseño 5 - 1811 votos"
      ],
      "metadata": {
        "id": "xQYEJTa51J9T"
      },
      "execution_count": null,
      "outputs": []
    },
    {
      "cell_type": "markdown",
      "source": [
        "Adapta los datos proporcionados a una estructura de diccionario. A partir de ello, informa el diseño ganador y el porcentaje de votos recibidos."
      ],
      "metadata": {
        "id": "_mgazn961N6o"
      }
    },
    {
      "cell_type": "code",
      "source": [
        "votos = {\n",
        "    'Diseño 1': 1334,\n",
        "    'Diseño 2': 982,\n",
        "    'Diseño 3': 1751,\n",
        "    'Diseño 4': 210,\n",
        "    'Diseño 5': 1811\n",
        "}\n",
        "\n",
        "total_votos = sum(votos.values())\n",
        "diseno_ganador = max(votos, key=votos.get)\n",
        "porcentaje_ganador = (votos[diseno_ganador] / total_votos) * 100\n",
        "\n",
        "print(f\"El diseño ganador es: {diseno_ganador}\")\n",
        "print(f\"Porcentaje de votos recibidos: {porcentaje_ganador:.2f}%\")\n"
      ],
      "metadata": {
        "id": "JJx87m4usMeo",
        "outputId": "1e82f6a0-a5fa-4f40-f725-763520dd5185",
        "colab": {
          "base_uri": "https://localhost:8080/"
        }
      },
      "execution_count": 57,
      "outputs": [
        {
          "output_type": "stream",
          "name": "stdout",
          "text": [
            "El diseño ganador es: Diseño 5\n",
            "Porcentaje de votos recibidos: 29.75%\n"
          ]
        }
      ]
    },
    {
      "cell_type": "markdown",
      "source": [
        "13 - Los empleados de un departamento de tu empresa recibirán una bonificación del 10% de su salario debido a un excelente rendimiento del equipo. El departamento de finanzas ha solicitado tu ayuda para verificar las consecuencias financieras de esta bonificación en los recursos. Se te ha enviado una lista con los salarios que recibirán la bonificación: [1172, 1644, 2617, 5130, 5532, 6341, 6650, 7238, 7685, 7782, 7903]. La bonificación de cada empleado no puede ser inferior a 200. En el código, convierte cada uno de los salarios en claves de un diccionario y la bonificación de cada salario en el valor correspondiente. Luego, informa el gasto total en bonificaciones, cuántos empleados recibieron la bonificación mínima y cuál fue el valor más alto de la bonificación proporcionada."
      ],
      "metadata": {
        "id": "HsAkAoz31QdY"
      }
    },
    {
      "cell_type": "code",
      "source": [
        "salarios = [1172, 1644, 2617, 5130, 5532, 6341, 6650, 7238, 7685, 7782, 7903]\n",
        "bonificaciones = {}\n",
        "minima_bonificacion = 200\n",
        "empleados_minima_bonificacion = 0\n",
        "gasto_total = 0\n",
        "mayor_bonificacion = 0\n",
        "\n",
        "for salario in salarios:\n",
        "  bonificacion = salario * 0.1\n",
        "  if bonificacion < minima_bonificacion:\n",
        "    bonificacion = minima_bonificacion\n",
        "    empleados_minima_bonificacion += 1\n",
        "  bonificaciones[salario] = bonificacion\n",
        "  gasto_total += bonificacion\n",
        "  if bonificacion > mayor_bonificacion:\n",
        "    mayor_bonificacion = bonificacion\n",
        "\n",
        "print(\"Gasto total en bonificaciones:\", gasto_total)\n",
        "print(\"Número de empleados con bonificación mínima:\", empleados_minima_bonificacion)\n",
        "print(\"Mayor bonificación otorgada:\", mayor_bonificacion)"
      ],
      "metadata": {
        "id": "4eYyCQ8Ss6rJ",
        "outputId": "2e8e44de-8837-4c90-b3f0-a4cbeb74316f",
        "colab": {
          "base_uri": "https://localhost:8080/"
        }
      },
      "execution_count": 60,
      "outputs": [
        {
          "output_type": "stream",
          "name": "stdout",
          "text": [
            "Gasto total en bonificaciones: 6087.8\n",
            "Número de empleados con bonificación mínima: 2\n",
            "Mayor bonificación otorgada: 790.3000000000001\n"
          ]
        }
      ]
    },
    {
      "cell_type": "markdown",
      "source": [
        "14 - Un equipo de científicos de datos está estudiando la diversidad biológica en un bosque. El equipo recopiló información sobre el número de especies de plantas y animales en cada área del bosque y almacenó estos datos en un diccionario. En él, la clave describe el área de los datos y los valores en las listas corresponden a las especies de plantas y animales en esas áreas, respectivamente."
      ],
      "metadata": {
        "id": "5JZVPh5I1Slo"
      }
    },
    {
      "cell_type": "code",
      "source": [
        "{'Área Norte': [2819, 7236], 'Área Leste': [1440, 9492], 'Área Sul': [5969, 7496], 'Área Oeste': [14446, 49688], 'Área Centro': [22558, 45148]}"
      ],
      "metadata": {
        "id": "fvRp-25H1UYs"
      },
      "execution_count": null,
      "outputs": []
    },
    {
      "cell_type": "markdown",
      "source": [
        "Escribe un código para calcular el promedio de especies por área e identificar el área con la mayor diversidad biológica. Sugerencia: utiliza las funciones incorporadas sum() y len()."
      ],
      "metadata": {
        "id": "B8UkiYq91Uvf"
      }
    },
    {
      "cell_type": "code",
      "source": [
        "datos_bosque = {\n",
        "    'Área Norte': [2819, 7236],\n",
        "    'Área Leste': [1440, 9492],\n",
        "    'Área Sul': [5969, 7496],\n",
        "    'Área Oeste': [14446, 49688],\n",
        "    'Área Centro': [22558, 45148]\n",
        "}\n",
        "\n",
        "promedio_especies = {}\n",
        "mayor_diversidad = 0\n",
        "area_mayor_diversidad = \"\"\n",
        "\n",
        "for area, especies in datos_bosque.items():\n",
        "  total_especies = sum(especies)\n",
        "  promedio = total_especies / len(especies)\n",
        "  promedio_especies[area] = promedio\n",
        "\n",
        "  if total_especies > mayor_diversidad:\n",
        "    mayor_diversidad = total_especies\n",
        "    area_mayor_diversidad = area\n",
        "\n",
        "print(\"Promedio de especies por área:\")\n",
        "for area, promedio in promedio_especies.items():\n",
        "  print(f\"{area}: {promedio:.2f}\")\n",
        "\n",
        "print(f\"\\nÁrea con mayor diversidad biológica: {area_mayor_diversidad} ({mayor_diversidad} especies)\")"
      ],
      "metadata": {
        "id": "P6OzUmtctPtP",
        "outputId": "cd33b98b-2de0-43f1-f188-202c594aa8ee",
        "colab": {
          "base_uri": "https://localhost:8080/"
        }
      },
      "execution_count": 59,
      "outputs": [
        {
          "output_type": "stream",
          "name": "stdout",
          "text": [
            "Promedio de especies por área:\n",
            "Área Norte: 5027.50\n",
            "Área Leste: 5466.00\n",
            "Área Sul: 6732.50\n",
            "Área Oeste: 32067.00\n",
            "Área Centro: 33853.00\n",
            "\n",
            "Área con mayor diversidad biológica: Área Centro (67706 especies)\n"
          ]
        }
      ]
    },
    {
      "cell_type": "markdown",
      "source": [
        "15 - El departamento de Recursos Humanos de tu empresa te pidió ayuda para analizar las edades de los colaboradores de 4 sectores de la empresa. Para ello, te proporcionaron los siguientes datos:"
      ],
      "metadata": {
        "id": "u7n790K81cNC"
      }
    },
    {
      "cell_type": "code",
      "source": [
        "{'Sector A': [22, 26, 30, 30, 35, 38, 40, 56, 57, 65],\n",
        " 'Sector B': [22, 24, 26, 33, 41, 49, 50, 54, 60, 64],\n",
        " 'Sector C': [23, 26, 26, 29, 34, 35, 36, 41, 52, 56],\n",
        " 'Sector D': [19, 20, 25, 27, 34, 39, 42, 44, 50, 65]}"
      ],
      "metadata": {
        "id": "9YJFZxRZ1e3I"
      },
      "execution_count": null,
      "outputs": []
    },
    {
      "cell_type": "markdown",
      "source": [
        "Dado que cada sector tiene 10 colaboradores, construye un código que calcule la media de edad de cada sector, la edad media general entre todos los sectores y cuántas personas están por encima de la edad media general."
      ],
      "metadata": {
        "id": "R9PqZDka1eX2"
      }
    },
    {
      "cell_type": "code",
      "source": [
        "# prompt: El departamento de Recursos Humanos de tu empresa te pidió ayuda para analizar las edades de los colaboradores de 4 sectores de la empresa. Para ello, te proporcionaron los siguientes datos: {'Sector A': [22, 26, 30, 30, 35, 38, 40, 56, 57, 65],\n",
        "#  'Sector B': [22, 24, 26, 33, 41, 49, 50, 54, 60, 64],\n",
        "#  'Sector C': [23, 26, 26, 29, 34, 35, 36, 41, 52, 56],\n",
        "#  'Sector D': [19, 20, 25, 27, 34, 39, 42, 44, 50, 65]}\n",
        "# Dado que cada sector tiene 10 colaboradores, construye un código que calcule la media de edad de cada sector, la edad media general entre todos los sectores y cuántas personas están por encima de la edad media general.\n",
        "\n",
        "edades_sectores = {\n",
        "    'Sector A': [22, 26, 30, 30, 35, 38, 40, 56, 57, 65],\n",
        "    'Sector B': [22, 24, 26, 33, 41, 49, 50, 54, 60, 64],\n",
        "    'Sector C': [23, 26, 26, 29, 34, 35, 36, 41, 52, 56],\n",
        "    'Sector D': [19, 20, 25, 27, 34, 39, 42, 44, 50, 65]\n",
        "}\n",
        "\n",
        "media_sectores = {}\n",
        "total_edades = 0\n",
        "total_colaboradores = 0\n",
        "\n",
        "for sector, edades in edades_sectores.items():\n",
        "    media_sectores[sector] = sum(edades) / len(edades)\n",
        "    total_edades += sum(edades)\n",
        "    total_colaboradores += len(edades)\n",
        "\n",
        "media_general = total_edades / total_colaboradores\n",
        "colaboradores_arriba_media = 0\n",
        "\n",
        "for edades in edades_sectores.values():\n",
        "    for edad in edades:\n",
        "        if edad > media_general:\n",
        "            colaboradores_arriba_media += 1\n",
        "\n",
        "print(\"Media de edades por sector:\")\n",
        "for sector, media in media_sectores.items():\n",
        "    print(f\"{sector}: {media:.2f}\")\n",
        "\n",
        "print(f\"\\nMedia general de edades: {media_general:.2f}\")\n",
        "print(f\"\\nNúmero de colaboradores por encima de la media general: {colaboradores_arriba_media}\")\n"
      ],
      "metadata": {
        "id": "Vk4nqwmq1j7J",
        "outputId": "68046394-b8d0-4136-96e7-ccdb065ce5d8",
        "colab": {
          "base_uri": "https://localhost:8080/"
        }
      },
      "execution_count": 61,
      "outputs": [
        {
          "output_type": "stream",
          "name": "stdout",
          "text": [
            "Media de edades por sector:\n",
            "Sector A: 39.90\n",
            "Sector B: 42.30\n",
            "Sector C: 35.80\n",
            "Sector D: 36.50\n",
            "\n",
            "Media general de edades: 38.62\n",
            "\n",
            "Número de colaboradores por encima de la media general: 18\n"
          ]
        }
      ]
    }
  ]
}