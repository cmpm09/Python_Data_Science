{
  "nbformat": 4,
  "nbformat_minor": 0,
  "metadata": {
    "colab": {
      "provenance": [],
      "authorship_tag": "ABX9TyM9m4Fz/1QvhVG2w/ii7Ff7",
      "include_colab_link": true
    },
    "kernelspec": {
      "name": "python3",
      "display_name": "Python 3"
    },
    "language_info": {
      "name": "python"
    }
  },
  "cells": [
    {
      "cell_type": "markdown",
      "metadata": {
        "id": "view-in-github",
        "colab_type": "text"
      },
      "source": [
        "<a href=\"https://colab.research.google.com/github/cmpm09/Python_Data_Science/blob/main/Modelado_de_bases_de_datos_entidades%2C_relaciones_y_atributos.ipynb\" target=\"_parent\"><img src=\"https://colab.research.google.com/assets/colab-badge.svg\" alt=\"Open In Colab\"/></a>"
      ]
    },
    {
      "cell_type": "markdown",
      "source": [
        "#**Modelado de bases de datos: entidades, relaciones y atributos**"
      ],
      "metadata": {
        "id": "VfPIR1ho6_Ld"
      }
    },
    {
      "cell_type": "markdown",
      "source": [
        "##Contexto ejercicio\n",
        "\n",
        "**Club del libro**\n",
        "Martha fue contratada por el club del libro porque ellos están en expansión. La empresa está creciendo, están vendiendo mucho y desean estructurar muy bien su base de datos.\n",
        "\n",
        "Martha entonces fue presentada con Pedro, que es una de las personas que trabaja con sistemas en la organización. Pedro y su equipo van a auxiliar a Martha, que es especialista en base de datos, con esta tarea.\n",
        "\n",
        "Acciones a realizar para conocer los pasos que debemos seguir para poder organizar la base de datos del Club del Libro\n",
        "\n",
        "\n",
        "*   Realizar un modelaje (dominio)\n",
        "*   Entrevista y reuniones con el cliente\n",
        "*   Entender los requisitos, las reglas del negocio\n",
        "*   Despúes ver el SGBD\n",
        "\n"
      ],
      "metadata": {
        "id": "dsy3FA0r7Bbm"
      }
    },
    {
      "cell_type": "markdown",
      "source": [
        "##Diferencia entre modelos\n",
        "\n",
        "El **modelado de datos** es uno de los procesos más importantes al trabajar en un proyecto de base de datos. Durante este proceso, los datos se recopilan, se tratan y se estructuran para crear una base sólida que permita construir una base de datos eficiente.\n",
        "\n",
        "Además del **modelo conceptual**, que se utiliza para comprender los requisitos del sistema y explorar las estructuras y conceptos del negocio, también podemos trabajar con otros dos modelos: el lógico y el físico.\n",
        "\n",
        "El **modelo lógico** se crea para describir cómo se almacenarán los datos en el sistema, explorando los conceptos del dominio. En este modelo se definen las entidades, los atributos, las claves principales y foráneas, así como sus relaciones.\n",
        "\n",
        "Por otro lado, el **modelo físico** se utiliza para describir las tablas, sus columnas y relaciones. A diferencia del modelo lógico, este modelo emplea un lenguaje específico para su representación: SQL, el lenguaje utilizado para trabajar con bases de datos relacionales."
      ],
      "metadata": {
        "id": "5G18a36v7BSF"
      }
    },
    {
      "cell_type": "markdown",
      "source": [
        "## Entendiendo SGBD\n",
        "Un Sistema de Gestión de Gase de Datos es precisamente la interfaz para que nosotros podamos trabajar con la base de datos, el software.\n",
        "\n",
        " * Nos permite a nosotros alterar, excluir, incluir, consultar todos los datos que se encuentran en nuestra base como tal.\n",
        " * Toda acción que se realice al interior de nuestra base de datos deberá hacerse a través de un SGBD.\n",
        " * A veces nos confundimos con estos términos porque parecen sinónimos, por ejemplo, \"vamos a trabajar con la base de datos MySQL\", lo que estamos es utilizando como una abreviacióN del sistema de gestión de la base de datos.\n",
        "\n",
        "Cuando hablamos de Oracle, MySQL, SQLServer estamos hablando de SGBDs.\n",
        "\n",
        "\n",
        "Ejemplo: ¿será importante que yo tenga un inventario, una biblioteca para saber cuántos libros hay? Sí se necesita, sí es importante.\n",
        "\n",
        "\n"
      ],
      "metadata": {
        "id": "Wpwwfnlv9ILw"
      }
    },
    {
      "cell_type": "markdown",
      "source": [
        "### Niveles de lenguaje\n",
        "####Alto\n",
        "Lenguaje del usuario, es decir, cuando hablamos de modelaje conceptual, estamos haciendo referencia al lenguaje de cotidiano del día a día.\n",
        "\n",
        "Entones, este entrenamiento el enfoque es el lenguaje de Alto nivel, el modelaje de nuestra base de datos.\n",
        "\n",
        "####Bajo\n",
        "lenguaje de máquina, al lenguaje que manejan los computadores.\n",
        "\n",
        "Un SGBD se relaciona mucho más con el lenguaje de bajo nivel."
      ],
      "metadata": {
        "id": "i5-_Rgi2_8B_"
      }
    },
    {
      "cell_type": "markdown",
      "source": [
        "##Escogiendo el software\n",
        "\n",
        "Como se trata de realizar un **modelo conceptual**, un esquema, se podría usar cualquier software, pero lo mejor es que se pueda convertir en un modelo lógico de forma fácil,\n",
        "\n",
        "###Herramientas para el modelaje\n",
        "Ejemplo: diagrams.net\n",
        "\n",
        "Es posible aplicar las técnicas de modelaje sin el uso de una herramienta CASE (Computer-Aided Software Engineering, o Ingeniería de Software Asistida por Computador), pero este trabajo manual sería bastante extenso. Además, la conversión del esquema conceptual al esquema lógico (rediseñando las formas, por ejemplo), puede tornar el trabajo exhaustivo y estresante. Al emplear una herramienta CASE logramos observar las alteraciones del modelo, conforme vamos tomando las decisiones (proceso “causa-efecto”).\n",
        "\n",
        "Pero, ¿Será que existe una herramienta CASE ideal?\n",
        "\n",
        "Una herramienta CASE necesita tener la capacidad de utilizar diversas formas geométricas para: desarrollar una buena representación visual, el diccionario de datos, la integración entre el diagrama entidad-relación y el diccionario de datos, además de posibilitar una mínima interacción con el usuario.\n",
        "\n",
        "Existen varias herramientas avanzadas disponibles en el mercado que pueden auxiliar el modelaje del banco de datos. Algunas de las más conocidas son:\n",
        "\n",
        "* OracleDesigner ™ (Oracle ®): Posee una arquitectura flexible y puede ser instalada en múltiples plataformas;\n",
        "*  PowerDesigner ™ (Sybase ®): Es uno de los más utilizados en el mercado;\n",
        "* ERWin (CA ®): Muy utilizado en el mercado, también;\n",
        "* Freeware DBDesigner: Posee una gran cantidad de recursos también;\n",
        "* PyDesigner: Disponible para la plataforma Linux;\n",
        "* VISIO ™ (Microsoft ®): Herramienta con enfoque exclusivo para el diseño.\n",
        "\n",
        "\n",
        "**Ventajas del diagrams.net  (ahora drawio,com)**\n",
        "* Permite realizar alteraciones estructurales al modelo, a medida que el analista toma nuevas decisiones;\n",
        "* Dar especial atención a los atributos y a todas sus especificaciones;\n",
        "* Posibilitar una visualización más “limpia” del esquema al ocultar los atributos que no tengan relevancia en el modelo conceptual, pero que sí importan en el modelo lógico, por ejemplo;\n",
        "* Posee un diccionario de datos muy completo."
      ],
      "metadata": {
        "id": "JbTZB6ue_yyU"
      }
    },
    {
      "cell_type": "code",
      "source": [
        "##Usando drawio.com.\n",
        "\n",
        "Nuestras herramientas son las que dicen: \"Relación con de la entidad\"\n",
        "\n",
        "En Vista se puede seleccionar que solo se queden esa sección.\n",
        "\n"
      ],
      "metadata": {
        "id": "T0SrV6WwBQvE"
      },
      "execution_count": null,
      "outputs": []
    },
    {
      "cell_type": "markdown",
      "source": [
        "##Minimundo\n",
        "Cuando nosotros hablamos de mini-mundo estamos haciendo referencias como a un recorte del mundo propiamente dicho. Entonces es tomar una pequeña porción de todo mi mundo para analizarla de forma detallada.\n",
        "\n",
        "Entonces nosotros debemos conocer muy bien nuestro Mini-Mundo para poder realizar la abstracción.\n",
        "\n",
        "Entonces, precisamente, el Mini-Mundo es este recorte del mundo real, porque nuestro conjunto de datos pues representa una porción, un fragmento o una parte de este mundo real nuestro.\n",
        "\n",
        "###Abstracción\n",
        "Se trata de un proceso mental que permite aislar un aspecto específico o un aspecto determinado de algo más complejo para poder simplificar su análisis.\n",
        "\n",
        "Yo tomar algo y poderlo remover de ahí para poderlo analizar de forma detallada. Entonces cuando nosotros realizamos la abstracción, nosotros tenemos la posibilidad de ignorar ciertos detalles. Entonces, cuando una persona está abstrayendo, puede enfocarse en algo muy puntual y no se desconcentra ni pierde su enfoque por lo que esté alrededor.\n",
        "\n",
        "Entonces este ejercicio, lógicamente no todos vamos a ver los mismos detalles.\n",
        "\n",
        "Puede tener un grado de subjetividad. Es como yo, tomar algo grande, digamos, y hacer un zoom-out, alejarme, observar y después de hacer un zoom-in de nuevo en ese aspecto que me quiero concentrar.\n",
        "\n",
        "Ejemplo: Explicar un caballo a alguien que nunca a visto uno, las descripciones varias.\n",
        "\n",
        "\n",
        "###De vuelta al ejercicio\n",
        "Entonces, la idea es que nosotros, al realizar la abstracción podamos ignorar ciertos detalles y enfocarnos en detalles específicos y en nuestro Mini-mundo entonces nosotros debemos pensar qué tengo yo, que qué es lo que vamos a hacer, cuál es el propósito de la e-commerce, qué es lo que quiere el Club del Libro a través de su base de datos.\n",
        "\n",
        "Tenemos a un cliente, libros y un autor.\n",
        "¿Entonces cómo yo relaciono a Carlos con los libros? ¿De qué manera yo puedo relacionar a Carlos con los libros? Carlos va a comprar estos libros. ¿Y cómo relaciono yo a Victoria con los libros? Victoria es quien escribe los libros. Sería como la autora de estos libros. Entonces aquí notamos nosotros que tenemos relaciones entre estas entidades.\n",
        "\n",
        "Entonces tengo de forma global nuestro Mini-mundo nos dice que tenemos clientes que compran libros que son de autoría de un escritor o de un autor, valga la redundancia. Entonces es precisamente esta la definición de una base de datos relacional, porque estamos estableciendo relaciones entre nuestras entidades.\n",
        "\n",
        "Existen bases de datos que no son relacionales, o sea, que no se preocupan con este tipo de relaciones. Sin embargo, ellas no son el foco de nuestro entrenamiento. Nosotros vamos a enfocarnos en el modelaje conceptual de una base de datos relacional."
      ],
      "metadata": {
        "id": "X3qzb_pRlpOV"
      }
    },
    {
      "cell_type": "markdown",
      "source": [
        "###Reunión con los directivos\n",
        "\n",
        "Requisitos:\n",
        "* Queremos recolectar los datos personales de nuestros clientes, saber si es Persona Natural o Jurídica. En el caso de persona natural, queremos su RUT y DNI, y en caso de que sea persona jurídica, queremos su NIT, y RUES. Adicionalmente, queremos recolectar y almacenar su nombre, dirección, teléfono e e-mail.\n",
        "\n",
        "* El producto principal de la e-commerce son libros. Estos libros contienen información asociada a ellos como el título, categoría, ISBN (International Standard Book Number), año de publicación, valor, la casa editorial que hizo la publicación, y también el autor/a de la obra.\n",
        "\n",
        "* Los libros son provistos por la editorial. Necesitamos tener el número de teléfono de la editorial (como máximo 2 números de teléfono), el nombre de contacto y el e-mail.\n",
        "\n",
        "* Sabemos que no podemos tener el mismo libro viniendo de varias editoriales. El libro es exclusivo de una editorial.\n",
        "\n",
        "* Nuestro cliente puede comprar uno o más libros a través de un pedido de compra. Sin embargo, siempre que se realice una compra necesitamos verificar en el inventario si el libro está o no disponible antes de efectuar la operación.\n"
      ],
      "metadata": {
        "id": "pAtyM-I3rv6V"
      }
    },
    {
      "cell_type": "markdown",
      "source": [
        "## MER\n",
        "Modelo Entidad-Relación. Es el modelo como tal. Entonces es un concepto abstracto, es el **modelo conceptual** que describe los objetos, sus características y cómo se relacionan.\n",
        "\n",
        "Entonces se trata de esta representación abstracta de la construcción de la base de datos, según también su comportamiento. Entonces ese sería el modelo de entidad-relación."
      ],
      "metadata": {
        "id": "fkgyIIohs0H0"
      }
    },
    {
      "cell_type": "markdown",
      "source": [
        "##DER\n",
        "Diagrama Entidad-Relación, DER, se trata de la representación gráfica del modelo entidad-relación (MER).\n",
        "\n",
        "Facilita la comunicación entre todos los miembros del equipo que están trabajando en la base de datos, todos los que están proyectando, porque visualmente permite que todos puedan entender cómo se van a establecer las relaciones entre las diversas entidades."
      ],
      "metadata": {
        "id": "Sy7DAOP8tVNU"
      }
    },
    {
      "cell_type": "markdown",
      "source": [
        "##Entidades\n",
        "Es un objeto único en el mundo real.Entonces se puede referir a una cosa o a una persona, a pesar de que estamos usando la palabra objeto, podemos referirnos a una persona como una entidad. Pueden ser abstractas o tangibles.\n",
        "\n",
        "Una forma de determinar si algún objeto es una entidad o no, podemos colocarle un artículo: el, la, los, las, un, una.\n",
        "\n",
        "Entonces por ejemplo, clientes de una empresa, carros que son vendidos, departamento de Ventas y los vendedores.\n",
        "\n",
        "**Diagrama**\n",
        "Son rectángulos\n",
        "\n",
        "Tipos\n",
        "* Entidad fuerte: Existe y no necesita de otras entidades para existir. Es independiente de otras entidades. Esta debe contener (como regla) un atributo exclusivo que es la clave princiapal.\n",
        "\n",
        "* Entidad débil: Depende de la existencia de otra entidad. Tendría una clave parcial que se puede complementar con la clave principal de la entidad fuerte.\n",
        "\n",
        "Ejemplo: Empleado (fuerte), asistente del empleado (débil).\n",
        "\n",
        "\n"
      ],
      "metadata": {
        "id": "ggI-LOYTWNFX"
      }
    },
    {
      "cell_type": "markdown",
      "source": [
        "###Identificando las entidades en los requisitos\n",
        "* Queremos recolectar los datos personales de nuestros **clientes(fuerte)**, saber si es Persona Natural o Jurídica. En el caso de persona natural, queremos su RUT y DNI, y en caso de que sea persona jurídica, queremos su NIT, y RUES. Adicionalmente, queremos recolectar y almacenar su nombre, dirección, teléfono e e-mail.\n",
        "\n",
        "* El producto principal de la e-commerce son **libros(débil)**. Estos libros contienen información asociada a ellos como el título, categoría, ISBN (International Standard Book Number), año de publicación, valor, la casa editorial que hizo la publicación, y también el autor/a de la obra.\n",
        "\n",
        "* Los libros son provistos por la **editorial(fuerte)**. Necesitamos tener el número de teléfono de la editorial (como máximo 2 números de teléfono), el nombre de contacto y el e-mail.\n",
        "\n",
        "* Sabemos que no podemos tener el mismo libro viniendo de varias editoriales. El libro es exclusivo de una editorial.\n",
        "\n",
        "* Nuestro cliente puede comprar uno o más libros a través de un **pedido de compra(débil)**. Sin embargo, siempre que se realice una compra necesitamos verificar en el **inventario(débil)** si el libro está o no disponible antes de efectuar la operación.\n"
      ],
      "metadata": {
        "id": "o-MGqdIUiD_A"
      }
    },
    {
      "cell_type": "markdown",
      "source": [
        "##Tipos de relaciones\n",
        "Se representan a través del rombo, que contiene una acción.\n",
        "\n",
        "**Grados de relación**\n",
        "* Binaria: 2 entidades\n",
        "* Ternaria: 3 entidades\n",
        "* N-area: 4 entidades en adelante\n",
        "\n",
        "##Cardinalidad\n",
        "Como se conectan las entidades\n",
        "\n",
        "**Tipos de Cardinalidad**\n",
        "* (1,1):  cuando cada ocurrencia de la entidad A se relaciona con tan solo una ocurrencia de la entidad B.\n",
        "\n",
        "* (0,1):\n",
        "\n",
        "* (1,N): cuando cada ocurrencia de la entidad A se relaciona con más de una ocurrencia de la entidad B.\n",
        "\n",
        "* (0,N)\n",
        "\n",
        "* (M,N): Más de una ocurrencia de la entidad A se relaciona con más de una ocurrencia de la entidad B\n",
        "\n",
        "Siempre hay que definir la cardinalidad mínima y la cardinalidad máxima.\n",
        "\n",
        "Ejemplo una casa comprada\n",
        "* Mínima:1\n",
        "* Máxima: >1 (N)\n",
        "\n",
        "Ejemplo una casa que se alquila\n",
        "* Mínima: 0\n",
        "* Máxima: >1 (N)"
      ],
      "metadata": {
        "id": "sRstzC5o6-l4"
      }
    },
    {
      "cell_type": "markdown",
      "source": [
        "##Restricción de participación\n",
        "De acuerdo con las referencias utilizadas para realizar tus estudios, puedes encontrar otra forma de representar la cardinalidad mínima, conocida como restricción de participación o dependencia de existencia.\n",
        "\n",
        "La restricción de participación es utilizada para especificar si la existencia de la entidad depende de la asociación a otra entidad, o sea, depende de la relación. Existen dos tipos de restricción de participación: restricción total y restricción parcial.\n",
        "\n",
        "La restricción total ocurre cuando todas las instancias de una entidad X necesitan estar obligatoriamente relacionadas a alguna instancia de la entidad Y. Por ejemplo: Si en las reglas de negocio del proyecto se estableció que todo(a) colaborador(a) necesita estar asociado a un departamento para que la persona pueda trabajar en la empresa, consideramos que la restricción de participación entre colaborador(a) y el departamento es total, pues, él/ella necesita estar trabajando en, como mínimo, un departamento.\n",
        "\n",
        "Ya la restricción parcial ocurre cuando todas las instancias de una entidad X no necesitan estar obligatoriamente relacionadas a cualquier instancia de la entidad Y. Por ejemplo: Todo departamento necesita ser gestionado por un(a) colaborador(a), pero no todo colaborador(a) necesita ser gerente de un departamento. Entonces, consideramos que la restricción de participación entre la relación referente a la gestión de un departamento por parte de un(a) colaborador(a) es una restricción parcial, ya que no todos los colaboradores van a gestionar un solo departamento.\n",
        "\n"
      ],
      "metadata": {
        "id": "6BR-h-Iva-Oq"
      }
    },
    {
      "cell_type": "markdown",
      "source": [
        "###Resolución de la relación muchos a muchos\n",
        "La interpretación de una relación de muchos a muchos puede variar en el análisis del mini mundo que estamos modelando. Entretanto, podemos conciliar estos casos por medio de lo que conocemos como solución de la relación de muchos a muchos.\n",
        "\n",
        "Todas las relaciones de muchos a muchos pueden entenderse como una entidad. Estas entidades se denominan asociativas, pues representan un hecho, una relación de muchos a muchos.\n",
        "\n",
        "Las entidades asociativas nos ayudan a organizar y a dejar de forma más explicativa lo que sucede dentro de una relación de muchos a muchos. Por ejemplo, cuando tenemos 2 entidades con relaciones N:M, con pedidos y piezas de una ensambladora de carros\n",
        "\n",
        "Un pedido podría contener varias piezas y una pieza podría estar incluída en varios pedidos diferentes.\n",
        "\n",
        "Cuando tenemos una relación de este tipo, en la cual todas las instancias se relacionan, el concepto de atributo clave no será aplicado, ya que podemos tener varias instancias con el mismo valor. Al crear una entidad asociativa entre esta relación, generaremos dos nuevas relaciones de uno a muchos (1:N), y la entidad asociativa será la única que recibirá varias instancias en la relación\n",
        "\n",
        "En la nueva relación creada entre pedidos e items la cardinalidad será representada de la siguiente forma: Un pedido puede estar relacionado a varios items, pero un item solo puede estar relacionado a un pedido. Ya, la relación entre piezas e items, la cardinalidad será representada de la siguiente forma: Una pieza puede estar relacionada a varios items, pero un item solo puede estar relacionado a una pieza.\n",
        "\n",
        "Así, obtenemos que la relación entre pedidos e items es N:1 y la relación entre items y piezas es 1:N, y la entidad asociativa items es el intermediario entre las entidades pedido y piezas."
      ],
      "metadata": {
        "id": "lBxclNCOcvoa"
      }
    },
    {
      "cell_type": "markdown",
      "source": [
        "##Señalando las características\n",
        "* Queremos recolectar los datos personales de nuestros clientes, saber si es **Persona Natural** o **Jurídica** . En el caso de persona natural, queremos su **RUT** y **DNI**, y en caso de que sea persona jurídica, queremos su **NIT**, y **RUES**. Adicionalmente, queremos recolectar y almacenar su **nombre**, **dirección**, **teléfono** e **e-mail.**\n",
        "\n",
        "* El producto principal de la e-commerce son libros. Estos libros contienen información asociada a ellos como el **título**, **categoría**, **ISBN** (International Standard Book Number), **año de publicación**, **valor**, la *casa editorial* que hizo la publicación, y también el **autor/a** de la obra.\n",
        "\n",
        "* Los libros son provistos por la editorial. Necesitamos tener el **número de teléfono** de la editorial (*como máximo 2 números de teléfono*), el **nombre de contacto** y el **e-mail.**\n",
        "\n",
        "* Sabemos que no podemos tener el mismo libro viniendo de varias editoriales. El libro es exclusivo de una editorial.\n",
        "\n",
        "* Nuestro cliente puede comprar uno o más libros a través de un pedido de compra. Sin embargo, siempre que se realice una compra necesitamos verificar en el inventario si el libro está o no disponible antes de efectuar la operación."
      ],
      "metadata": {
        "id": "cysd0ChxdXaQ"
      }
    },
    {
      "cell_type": "markdown",
      "source": [
        "##Diferentes tipos de atributos\n",
        "Los atributos describen las propiedades de las entidades. Por ejemplo, la entidad persona puede tener como atributos: Nombre, fecha de nacimiento, edad, dirección, etc. Al igual que las entidades, también existen algunos tipos de atributo. Estos son:\n",
        "\n",
        "**Atributo simple**\n",
        "Es un tipo de atributo indivisible, o sea, es un atributo atómico. Un ejemplo de este tipo es el atributo DNI, pues este no puede ser dividido en partes menores para formar otros atributos.\n",
        "\n",
        "**Atributo compuesto**\n",
        "Puede ser dividido en partes menores que representan otros atributos, como por ejemplo dirección. Esta puede ser subdividida en atributos menores, como: ciudad, estado, calle, código postal, etc.\n",
        "\n",
        "**Atributo multivalor**\n",
        "Es aquel que puede tener uno o N (varios) valores asociados a él. Por ejemplo: El atributo teléfono de un cliente. Este puede tener uno o varios números de teléfono.\n",
        "\n",
        "**Atributo derivado y almacenado**\n",
        "Los atributos derivados dependen de otro atributo o incluso de otra entidad para existir, como, edad y fecha de nacimiento. Para descubrir la edad de una persona, necesitamos de su fecha de nacimiento. Entonces, consideramos el atributo edad como derivado del atributo fecha de nacimiento, que también se conoce como atributo almacenado.\n",
        "\n",
        "**Atributo clave**\n",
        "Es utilizado para identificar de forma única una entidad, o sea, los valores asociados a este atributo son distintos entre el conjunto de entidades. Como ejemplo, podemos utilizar el Código del Producto. Este es único y puede ser utilizado como atributo clave, dado que cada producto recibe un código en particular."
      ],
      "metadata": {
        "id": "uIao2SeBE0Av"
      }
    },
    {
      "cell_type": "markdown",
      "source": [
        "##Clave foránea\n",
        "La entidad débil acaba recibiendo la clave principal de la entidad fuerte con la cual está asociada para componer la clave parcial.\n",
        "\n",
        "Como sabemos, la entidad débil no posee la clave principal. Por este motivo, podemos tener atributos identificadores propios de la entidad débil que van a componer esta clave parcial. Adicionalmente, tenemos la clave principal de la entidad fuerte, que se desplaza hacia la entidad débil.\n",
        "\n",
        "A esta clave que parte desde la entidad fuerte y llega a la entidad débil damos el nombre de clave foránea. Podríamos hacer una analogía con la palabra foránea, ya que ella originalmente pertenece a otra entidad, y viaja hasta la entidad de destino."
      ],
      "metadata": {
        "id": "d9yQtg3vHv8y"
      }
    },
    {
      "cell_type": "markdown",
      "source": [
        "##Resumen\n",
        "A lo largo de nuestra jornada pudimos observar la importancia de realizar un modelaje antes de proceder a ejecutarlo en un sistema de gestión de base de datos y vamos a retomar rápidamente lo que vimos.\n",
        "\n",
        "Aprendimos sobre entidades, que existen entidades fuertes que existen entidades débiles, las entidades fuertes están entonces representadas por un cuadrado como éste, un cuadrado simple, las entidades débiles por un cuadrado doble.\n",
        "\n",
        "Y que no puede existir una entidad débil sin una entidad fuerte que la anteceda. Aprendimos que las relaciones se representan a través de un rombo y que es la forma como nosotros podemos establecer un vínculo entre nuestras entidades. Aprendimos también sobre entidades asociativas que cuando tenemos una relación de muchos a muchos, entonces lo mejor es generar una entidad adicional que se conoce como entidad asociativa.\n",
        "\n",
        "Tenemos también atributos que son derivados que, por ejemplo, cuando tenemos un atributo principal y tenemos atributos que se desprenden de él, como es el caso de teléfono, cuando hay más de un número de teléfono, como es el caso de dirección, cuando hay más de una dirección, entonces tenemos atributos derivados.\n",
        "\n",
        "Y vimos también el tema de un atributo especializado cuando, por ejemplo, este atributo se puede subdividir dependiendo del tipo de situación que se presente, digamos para nuestro caso particular, nosotros podríamos tener un cliente que era persona natural o persona jurídica, entonces aquí pudimos a través de un atributo especializado, hacer esa separación.\n",
        "\n",
        "Y hablamos también sobre los atributos que son clave, principal que no se pueden repetir, que no pueden ser nulos y que únicamente se establecen en las entidades fuertes.\n"
      ],
      "metadata": {
        "id": "vgTJqg7mWRkA"
      }
    }
  ]
}
